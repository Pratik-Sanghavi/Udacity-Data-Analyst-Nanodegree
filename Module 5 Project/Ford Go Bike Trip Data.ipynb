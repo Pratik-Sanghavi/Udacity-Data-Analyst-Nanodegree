{
 "cells": [
  {
   "cell_type": "markdown",
   "id": "f9ac1ac4",
   "metadata": {},
   "source": [
    "# Module 5: Data Visualisation for Ford Go Bike Data"
   ]
  },
  {
   "cell_type": "markdown",
   "id": "ed668e0b",
   "metadata": {},
   "source": [
    "In this project, I will attempt to provide some insights into the usage patterns of Ford GoBike bike sharing system covering greater San Francisco Bay Area. Before moving on with the analysis itself, I will first investigate the dataset for the features that are captured so as to gain an idea as to what analysis is possible with the given data. This will be followed up by some data wrangling so as to make the data suitable for our analysis. Finally, we can get started with some visualisations illustrating our observation about the data. Thus we can divide our notebok into the following segments:\n",
    "\n",
    "1. Wrangle\n",
    "2. Explore\n",
    "3. Conclude"
   ]
  },
  {
   "cell_type": "markdown",
   "id": "c296a5ec",
   "metadata": {},
   "source": [
    "<a id='toc'></a>\n",
    "## Table of Contents \n",
    "1. [Wrangle](#wrangle)<br>\n",
    "&nbsp;1.1 [Gather](#gather)<br>\n",
    "&nbsp;&nbsp;&nbsp;1.1.1 [Import necessary libraries](#lib)<br>\n",
    "&nbsp;&nbsp;&nbsp;1.1.2 [Load Data](#load_data)<br>\n",
    "&nbsp;&nbsp;&nbsp;1.1.3 [High Level Overview of Data](#ovw)<br>\n",
    "&nbsp;&nbsp;&nbsp;1.1.4 [The Big Idea](#bigidea)<br>\n",
    "&nbsp;1.2 [Assess](#assess)<br>\n",
    "&nbsp;&nbsp;&nbsp;1.2.1 [Quality](#qual)<br>\n",
    "&nbsp;1.3 [Clean](#clean)<br>\n",
    "2. [Explore](#explore)<br>\n",
    "&nbsp;2.1 [Univariate Exploration of Data](#univariate)<br>\n",
    "&nbsp;&nbsp;&nbsp;2.1.1 [Bike sharing patterns by week](#weekpattern)<br>\n",
    "&nbsp;&nbsp;&nbsp;2.1.2 [Bike sharing patterns by day](#daypattern)<br>\n",
    "&nbsp;&nbsp;&nbsp;2.1.3 [Bike sharing patterns by hour](#hourpattern)<br>\n",
    "&nbsp;&nbsp;&nbsp;2.1.4 [Age distribution of Users](#agedist)<br>\n",
    "&nbsp;&nbsp;&nbsp;2.1.5 [Number of Bikes](#nbikes)<br>\n",
    "&nbsp;&nbsp;&nbsp;2.1.6 [Proportion of Users of each Gender](#gender_count)<br>\n",
    "&nbsp;2.2 [Bivariate Exploration of Data](#bivariate)<br>\n",
    "&nbsp;&nbsp;&nbsp;2.2.1 [Type of User and Duration of Use](#usertripduration)<br>\n",
    "&nbsp;&nbsp;&nbsp;2.2.2 [Gender of User and Duration of Use](#genderduration)<br>\n",
    "&nbsp;&nbsp;&nbsp;2.2.3 [Use by Hour by Different Genders](#hourgender)<br>\n",
    "&nbsp;&nbsp;&nbsp;2.2.4 [Bike stocks by Week for Different Locations](#bikestocks)<br>"
   ]
  },
  {
   "cell_type": "markdown",
   "id": "01a4ffd0",
   "metadata": {},
   "source": [
    "<a id='wrangle'></a>\n",
    "# 1. [Wrangle](#toc)\n",
    "Here we will\n",
    "- Gather\n",
    "- Assess\n",
    "- Clean <br>\n",
    "the data with the objective to make it suitable for processing by the subsequent sections. One important thing to heed here is that we might just draw some prelimnary insights to set our heading but the predominant analysis will be from the `Explore` and `Conclude` sections. Who knows? We might just get lucky and hit bullseye in the first section itself.  "
   ]
  },
  {
   "cell_type": "markdown",
   "id": "6862195c",
   "metadata": {},
   "source": [
    "<a id='gather'></a>\n",
    "## 1.1 [Gather](#toc)\n",
    "The data has already been gathered and stored in `201902-fordgobike-tripdata.csv`. This section might just be one of the shortest sections of the project! All we have to do is load our data onto a dataframe and bam! - we have our data."
   ]
  },
  {
   "cell_type": "markdown",
   "id": "047fb624",
   "metadata": {},
   "source": [
    "<a id='lib'></a>\n",
    "### 1.1.1 [Import Necessary Libraries](#toc)"
   ]
  },
  {
   "cell_type": "code",
   "execution_count": 1,
   "id": "6d431b3d",
   "metadata": {},
   "outputs": [],
   "source": [
    "import numpy as np\n",
    "import pandas as pd\n",
    "import matplotlib.pyplot as plt\n",
    "import seaborn as sb\n",
    "%matplotlib inline"
   ]
  },
  {
   "cell_type": "markdown",
   "id": "6ac50530",
   "metadata": {},
   "source": [
    "<a id='load_data'></a>\n",
    "### 1.1.2 [Load data](#toc)\n",
    "In this section, we will load the data for the given dataset to a dataframe - `df_bike_sharing`. We will also observe the different features so as to understand what we could be doing with the data. Note that here, we'll only be skimming over the data. The actual analysis and observations are more suitable to be captured in the `Exploratory Analysis` phase of the project. "
   ]
  },
  {
   "cell_type": "code",
   "execution_count": 2,
   "id": "a553a8be",
   "metadata": {},
   "outputs": [],
   "source": [
    "df_bike_sharing = pd.read_csv('201902-fordgobike-tripdata.csv')"
   ]
  },
  {
   "cell_type": "markdown",
   "id": "64cd21e4",
   "metadata": {},
   "source": [
    "<a id='ovw'></a>\n",
    "### 1.1.3 [High Level Overview of Data](#toc)\n",
    "In this section, we seek to observe the data given. What are the features given? Are there any missing values? What are the datatypes of the features captured? Some basic measures of centre and spread are also explored (some of them might not make sense such as those of id's but hey! - this is just the beginning. The future holds promise for us to improve!)"
   ]
  },
  {
   "cell_type": "code",
   "execution_count": 3,
   "id": "854f616b",
   "metadata": {},
   "outputs": [
    {
     "name": "stdout",
     "output_type": "stream",
     "text": [
      "<class 'pandas.core.frame.DataFrame'>\n",
      "RangeIndex: 183412 entries, 0 to 183411\n",
      "Data columns (total 16 columns):\n",
      " #   Column                   Non-Null Count   Dtype  \n",
      "---  ------                   --------------   -----  \n",
      " 0   duration_sec             183412 non-null  int64  \n",
      " 1   start_time               183412 non-null  object \n",
      " 2   end_time                 183412 non-null  object \n",
      " 3   start_station_id         183215 non-null  float64\n",
      " 4   start_station_name       183215 non-null  object \n",
      " 5   start_station_latitude   183412 non-null  float64\n",
      " 6   start_station_longitude  183412 non-null  float64\n",
      " 7   end_station_id           183215 non-null  float64\n",
      " 8   end_station_name         183215 non-null  object \n",
      " 9   end_station_latitude     183412 non-null  float64\n",
      " 10  end_station_longitude    183412 non-null  float64\n",
      " 11  bike_id                  183412 non-null  int64  \n",
      " 12  user_type                183412 non-null  object \n",
      " 13  member_birth_year        175147 non-null  float64\n",
      " 14  member_gender            175147 non-null  object \n",
      " 15  bike_share_for_all_trip  183412 non-null  object \n",
      "dtypes: float64(7), int64(2), object(7)\n",
      "memory usage: 22.4+ MB\n"
     ]
    },
    {
     "data": {
      "text/plain": [
       "None"
      ]
     },
     "metadata": {},
     "output_type": "display_data"
    }
   ],
   "source": [
    "# Columns, non null values and their data type\n",
    "display(df_bike_sharing.info())"
   ]
  },
  {
   "cell_type": "code",
   "execution_count": 4,
   "id": "03d4b3d6",
   "metadata": {},
   "outputs": [
    {
     "data": {
      "text/html": [
       "<div>\n",
       "<style scoped>\n",
       "    .dataframe tbody tr th:only-of-type {\n",
       "        vertical-align: middle;\n",
       "    }\n",
       "\n",
       "    .dataframe tbody tr th {\n",
       "        vertical-align: top;\n",
       "    }\n",
       "\n",
       "    .dataframe thead th {\n",
       "        text-align: right;\n",
       "    }\n",
       "</style>\n",
       "<table border=\"1\" class=\"dataframe\">\n",
       "  <thead>\n",
       "    <tr style=\"text-align: right;\">\n",
       "      <th></th>\n",
       "      <th>duration_sec</th>\n",
       "      <th>start_time</th>\n",
       "      <th>end_time</th>\n",
       "      <th>start_station_id</th>\n",
       "      <th>start_station_name</th>\n",
       "      <th>start_station_latitude</th>\n",
       "      <th>start_station_longitude</th>\n",
       "      <th>end_station_id</th>\n",
       "      <th>end_station_name</th>\n",
       "      <th>end_station_latitude</th>\n",
       "      <th>end_station_longitude</th>\n",
       "      <th>bike_id</th>\n",
       "      <th>user_type</th>\n",
       "      <th>member_birth_year</th>\n",
       "      <th>member_gender</th>\n",
       "      <th>bike_share_for_all_trip</th>\n",
       "    </tr>\n",
       "  </thead>\n",
       "  <tbody>\n",
       "    <tr>\n",
       "      <th>0</th>\n",
       "      <td>52185</td>\n",
       "      <td>2019-02-28 17:32:10.1450</td>\n",
       "      <td>2019-03-01 08:01:55.9750</td>\n",
       "      <td>21.0</td>\n",
       "      <td>Montgomery St BART Station (Market St at 2nd St)</td>\n",
       "      <td>37.789625</td>\n",
       "      <td>-122.400811</td>\n",
       "      <td>13.0</td>\n",
       "      <td>Commercial St at Montgomery St</td>\n",
       "      <td>37.794231</td>\n",
       "      <td>-122.402923</td>\n",
       "      <td>4902</td>\n",
       "      <td>Customer</td>\n",
       "      <td>1984.0</td>\n",
       "      <td>Male</td>\n",
       "      <td>No</td>\n",
       "    </tr>\n",
       "    <tr>\n",
       "      <th>1</th>\n",
       "      <td>42521</td>\n",
       "      <td>2019-02-28 18:53:21.7890</td>\n",
       "      <td>2019-03-01 06:42:03.0560</td>\n",
       "      <td>23.0</td>\n",
       "      <td>The Embarcadero at Steuart St</td>\n",
       "      <td>37.791464</td>\n",
       "      <td>-122.391034</td>\n",
       "      <td>81.0</td>\n",
       "      <td>Berry St at 4th St</td>\n",
       "      <td>37.775880</td>\n",
       "      <td>-122.393170</td>\n",
       "      <td>2535</td>\n",
       "      <td>Customer</td>\n",
       "      <td>NaN</td>\n",
       "      <td>NaN</td>\n",
       "      <td>No</td>\n",
       "    </tr>\n",
       "    <tr>\n",
       "      <th>2</th>\n",
       "      <td>61854</td>\n",
       "      <td>2019-02-28 12:13:13.2180</td>\n",
       "      <td>2019-03-01 05:24:08.1460</td>\n",
       "      <td>86.0</td>\n",
       "      <td>Market St at Dolores St</td>\n",
       "      <td>37.769305</td>\n",
       "      <td>-122.426826</td>\n",
       "      <td>3.0</td>\n",
       "      <td>Powell St BART Station (Market St at 4th St)</td>\n",
       "      <td>37.786375</td>\n",
       "      <td>-122.404904</td>\n",
       "      <td>5905</td>\n",
       "      <td>Customer</td>\n",
       "      <td>1972.0</td>\n",
       "      <td>Male</td>\n",
       "      <td>No</td>\n",
       "    </tr>\n",
       "    <tr>\n",
       "      <th>3</th>\n",
       "      <td>36490</td>\n",
       "      <td>2019-02-28 17:54:26.0100</td>\n",
       "      <td>2019-03-01 04:02:36.8420</td>\n",
       "      <td>375.0</td>\n",
       "      <td>Grove St at Masonic Ave</td>\n",
       "      <td>37.774836</td>\n",
       "      <td>-122.446546</td>\n",
       "      <td>70.0</td>\n",
       "      <td>Central Ave at Fell St</td>\n",
       "      <td>37.773311</td>\n",
       "      <td>-122.444293</td>\n",
       "      <td>6638</td>\n",
       "      <td>Subscriber</td>\n",
       "      <td>1989.0</td>\n",
       "      <td>Other</td>\n",
       "      <td>No</td>\n",
       "    </tr>\n",
       "    <tr>\n",
       "      <th>4</th>\n",
       "      <td>1585</td>\n",
       "      <td>2019-02-28 23:54:18.5490</td>\n",
       "      <td>2019-03-01 00:20:44.0740</td>\n",
       "      <td>7.0</td>\n",
       "      <td>Frank H Ogawa Plaza</td>\n",
       "      <td>37.804562</td>\n",
       "      <td>-122.271738</td>\n",
       "      <td>222.0</td>\n",
       "      <td>10th Ave at E 15th St</td>\n",
       "      <td>37.792714</td>\n",
       "      <td>-122.248780</td>\n",
       "      <td>4898</td>\n",
       "      <td>Subscriber</td>\n",
       "      <td>1974.0</td>\n",
       "      <td>Male</td>\n",
       "      <td>Yes</td>\n",
       "    </tr>\n",
       "  </tbody>\n",
       "</table>\n",
       "</div>"
      ],
      "text/plain": [
       "   duration_sec                start_time                  end_time  \\\n",
       "0         52185  2019-02-28 17:32:10.1450  2019-03-01 08:01:55.9750   \n",
       "1         42521  2019-02-28 18:53:21.7890  2019-03-01 06:42:03.0560   \n",
       "2         61854  2019-02-28 12:13:13.2180  2019-03-01 05:24:08.1460   \n",
       "3         36490  2019-02-28 17:54:26.0100  2019-03-01 04:02:36.8420   \n",
       "4          1585  2019-02-28 23:54:18.5490  2019-03-01 00:20:44.0740   \n",
       "\n",
       "   start_station_id                                start_station_name  \\\n",
       "0              21.0  Montgomery St BART Station (Market St at 2nd St)   \n",
       "1              23.0                     The Embarcadero at Steuart St   \n",
       "2              86.0                           Market St at Dolores St   \n",
       "3             375.0                           Grove St at Masonic Ave   \n",
       "4               7.0                               Frank H Ogawa Plaza   \n",
       "\n",
       "   start_station_latitude  start_station_longitude  end_station_id  \\\n",
       "0               37.789625              -122.400811            13.0   \n",
       "1               37.791464              -122.391034            81.0   \n",
       "2               37.769305              -122.426826             3.0   \n",
       "3               37.774836              -122.446546            70.0   \n",
       "4               37.804562              -122.271738           222.0   \n",
       "\n",
       "                               end_station_name  end_station_latitude  \\\n",
       "0                Commercial St at Montgomery St             37.794231   \n",
       "1                            Berry St at 4th St             37.775880   \n",
       "2  Powell St BART Station (Market St at 4th St)             37.786375   \n",
       "3                        Central Ave at Fell St             37.773311   \n",
       "4                         10th Ave at E 15th St             37.792714   \n",
       "\n",
       "   end_station_longitude  bike_id   user_type  member_birth_year  \\\n",
       "0            -122.402923     4902    Customer             1984.0   \n",
       "1            -122.393170     2535    Customer                NaN   \n",
       "2            -122.404904     5905    Customer             1972.0   \n",
       "3            -122.444293     6638  Subscriber             1989.0   \n",
       "4            -122.248780     4898  Subscriber             1974.0   \n",
       "\n",
       "  member_gender bike_share_for_all_trip  \n",
       "0          Male                      No  \n",
       "1           NaN                      No  \n",
       "2          Male                      No  \n",
       "3         Other                      No  \n",
       "4          Male                     Yes  "
      ]
     },
     "metadata": {},
     "output_type": "display_data"
    }
   ],
   "source": [
    "display(df_bike_sharing.head())"
   ]
  },
  {
   "cell_type": "markdown",
   "id": "65696b9b",
   "metadata": {},
   "source": [
    "We can see that there is missing data in some of the station relevant columns as well as in the birth year and gender related columns. <br>\n",
    "It may be prudent to drop all rows with missing observations, since the dataset is pretty expansive and the analysis won't suffer from a few hundred observations."
   ]
  },
  {
   "cell_type": "code",
   "execution_count": 5,
   "id": "73449d3c",
   "metadata": {},
   "outputs": [
    {
     "data": {
      "text/html": [
       "<div>\n",
       "<style scoped>\n",
       "    .dataframe tbody tr th:only-of-type {\n",
       "        vertical-align: middle;\n",
       "    }\n",
       "\n",
       "    .dataframe tbody tr th {\n",
       "        vertical-align: top;\n",
       "    }\n",
       "\n",
       "    .dataframe thead th {\n",
       "        text-align: right;\n",
       "    }\n",
       "</style>\n",
       "<table border=\"1\" class=\"dataframe\">\n",
       "  <thead>\n",
       "    <tr style=\"text-align: right;\">\n",
       "      <th></th>\n",
       "      <th>duration_sec</th>\n",
       "      <th>start_station_id</th>\n",
       "      <th>start_station_latitude</th>\n",
       "      <th>start_station_longitude</th>\n",
       "      <th>end_station_id</th>\n",
       "      <th>end_station_latitude</th>\n",
       "      <th>end_station_longitude</th>\n",
       "      <th>bike_id</th>\n",
       "      <th>member_birth_year</th>\n",
       "    </tr>\n",
       "  </thead>\n",
       "  <tbody>\n",
       "    <tr>\n",
       "      <th>count</th>\n",
       "      <td>183412.000000</td>\n",
       "      <td>183215.000000</td>\n",
       "      <td>183412.000000</td>\n",
       "      <td>183412.000000</td>\n",
       "      <td>183215.000000</td>\n",
       "      <td>183412.000000</td>\n",
       "      <td>183412.000000</td>\n",
       "      <td>183412.000000</td>\n",
       "      <td>175147.000000</td>\n",
       "    </tr>\n",
       "    <tr>\n",
       "      <th>mean</th>\n",
       "      <td>726.078435</td>\n",
       "      <td>138.590427</td>\n",
       "      <td>37.771223</td>\n",
       "      <td>-122.352664</td>\n",
       "      <td>136.249123</td>\n",
       "      <td>37.771427</td>\n",
       "      <td>-122.352250</td>\n",
       "      <td>4472.906375</td>\n",
       "      <td>1984.806437</td>\n",
       "    </tr>\n",
       "    <tr>\n",
       "      <th>std</th>\n",
       "      <td>1794.389780</td>\n",
       "      <td>111.778864</td>\n",
       "      <td>0.099581</td>\n",
       "      <td>0.117097</td>\n",
       "      <td>111.515131</td>\n",
       "      <td>0.099490</td>\n",
       "      <td>0.116673</td>\n",
       "      <td>1664.383394</td>\n",
       "      <td>10.116689</td>\n",
       "    </tr>\n",
       "    <tr>\n",
       "      <th>min</th>\n",
       "      <td>61.000000</td>\n",
       "      <td>3.000000</td>\n",
       "      <td>37.317298</td>\n",
       "      <td>-122.453704</td>\n",
       "      <td>3.000000</td>\n",
       "      <td>37.317298</td>\n",
       "      <td>-122.453704</td>\n",
       "      <td>11.000000</td>\n",
       "      <td>1878.000000</td>\n",
       "    </tr>\n",
       "    <tr>\n",
       "      <th>25%</th>\n",
       "      <td>325.000000</td>\n",
       "      <td>47.000000</td>\n",
       "      <td>37.770083</td>\n",
       "      <td>-122.412408</td>\n",
       "      <td>44.000000</td>\n",
       "      <td>37.770407</td>\n",
       "      <td>-122.411726</td>\n",
       "      <td>3777.000000</td>\n",
       "      <td>1980.000000</td>\n",
       "    </tr>\n",
       "    <tr>\n",
       "      <th>50%</th>\n",
       "      <td>514.000000</td>\n",
       "      <td>104.000000</td>\n",
       "      <td>37.780760</td>\n",
       "      <td>-122.398285</td>\n",
       "      <td>100.000000</td>\n",
       "      <td>37.781010</td>\n",
       "      <td>-122.398279</td>\n",
       "      <td>4958.000000</td>\n",
       "      <td>1987.000000</td>\n",
       "    </tr>\n",
       "    <tr>\n",
       "      <th>75%</th>\n",
       "      <td>796.000000</td>\n",
       "      <td>239.000000</td>\n",
       "      <td>37.797280</td>\n",
       "      <td>-122.286533</td>\n",
       "      <td>235.000000</td>\n",
       "      <td>37.797320</td>\n",
       "      <td>-122.288045</td>\n",
       "      <td>5502.000000</td>\n",
       "      <td>1992.000000</td>\n",
       "    </tr>\n",
       "    <tr>\n",
       "      <th>max</th>\n",
       "      <td>85444.000000</td>\n",
       "      <td>398.000000</td>\n",
       "      <td>37.880222</td>\n",
       "      <td>-121.874119</td>\n",
       "      <td>398.000000</td>\n",
       "      <td>37.880222</td>\n",
       "      <td>-121.874119</td>\n",
       "      <td>6645.000000</td>\n",
       "      <td>2001.000000</td>\n",
       "    </tr>\n",
       "  </tbody>\n",
       "</table>\n",
       "</div>"
      ],
      "text/plain": [
       "        duration_sec  start_station_id  start_station_latitude  \\\n",
       "count  183412.000000     183215.000000           183412.000000   \n",
       "mean      726.078435        138.590427               37.771223   \n",
       "std      1794.389780        111.778864                0.099581   \n",
       "min        61.000000          3.000000               37.317298   \n",
       "25%       325.000000         47.000000               37.770083   \n",
       "50%       514.000000        104.000000               37.780760   \n",
       "75%       796.000000        239.000000               37.797280   \n",
       "max     85444.000000        398.000000               37.880222   \n",
       "\n",
       "       start_station_longitude  end_station_id  end_station_latitude  \\\n",
       "count            183412.000000   183215.000000         183412.000000   \n",
       "mean               -122.352664      136.249123             37.771427   \n",
       "std                   0.117097      111.515131              0.099490   \n",
       "min                -122.453704        3.000000             37.317298   \n",
       "25%                -122.412408       44.000000             37.770407   \n",
       "50%                -122.398285      100.000000             37.781010   \n",
       "75%                -122.286533      235.000000             37.797320   \n",
       "max                -121.874119      398.000000             37.880222   \n",
       "\n",
       "       end_station_longitude        bike_id  member_birth_year  \n",
       "count          183412.000000  183412.000000      175147.000000  \n",
       "mean             -122.352250    4472.906375        1984.806437  \n",
       "std                 0.116673    1664.383394          10.116689  \n",
       "min              -122.453704      11.000000        1878.000000  \n",
       "25%              -122.411726    3777.000000        1980.000000  \n",
       "50%              -122.398279    4958.000000        1987.000000  \n",
       "75%              -122.288045    5502.000000        1992.000000  \n",
       "max              -121.874119    6645.000000        2001.000000  "
      ]
     },
     "metadata": {},
     "output_type": "display_data"
    }
   ],
   "source": [
    "# Statistical measures for numeric columns\n",
    "display(df_bike_sharing.describe())"
   ]
  },
  {
   "cell_type": "markdown",
   "id": "863821a1",
   "metadata": {},
   "source": [
    "This table alongwith the one above helps us formulate the subject for our analysis that we will attempt to answer throughout the rest of the notebook."
   ]
  },
  {
   "cell_type": "markdown",
   "id": "47015a82",
   "metadata": {},
   "source": [
    "<a id='bigidea'></a>\n",
    "### 1.1.4 [The Big Idea!💡](#toc)\n",
    "There can be several questions we can answer from the given data. Here we'll be looking at:-\n",
    "1. Changes in the ride characteristic between a subscriber and a customer.\n",
    "2. Most frequent routes across the dataset. This might offer some clue into how the company might bikes stock at different locations to better service demand.\n",
    "3. Bike sharing and correlation with ride characteristics.\n",
    "4. Time of the month and frequency of bike rentals. Here we can also examine how mean duration varies across different days \n",
    "5. Examining variation of bike stocks at different locations across the month. Here 0 might be assumed as the baseline before seeing how bikes leave or arrive at the particular station."
   ]
  },
  {
   "cell_type": "markdown",
   "id": "e546e0ca",
   "metadata": {},
   "source": [
    "<a id='assess'></a>\n",
    "## 1.2 [Assess](#toc)\n",
    "I will create the common segment where the quality and tidiness issues will be stacked. This will be the single place we'll be returning to in case we want to refer issues later on."
   ]
  },
  {
   "cell_type": "markdown",
   "id": "5fbe8c9f",
   "metadata": {},
   "source": [
    "<a id='qual'></a>\n",
    "### 1.2.1 [Quality](#toc)\n",
    "- [x] `start_station_id`, `start_station_name`, `end_station_id` and `end_station_name` have a few hundred missing values. ~~We need to check if the latitude longitude data can give us information on the station at those coordinates~~. It might be possible that no station exists there in which case we can simply proceed to drop these (although they could have made for an important analysis concerning behavior of users and likelihood of not leaving the bike at designated sites!)\n",
    "- [x] `member_birth_year` and `member_gender` of users has missing values. ~~We can simply drop these rows.~~\n",
    "- [x] `start_time` and `end_time` are not the correct datatype. They need to be converted to the appropriate datatype (datetime)\n",
    "- [x] ~~`duration_sec` needs to be checked in order to confirm that the column is correctly calculated. If not, the appropriate correction should be made.~~"
   ]
  },
  {
   "cell_type": "code",
   "execution_count": 6,
   "id": "54ba74e6",
   "metadata": {},
   "outputs": [
    {
     "name": "stdout",
     "output_type": "stream",
     "text": [
      "Number of station names that can be filled in the \"start_station_name\" column: 0\n",
      "Number of station names that can be filled in the \"end_station_name\" column: 0\n"
     ]
    }
   ],
   "source": [
    "# Issue 1: Missing station names in start and end columns\n",
    "# Maintain a dictionary of latitude and longitude mapping to name of station\n",
    "# Check if missing value latitude and longitude are present in the keys of the dictionary\n",
    "# If present, then we can use the value of that key value pair \n",
    "def index_null(df_bike_sharing, col_missing):\n",
    "    return list(df_bike_sharing[df_bike_sharing[col_missing].isnull()].index)\n",
    "\n",
    "def coordinate_place_mapping(df_bike_sharing): \n",
    "    map_dict = {}\n",
    "    df_bike_sharing_start_filter = df_bike_sharing.dropna(subset=['start_station_name']).reset_index()\n",
    "    df_bike_sharing_end_filter = df_bike_sharing.dropna(subset=['end_station_name']).reset_index()\n",
    "    for i in range(0,df_bike_sharing_start_filter.shape[0]):\n",
    "        start_lat = df_bike_sharing_start_filter.loc[i,'start_station_latitude']\n",
    "        start_long = df_bike_sharing_start_filter.loc[i,'start_station_longitude']\n",
    "        start_station = df_bike_sharing_start_filter.loc[i,'start_station_name']\n",
    "        if (start_lat, start_long) not in map_dict.keys():\n",
    "            map_dict[(start_lat, start_long)] = start_station\n",
    "    \n",
    "    for i in range(0,df_bike_sharing_end_filter.shape[0]):\n",
    "        end_lat = df_bike_sharing_end_filter.loc[i,'end_station_latitude']\n",
    "        end_long = df_bike_sharing_end_filter.loc[i,'end_station_longitude']\n",
    "        end_station = df_bike_sharing_end_filter.loc[i,'end_station_name']\n",
    "        if (end_lat, end_long) not in map_dict.keys():\n",
    "            map_dict[(end_lat, end_long)] = end_station\n",
    "\n",
    "    return map_dict\n",
    "\n",
    "def fillable_stations(df_bike_sharing, col_missing, map_dict):\n",
    "    res = 0\n",
    "    indexes = index_null(df_bike_sharing, col_missing) \n",
    "    for index in indexes:\n",
    "        start_lat = df_bike_sharing.loc[index,col_missing[0:-5] + '_latitude']\n",
    "        start_long = df_bike_sharing.loc[index,col_missing[0:-5] + '_longitude']\n",
    "        if (start_lat, start_long) in map_dict.keys():\n",
    "            res = res + 1\n",
    "    return res\n",
    "\n",
    "map_dict = coordinate_place_mapping(df_bike_sharing)\n",
    "# Now we can iterate over the coordinates in the missing value rows and check if we can fill any row\n",
    "start_fillable = fillable_stations(df_bike_sharing, 'start_station_name', map_dict)\n",
    "print(\"Number of station names that can be filled in the \\\"start_station_name\\\" column: {}\".format(start_fillable))\n",
    "end_fillable = fillable_stations(df_bike_sharing, 'end_station_name', map_dict)\n",
    "print(\"Number of station names that can be filled in the \\\"end_station_name\\\" column: {}\".format(end_fillable))"
   ]
  },
  {
   "cell_type": "markdown",
   "id": "179d10f6",
   "metadata": {},
   "source": [
    "As can be seen from the above code block, the coordinates map to an unknown location. For future analysis, it is worth noting that if the occurence of these incidences increase, it can be instructive to analyse what influences these drops since we want to prevent these as much as possible.<br>\n",
    "For now however, we will proceed to drop these rows."
   ]
  },
  {
   "cell_type": "code",
   "execution_count": 7,
   "id": "ec12cbb3",
   "metadata": {},
   "outputs": [
    {
     "name": "stdout",
     "output_type": "stream",
     "text": [
      "<class 'pandas.core.frame.DataFrame'>\n",
      "RangeIndex: 183412 entries, 0 to 183411\n",
      "Data columns (total 2 columns):\n",
      " #   Column             Non-Null Count   Dtype  \n",
      "---  ------             --------------   -----  \n",
      " 0   member_birth_year  175147 non-null  float64\n",
      " 1   member_gender      175147 non-null  object \n",
      "dtypes: float64(1), object(1)\n",
      "memory usage: 2.8+ MB\n"
     ]
    }
   ],
   "source": [
    "# Issue 2: Missing birth years and genders\n",
    "df_bike_sharing[['member_birth_year','member_gender']].info()"
   ]
  },
  {
   "cell_type": "markdown",
   "id": "cc29a47c",
   "metadata": {},
   "source": [
    "Quite a lot of values are missing here! We may as well retain these rows where we do not wish to analyse these features and drop them when needed. We can't afford to drop ~8000 observations."
   ]
  },
  {
   "cell_type": "code",
   "execution_count": 8,
   "id": "041adebb",
   "metadata": {},
   "outputs": [
    {
     "name": "stdout",
     "output_type": "stream",
     "text": [
      "The datatype of \"start_time\" column: <class 'str'>\n",
      "The datatype of \"end_time\" column: <class 'str'>\n"
     ]
    }
   ],
   "source": [
    "# Issue 3: Datatype of start and end time columns\n",
    "print(\"The datatype of \\\"start_time\\\" column: {}\".format(type(df_bike_sharing['start_time'][0])))\n",
    "print(\"The datatype of \\\"end_time\\\" column: {}\".format(type(df_bike_sharing['end_time'][0])))"
   ]
  },
  {
   "cell_type": "markdown",
   "id": "2495ec4b",
   "metadata": {},
   "source": [
    "Conversion to datetime datatype will yield a lot of benefits to us in our analysis enabling us to extract months from the time columns amongst other things. "
   ]
  },
  {
   "cell_type": "code",
   "execution_count": 9,
   "id": "93cfc418",
   "metadata": {},
   "outputs": [
    {
     "name": "stdout",
     "output_type": "stream",
     "text": [
      "Number of incorrectly calculated duration in seconds: 0\n"
     ]
    }
   ],
   "source": [
    "# Issue 4: Checking if duration is captured correctly\n",
    "duration_in_seconds = np.floor((pd.to_datetime(df_bike_sharing['end_time']) - pd.to_datetime(df_bike_sharing['start_time'])).dt.total_seconds())\n",
    "print(\"Number of incorrectly calculated duration in seconds: {}\".format((duration_in_seconds != df_bike_sharing['duration_sec']).sum()))"
   ]
  },
  {
   "cell_type": "markdown",
   "id": "2f178b41",
   "metadata": {},
   "source": [
    "<a id='clean'></a>\n",
    "## 1.3 [Clean](#toc)\n",
    "Gather-Assess-Clean is an iterative process. So we might have returned to this segment several times. Here we will transform the data appropriately so as to change our data to a form that would be more conducive for our study. "
   ]
  },
  {
   "cell_type": "markdown",
   "id": "5270052f",
   "metadata": {},
   "source": [
    "**Define**<br>\n",
    "Missing station data in start and end columns need to be dropped."
   ]
  },
  {
   "cell_type": "markdown",
   "id": "2761afb9",
   "metadata": {},
   "source": [
    "**Code**"
   ]
  },
  {
   "cell_type": "code",
   "execution_count": 10,
   "id": "4ff0dffe",
   "metadata": {},
   "outputs": [],
   "source": [
    "df_bike_sharing_clean = df_bike_sharing.dropna(subset=['start_station_name','end_station_name'])"
   ]
  },
  {
   "cell_type": "markdown",
   "id": "282cd2e4",
   "metadata": {},
   "source": [
    "**Test**"
   ]
  },
  {
   "cell_type": "code",
   "execution_count": 11,
   "id": "4f997c33",
   "metadata": {},
   "outputs": [
    {
     "name": "stdout",
     "output_type": "stream",
     "text": [
      "<class 'pandas.core.frame.DataFrame'>\n",
      "Int64Index: 183215 entries, 0 to 183411\n",
      "Data columns (total 16 columns):\n",
      " #   Column                   Non-Null Count   Dtype  \n",
      "---  ------                   --------------   -----  \n",
      " 0   duration_sec             183215 non-null  int64  \n",
      " 1   start_time               183215 non-null  object \n",
      " 2   end_time                 183215 non-null  object \n",
      " 3   start_station_id         183215 non-null  float64\n",
      " 4   start_station_name       183215 non-null  object \n",
      " 5   start_station_latitude   183215 non-null  float64\n",
      " 6   start_station_longitude  183215 non-null  float64\n",
      " 7   end_station_id           183215 non-null  float64\n",
      " 8   end_station_name         183215 non-null  object \n",
      " 9   end_station_latitude     183215 non-null  float64\n",
      " 10  end_station_longitude    183215 non-null  float64\n",
      " 11  bike_id                  183215 non-null  int64  \n",
      " 12  user_type                183215 non-null  object \n",
      " 13  member_birth_year        174952 non-null  float64\n",
      " 14  member_gender            174952 non-null  object \n",
      " 15  bike_share_for_all_trip  183215 non-null  object \n",
      "dtypes: float64(7), int64(2), object(7)\n",
      "memory usage: 23.8+ MB\n"
     ]
    }
   ],
   "source": [
    "df_bike_sharing_clean.info()"
   ]
  },
  {
   "cell_type": "markdown",
   "id": "c46eb510",
   "metadata": {},
   "source": [
    "We have thus dropped rows with missing values for `start_station_name`(and id) and `end_station_name`(and id again)."
   ]
  },
  {
   "cell_type": "markdown",
   "id": "84537bba",
   "metadata": {},
   "source": [
    "**Define** <br>\n",
    "`start_time` and `end_time` to be converted to datetime datatype"
   ]
  },
  {
   "cell_type": "markdown",
   "id": "86e68a6c",
   "metadata": {},
   "source": [
    "**Code**"
   ]
  },
  {
   "cell_type": "code",
   "execution_count": null,
   "id": "93f213cb",
   "metadata": {},
   "outputs": [],
   "source": [
    "df_bike_sharing_clean.start_time = pd.to_datetime(df_bike_sharing_clean.start_time)\n",
    "df_bike_sharing_clean.end_time = pd.to_datetime(df_bike_sharing_clean.end_time)"
   ]
  },
  {
   "cell_type": "markdown",
   "id": "f225dbf4",
   "metadata": {},
   "source": [
    "**Test**"
   ]
  },
  {
   "cell_type": "code",
   "execution_count": 13,
   "id": "58df5649",
   "metadata": {},
   "outputs": [
    {
     "name": "stdout",
     "output_type": "stream",
     "text": [
      "<class 'pandas.core.frame.DataFrame'>\n",
      "Int64Index: 183215 entries, 0 to 183411\n",
      "Data columns (total 16 columns):\n",
      " #   Column                   Non-Null Count   Dtype         \n",
      "---  ------                   --------------   -----         \n",
      " 0   duration_sec             183215 non-null  int64         \n",
      " 1   start_time               183215 non-null  datetime64[ns]\n",
      " 2   end_time                 183215 non-null  datetime64[ns]\n",
      " 3   start_station_id         183215 non-null  float64       \n",
      " 4   start_station_name       183215 non-null  object        \n",
      " 5   start_station_latitude   183215 non-null  float64       \n",
      " 6   start_station_longitude  183215 non-null  float64       \n",
      " 7   end_station_id           183215 non-null  float64       \n",
      " 8   end_station_name         183215 non-null  object        \n",
      " 9   end_station_latitude     183215 non-null  float64       \n",
      " 10  end_station_longitude    183215 non-null  float64       \n",
      " 11  bike_id                  183215 non-null  int64         \n",
      " 12  user_type                183215 non-null  object        \n",
      " 13  member_birth_year        174952 non-null  float64       \n",
      " 14  member_gender            174952 non-null  object        \n",
      " 15  bike_share_for_all_trip  183215 non-null  object        \n",
      "dtypes: datetime64[ns](2), float64(7), int64(2), object(5)\n",
      "memory usage: 23.8+ MB\n"
     ]
    }
   ],
   "source": [
    "df_bike_sharing_clean.info()"
   ]
  },
  {
   "cell_type": "markdown",
   "id": "8271cd6b",
   "metadata": {},
   "source": [
    "Thus we have transformed the `start_time` and `end_time` columns to an appropriate datatype"
   ]
  },
  {
   "cell_type": "markdown",
   "id": "53592a3b",
   "metadata": {},
   "source": [
    "<a id='explore'></a>\n",
    "# 2. [Explore](#toc)\n",
    "> *Enjoy the little detours..because that's where you will find the things that are more important than you want*\n",
    "\n",
    "In this section, we will explore some of the data that we have gathered to obtain some degree of familiarity and build intuition towards what we can expect to state about the data. While we have already laid a general direction towards which we want to head, it should be intructive to observe the patterns in data and arrive at better questions in the process"
   ]
  },
  {
   "cell_type": "markdown",
   "id": "5fcfe750",
   "metadata": {},
   "source": [
    "<a id='univariate'></a>\n",
    "## 2.1 [Univariate Exploration](#toc)"
   ]
  },
  {
   "cell_type": "markdown",
   "id": "3f895f0b",
   "metadata": {},
   "source": [
    "<a id='weekpattern'></a>\n",
    "### 2.1.1 [Bike sharing patterns by week](#toc)"
   ]
  },
  {
   "cell_type": "code",
   "execution_count": 14,
   "id": "06096d86",
   "metadata": {},
   "outputs": [
    {
     "data": {
      "text/html": [
       "<div>\n",
       "<style scoped>\n",
       "    .dataframe tbody tr th:only-of-type {\n",
       "        vertical-align: middle;\n",
       "    }\n",
       "\n",
       "    .dataframe tbody tr th {\n",
       "        vertical-align: top;\n",
       "    }\n",
       "\n",
       "    .dataframe thead th {\n",
       "        text-align: right;\n",
       "    }\n",
       "</style>\n",
       "<table border=\"1\" class=\"dataframe\">\n",
       "  <thead>\n",
       "    <tr style=\"text-align: right;\">\n",
       "      <th></th>\n",
       "      <th>week</th>\n",
       "    </tr>\n",
       "  </thead>\n",
       "  <tbody>\n",
       "    <tr>\n",
       "      <th>0</th>\n",
       "      <td>12198</td>\n",
       "    </tr>\n",
       "    <tr>\n",
       "      <th>1</th>\n",
       "      <td>45280</td>\n",
       "    </tr>\n",
       "    <tr>\n",
       "      <th>2</th>\n",
       "      <td>42431</td>\n",
       "    </tr>\n",
       "    <tr>\n",
       "      <th>3</th>\n",
       "      <td>53376</td>\n",
       "    </tr>\n",
       "    <tr>\n",
       "      <th>4</th>\n",
       "      <td>29930</td>\n",
       "    </tr>\n",
       "  </tbody>\n",
       "</table>\n",
       "</div>"
      ],
      "text/plain": [
       "    week\n",
       "0  12198\n",
       "1  45280\n",
       "2  42431\n",
       "3  53376\n",
       "4  29930"
      ]
     },
     "metadata": {},
     "output_type": "display_data"
    }
   ],
   "source": [
    "#Frequency of bike sharing by week\n",
    "freq_bike = df_bike_sharing_clean.start_time.dt.isocalendar().week.value_counts().sort_index()\n",
    "freq_bike = freq_bike.reset_index().drop(columns = 'index')\n",
    "display(freq_bike)"
   ]
  },
  {
   "cell_type": "markdown",
   "id": "822ac5b6",
   "metadata": {},
   "source": [
    "A bar plot here would be in order since we have discretised the month into weeks"
   ]
  },
  {
   "cell_type": "code",
   "execution_count": 15,
   "id": "88bb9649",
   "metadata": {},
   "outputs": [
    {
     "data": {
      "image/png": "[encoded data removed]",
      "text/plain": [
       "<Figure size 1080x504 with 1 Axes>"
      ]
     },
     "metadata": {
      "needs_background": "light"
     },
     "output_type": "display_data"
    }
   ],
   "source": [
    "plt.figure(figsize = [15,7])\n",
    "\n",
    "plt.bar(x = freq_bike.index, height = freq_bike.week);\n",
    "plt.xlabel(\"Week Number of the month of February 2019\");\n",
    "plt.xticks([0,1,2,3,4], ['Week 1','Week 2','Week 3','Week 4','Week 5']);\n",
    "\n",
    "plt.title(\"Weekly Distribution of Bike Sharing across February 2019\");"
   ]
  },
  {
   "cell_type": "markdown",
   "id": "e6055874",
   "metadata": {},
   "source": [
    "Here we can clearly observe that in the first and last week of the month demand for bikes has been poor while week 4 has raked in maximum trips"
   ]
  },
  {
   "cell_type": "markdown",
   "id": "9e30faf0",
   "metadata": {},
   "source": [
    "<a id = 'daypattern'></a>\n",
    "### 2.1.2 [Bike Sharing patterns by day](#toc)"
   ]
  },
  {
   "cell_type": "code",
   "execution_count": 16,
   "id": "02b17e2e",
   "metadata": {},
   "outputs": [
    {
     "data": {
      "text/html": [
       "<div>\n",
       "<style scoped>\n",
       "    .dataframe tbody tr th:only-of-type {\n",
       "        vertical-align: middle;\n",
       "    }\n",
       "\n",
       "    .dataframe tbody tr th {\n",
       "        vertical-align: top;\n",
       "    }\n",
       "\n",
       "    .dataframe thead th {\n",
       "        text-align: right;\n",
       "    }\n",
       "</style>\n",
       "<table border=\"1\" class=\"dataframe\">\n",
       "  <thead>\n",
       "    <tr style=\"text-align: right;\">\n",
       "      <th></th>\n",
       "      <th>Day</th>\n",
       "      <th>Day_Ride_Count</th>\n",
       "    </tr>\n",
       "  </thead>\n",
       "  <tbody>\n",
       "    <tr>\n",
       "      <th>0</th>\n",
       "      <td>Monday</td>\n",
       "      <td>26807</td>\n",
       "    </tr>\n",
       "    <tr>\n",
       "      <th>1</th>\n",
       "      <td>Tuesday</td>\n",
       "      <td>31781</td>\n",
       "    </tr>\n",
       "    <tr>\n",
       "      <th>2</th>\n",
       "      <td>Wednesday</td>\n",
       "      <td>29609</td>\n",
       "    </tr>\n",
       "    <tr>\n",
       "      <th>3</th>\n",
       "      <td>Thursday</td>\n",
       "      <td>35176</td>\n",
       "    </tr>\n",
       "    <tr>\n",
       "      <th>4</th>\n",
       "      <td>Friday</td>\n",
       "      <td>28962</td>\n",
       "    </tr>\n",
       "    <tr>\n",
       "      <th>5</th>\n",
       "      <td>Saturday</td>\n",
       "      <td>15377</td>\n",
       "    </tr>\n",
       "    <tr>\n",
       "      <th>6</th>\n",
       "      <td>Sunday</td>\n",
       "      <td>15503</td>\n",
       "    </tr>\n",
       "  </tbody>\n",
       "</table>\n",
       "</div>"
      ],
      "text/plain": [
       "         Day  Day_Ride_Count\n",
       "0     Monday           26807\n",
       "1    Tuesday           31781\n",
       "2  Wednesday           29609\n",
       "3   Thursday           35176\n",
       "4     Friday           28962\n",
       "5   Saturday           15377\n",
       "6     Sunday           15503"
      ]
     },
     "metadata": {},
     "output_type": "display_data"
    }
   ],
   "source": [
    "#Frequency of bike sharing by week\n",
    "\n",
    "freq_bike = df_bike_sharing_clean.start_time.dt.day_name().value_counts()\n",
    "freq_bike = freq_bike.reset_index()\n",
    "freq_bike.rename(columns = {'index': 'Day','start_time':'Day_Ride_Count'}, inplace = True)\n",
    "\n",
    "weekdays = ['Monday','Tuesday', 'Wednesday','Thursday','Friday','Saturday','Sunday']\n",
    "mapping = {day: i for i, day in enumerate(weekdays)}\n",
    "key = freq_bike['Day'].map(mapping)\n",
    "\n",
    "freq_bike = freq_bike.iloc[key.argsort()].reset_index().drop(columns = 'index')\n",
    "display(freq_bike)"
   ]
  },
  {
   "cell_type": "markdown",
   "id": "6eb475ca",
   "metadata": {},
   "source": [
    "Here again a bar plot makes sense to capture the distribution of rentals on basis of the day"
   ]
  },
  {
   "cell_type": "code",
   "execution_count": 17,
   "id": "1e634ee6",
   "metadata": {},
   "outputs": [
    {
     "data": {
      "image/png": "[encoded data removed]",
      "text/plain": [
       "<Figure size 1080x504 with 1 Axes>"
      ]
     },
     "metadata": {
      "needs_background": "light"
     },
     "output_type": "display_data"
    }
   ],
   "source": [
    "plt.figure(figsize = [15,7])\n",
    "\n",
    "plt.bar(x = freq_bike.Day, height = freq_bike.Day_Ride_Count);\n",
    "plt.xlabel(\"Day of the month of February 2019\");\n",
    "\n",
    "plt.title(\"Day Distribution of Bike Sharing across February 2019\");"
   ]
  },
  {
   "cell_type": "markdown",
   "id": "62b94857",
   "metadata": {},
   "source": [
    "Clearly, fewer rides are taken on the weekends. This offers an interesting insight into our consumer base. Perhaps our users are predominantly office goers or students who bike to work? Though the data currently does not offer much information regarding this (other than one crude way of estimation which is to observe the age distribution of our user base and also figure out the demand by hour), this could form the basis for the next data collection."
   ]
  },
  {
   "cell_type": "markdown",
   "id": "b1313bd2",
   "metadata": {},
   "source": [
    "<a id = 'hourpattern'></a>\n",
    "### 2.1.3 [Bike sharing patterns by hour](#toc)"
   ]
  },
  {
   "cell_type": "code",
   "execution_count": 18,
   "id": "946bb1d0",
   "metadata": {},
   "outputs": [
    {
     "data": {
      "text/html": [
       "<div>\n",
       "<style scoped>\n",
       "    .dataframe tbody tr th:only-of-type {\n",
       "        vertical-align: middle;\n",
       "    }\n",
       "\n",
       "    .dataframe tbody tr th {\n",
       "        vertical-align: top;\n",
       "    }\n",
       "\n",
       "    .dataframe thead th {\n",
       "        text-align: right;\n",
       "    }\n",
       "</style>\n",
       "<table border=\"1\" class=\"dataframe\">\n",
       "  <thead>\n",
       "    <tr style=\"text-align: right;\">\n",
       "      <th></th>\n",
       "      <th>hour_start</th>\n",
       "    </tr>\n",
       "  </thead>\n",
       "  <tbody>\n",
       "    <tr>\n",
       "      <th>0</th>\n",
       "      <td>925</td>\n",
       "    </tr>\n",
       "    <tr>\n",
       "      <th>1</th>\n",
       "      <td>548</td>\n",
       "    </tr>\n",
       "    <tr>\n",
       "      <th>2</th>\n",
       "      <td>380</td>\n",
       "    </tr>\n",
       "    <tr>\n",
       "      <th>3</th>\n",
       "      <td>174</td>\n",
       "    </tr>\n",
       "    <tr>\n",
       "      <th>4</th>\n",
       "      <td>235</td>\n",
       "    </tr>\n",
       "    <tr>\n",
       "      <th>5</th>\n",
       "      <td>896</td>\n",
       "    </tr>\n",
       "    <tr>\n",
       "      <th>6</th>\n",
       "      <td>3484</td>\n",
       "    </tr>\n",
       "    <tr>\n",
       "      <th>7</th>\n",
       "      <td>10610</td>\n",
       "    </tr>\n",
       "    <tr>\n",
       "      <th>8</th>\n",
       "      <td>21041</td>\n",
       "    </tr>\n",
       "    <tr>\n",
       "      <th>9</th>\n",
       "      <td>15886</td>\n",
       "    </tr>\n",
       "    <tr>\n",
       "      <th>10</th>\n",
       "      <td>8354</td>\n",
       "    </tr>\n",
       "    <tr>\n",
       "      <th>11</th>\n",
       "      <td>7872</td>\n",
       "    </tr>\n",
       "    <tr>\n",
       "      <th>12</th>\n",
       "      <td>8707</td>\n",
       "    </tr>\n",
       "    <tr>\n",
       "      <th>13</th>\n",
       "      <td>8531</td>\n",
       "    </tr>\n",
       "    <tr>\n",
       "      <th>14</th>\n",
       "      <td>8135</td>\n",
       "    </tr>\n",
       "    <tr>\n",
       "      <th>15</th>\n",
       "      <td>9163</td>\n",
       "    </tr>\n",
       "    <tr>\n",
       "      <th>16</th>\n",
       "      <td>14150</td>\n",
       "    </tr>\n",
       "    <tr>\n",
       "      <th>17</th>\n",
       "      <td>21847</td>\n",
       "    </tr>\n",
       "    <tr>\n",
       "      <th>18</th>\n",
       "      <td>16812</td>\n",
       "    </tr>\n",
       "    <tr>\n",
       "      <th>19</th>\n",
       "      <td>9873</td>\n",
       "    </tr>\n",
       "    <tr>\n",
       "      <th>20</th>\n",
       "      <td>6472</td>\n",
       "    </tr>\n",
       "    <tr>\n",
       "      <th>21</th>\n",
       "      <td>4560</td>\n",
       "    </tr>\n",
       "    <tr>\n",
       "      <th>22</th>\n",
       "      <td>2915</td>\n",
       "    </tr>\n",
       "    <tr>\n",
       "      <th>23</th>\n",
       "      <td>1645</td>\n",
       "    </tr>\n",
       "  </tbody>\n",
       "</table>\n",
       "</div>"
      ],
      "text/plain": [
       "    hour_start\n",
       "0          925\n",
       "1          548\n",
       "2          380\n",
       "3          174\n",
       "4          235\n",
       "5          896\n",
       "6         3484\n",
       "7        10610\n",
       "8        21041\n",
       "9        15886\n",
       "10        8354\n",
       "11        7872\n",
       "12        8707\n",
       "13        8531\n",
       "14        8135\n",
       "15        9163\n",
       "16       14150\n",
       "17       21847\n",
       "18       16812\n",
       "19        9873\n",
       "20        6472\n",
       "21        4560\n",
       "22        2915\n",
       "23        1645"
      ]
     },
     "metadata": {},
     "output_type": "display_data"
    }
   ],
   "source": [
    "freq_hour_bike = df_bike_sharing_clean.start_time.dt.hour.value_counts().sort_index()\n",
    "freq_hour_bike = freq_hour_bike.reset_index().drop(columns = 'index')\n",
    "freq_hour_bike.rename(columns={'start_time':'hour_start'}, inplace=True)\n",
    "display(freq_hour_bike)"
   ]
  },
  {
   "cell_type": "code",
   "execution_count": 19,
   "id": "2bc71d1c",
   "metadata": {},
   "outputs": [
    {
     "data": {
      "image/png": "[encoded data removed]",
      "text/plain": [
       "<Figure size 1080x504 with 1 Axes>"
      ]
     },
     "metadata": {
      "needs_background": "light"
     },
     "output_type": "display_data"
    }
   ],
   "source": [
    "plt.figure(figsize = [15,7])\n",
    "\n",
    "plt.bar(x = freq_hour_bike.index, height = freq_hour_bike.hour_start);\n",
    "plt.xlabel(\"Hour of the day of February 2019\");\n",
    "ticks = range(0,24, 2)\n",
    "tick_labels = [str(tick) + \":00am\" if tick<=12 else str(tick-12) + \":00pm\" for tick in ticks]\n",
    "plt.xticks(ticks, tick_labels, rotation = 0)\n",
    "plt.title(\"Hourly Distribution of Bike Sharing across February 2019\");"
   ]
  },
  {
   "cell_type": "markdown",
   "id": "bc6bbc35",
   "metadata": {},
   "source": [
    "It is clearly visible that the demand for bikes spikes during rush hours and reduces during off-hours implying that our users might be employees."
   ]
  },
  {
   "cell_type": "markdown",
   "id": "9fe7588f",
   "metadata": {},
   "source": [
    "<a id='agedist'></a>\n",
    "### 2.1.4 [Age distribution of Users](#toc)"
   ]
  },
  {
   "cell_type": "markdown",
   "id": "4d174809",
   "metadata": {},
   "source": [
    "Two important points to keep in mind here:-\n",
    "1. Drop the rows with missing data for age\n",
    "2. Drop ages above 100 years of age (no I'm not saying they can't! Its just....improbable. Anyways we're not losing a lot of data by dropping all users 'claiming' to be above 80 years of age. Perhaps the only data we can trust is from our bikes.)\n",
    "2. Use unique users for figuring out distribution. Since there is no identifier for users in the dataset, we will assume that proportion of rides is constant for all users (which may not be correct but it is the best we can manage with the given data)  "
   ]
  },
  {
   "cell_type": "code",
   "execution_count": 20,
   "id": "fe5f8edb",
   "metadata": {},
   "outputs": [],
   "source": [
    "# retain only those rows with non null values for member_birth_year\n",
    "df_bike_sharing_age = df_bike_sharing_clean[df_bike_sharing_clean['member_birth_year'].notnull()].reset_index()\n",
    "\n",
    "# now compute the age of users. Store in a new column 'member_age'. Since data taken in 2019, this is what will be used for calculation of age\n",
    "df_bike_sharing_age['member_age'] = 2019 - df_bike_sharing_age['member_birth_year']\n",
    "\n",
    "df_bike_sharing_age = df_bike_sharing_age[df_bike_sharing_age.member_age <=80].reset_index().drop(columns = ['level_0','index'])\n",
    "bins = np.arange(df_bike_sharing_age.member_age.min(), df_bike_sharing_age.member_age.max()+3, 3)\n",
    "df_bike_sharing_age['age_bin'] = pd.cut(df_bike_sharing_age.member_age, bins)"
   ]
  },
  {
   "cell_type": "code",
   "execution_count": 21,
   "id": "8d77222f",
   "metadata": {},
   "outputs": [
    {
     "data": {
      "image/png": "[encoded data removed]",
      "text/plain": [
       "<Figure size 864x360 with 2 Axes>"
      ]
     },
     "metadata": {
      "needs_background": "light"
     },
     "output_type": "display_data"
    }
   ],
   "source": [
    "max_prop_age = df_bike_sharing_age.age_bin.value_counts()[0]/df_bike_sharing_age.age_bin.value_counts().sum()\n",
    "tick_props = np.arange(0, max_prop_age, 0.02)\n",
    "tick_names = ['{:.2f}'.format(v) for v in tick_props]\n",
    "\n",
    "plt.figure(figsize = [12, 5])\n",
    "plt.subplot(1,2,1)\n",
    "plt.hist(data=df_bike_sharing_age, x = 'member_age', bins = bins);\n",
    "plt.xlim(df_bike_sharing_age.member_age.min(), 83);\n",
    "plt.xlabel('Age of Users ➡');\n",
    "plt.yticks(tick_props*df_bike_sharing_age.age_bin.value_counts().sum(), tick_names);\n",
    "plt.suptitle(\"Age distribution of Users\");\n",
    "\n",
    "plt.subplot(1,2,2)\n",
    "plt.hist(data=df_bike_sharing_age, x = 'member_age', bins = bins);\n",
    "plt.xlim(df_bike_sharing_age.member_age.min(), 50);\n",
    "plt.yticks(tick_props*df_bike_sharing_age.age_bin.value_counts().sum(), tick_names);\n",
    "plt.xlabel('Age of Users ➡');"
   ]
  },
  {
   "cell_type": "code",
   "execution_count": 22,
   "id": "a7a5ddc3",
   "metadata": {},
   "outputs": [
    {
     "name": "stdout",
     "output_type": "stream",
     "text": [
      "We can see that the proportion of users between 21-39 years of age is 72.63%\n"
     ]
    }
   ],
   "source": [
    "max_prop_age = df_bike_sharing_age.age_bin.value_counts()[0:6].sum()/df_bike_sharing_age.age_bin.value_counts().sum()\n",
    "print(\"We can see that the proportion of users between 21-39 years of age is {:.2f}%\".format(100*max_prop_age))"
   ]
  },
  {
   "cell_type": "markdown",
   "id": "adfc0dde",
   "metadata": {},
   "source": [
    "We can quickly observe that a majority of our users are between 21 and 39 years of age. This seems to coincide with the intuitive age for office workers. It is very well possible that we may have figured out an important characteristic about our users with the limited information we have at hand."
   ]
  },
  {
   "cell_type": "markdown",
   "id": "4dd9ad48",
   "metadata": {},
   "source": [
    "<a id='nbikes'></a>\n",
    "### 2.1.5 [Number of bikes](#toc) \n",
    "Although this isn't exactly a univariate exploration of data, the number of bikes should offer important information about the dataset. If only we had the number of unique users😥. We could have calculated the number of users per bike."
   ]
  },
  {
   "cell_type": "code",
   "execution_count": 23,
   "id": "fbb55dd5",
   "metadata": {},
   "outputs": [
    {
     "name": "stdout",
     "output_type": "stream",
     "text": [
      "The number of bikes are 4618\n"
     ]
    }
   ],
   "source": [
    "print(\"The number of bikes are {}\".format(df_bike_sharing_clean.bike_id.nunique()))"
   ]
  },
  {
   "cell_type": "markdown",
   "id": "bd9a614b",
   "metadata": {},
   "source": [
    "<a id='gender_count'></a>\n",
    "### 2.1.6 [Proportion of Users by Gender](#toc)"
   ]
  },
  {
   "cell_type": "code",
   "execution_count": 24,
   "id": "80308f4b",
   "metadata": {},
   "outputs": [
    {
     "data": {
      "image/png": "[encoded data removed]",
      "text/plain": [
       "<Figure size 504x504 with 1 Axes>"
      ]
     },
     "metadata": {},
     "output_type": "display_data"
    }
   ],
   "source": [
    "plt.figure(figsize = [7,7])\n",
    "plt.pie(df_bike_sharing_clean.member_gender.value_counts(), labels = ['Male', 'Female', 'Others'], startangle=90, counterclock=False);\n",
    "plt.title(\"Proportion of Users by Gender\");\n",
    "plt.axis('square');"
   ]
  },
  {
   "cell_type": "markdown",
   "id": "25ceaf0c",
   "metadata": {},
   "source": [
    "<a id='bivariate'></a>\n",
    "## 2.2 [Bivariate Exploration](#toc)"
   ]
  },
  {
   "cell_type": "markdown",
   "id": "1cff12c6",
   "metadata": {},
   "source": [
    "<a id='usertripduration'></a>\n",
    "### 2.2.1 [Type of User and Duration of Use](#toc)\n",
    "We can be looking at a bivariate plot of `user_type` and `duration`. Since `user_type` is a categorical datatype, we can compare the averages of the duration each type uses bikes for.  "
   ]
  },
  {
   "cell_type": "code",
   "execution_count": 25,
   "id": "7e8968fe",
   "metadata": {},
   "outputs": [
    {
     "data": {
      "image/png": "[encoded data removed]",
      "text/plain": [
       "<Figure size 864x360 with 1 Axes>"
      ]
     },
     "metadata": {
      "needs_background": "light"
     },
     "output_type": "display_data"
    }
   ],
   "source": [
    "plt.figure(figsize = [12,5])\n",
    "base_color = sb.color_palette()[0]\n",
    "sb.barplot(data=df_bike_sharing_clean, x = 'user_type', y = 'duration_sec', color = base_color);\n",
    "plt.xlabel(\"User Type\");\n",
    "plt.ylabel(\"Duration in seconds\");\n",
    "plt.title('Type of Customer and Duration of Use');"
   ]
  },
  {
   "cell_type": "markdown",
   "id": "d97748a5",
   "metadata": {},
   "source": [
    "As can be seen customers are seen to go on longer trips than subscribers. However, subscribers have a much smaller (95%) confidence intervals implying that the customer trip duration is more erratic than the subscriber duration. Perhaps our subscribers use our service for daily commute whereas our customers are prone to use bikes for leisure travel? We can explore this in the multivariate section where we can plot customer type, day and duration in one clustered bar plot."
   ]
  },
  {
   "cell_type": "markdown",
   "id": "10e27141",
   "metadata": {},
   "source": [
    "<a id='genderduration'></a>\n",
    "### 2.2.2 [Gender of User and Duration](#toc)"
   ]
  },
  {
   "cell_type": "markdown",
   "id": "f85db65b",
   "metadata": {},
   "source": [
    "We can be looking at a bivariate plot of `member_gender` and `duration`. Since `member_gender` is a categorical datatype, we can compare the averages of the duration each type uses bikes for."
   ]
  },
  {
   "cell_type": "code",
   "execution_count": 26,
   "id": "c904b602",
   "metadata": {},
   "outputs": [
    {
     "data": {
      "image/png": "[encoded data removed]",
      "text/plain": [
       "<Figure size 864x360 with 1 Axes>"
      ]
     },
     "metadata": {
      "needs_background": "light"
     },
     "output_type": "display_data"
    }
   ],
   "source": [
    "plt.figure(figsize = [12,5])\n",
    "base_color = sb.color_palette()[0]\n",
    "sb.barplot(data=df_bike_sharing_clean, x = 'member_gender', y = 'duration_sec', color = base_color);\n",
    "plt.xlabel(\"Gender of User\");\n",
    "plt.ylabel(\"Duration in seconds\");\n",
    "plt.title('Gender of User and Duration of Use');"
   ]
  },
  {
   "cell_type": "markdown",
   "id": "ff483f69",
   "metadata": {},
   "source": [
    "Females appear to rent bikes for a slighter longer duration than males while users not identifying with either of the two genders seem to be biking for longer distances though the large confidence interval suggests that we may not have as many other users in comparison to male and female users that might make this result somewhat less significant."
   ]
  },
  {
   "cell_type": "markdown",
   "id": "de3f2131",
   "metadata": {},
   "source": [
    "<a id='hourgender'></a>\n",
    "### 2.2.3 [Use by Hour by Different Genders](#toc)"
   ]
  },
  {
   "cell_type": "code",
   "execution_count": 27,
   "id": "1eda1f70",
   "metadata": {},
   "outputs": [],
   "source": [
    "df_bike_sharing_hour = df_bike_sharing_clean.copy()\n",
    "df_bike_sharing['Hour'] = df_bike_sharing_hour.start_time.dt.hour\n",
    "freq_by_gender_hour = df_bike_sharing.groupby(['Hour','member_gender']).size().reset_index()\n",
    "freq_by_gender_hour.columns = ['hour','gender','count']"
   ]
  },
  {
   "cell_type": "code",
   "execution_count": 28,
   "id": "1178d4bd",
   "metadata": {},
   "outputs": [
    {
     "data": {
      "image/png": "[encoded data removed]",
      "text/plain": [
       "<Figure size 1080x504 with 1 Axes>"
      ]
     },
     "metadata": {
      "needs_background": "light"
     },
     "output_type": "display_data"
    }
   ],
   "source": [
    "plt.figure(figsize = [15,7])\n",
    "sb.pointplot(data=freq_by_gender_hour,x = 'hour', y = 'count', hue = 'gender');\n",
    "plt.xlabel(\"Hour of the day of February 2019\");\n",
    "ticks = range(0,24, 2)\n",
    "tick_labels = [str(tick) + \":00am\" if tick<=12 else str(tick-12) + \":00pm\" for tick in ticks]\n",
    "plt.xticks(ticks, tick_labels);\n",
    "plt.title(\"Gender-wise Hourly Distribution of Bike Sharing with across February 2019\");\n",
    "plt.ylabel('');"
   ]
  },
  {
   "cell_type": "markdown",
   "id": "5884c23a",
   "metadata": {},
   "source": [
    "This helps us better see the trends in the data with respect to the bike renting patterns of different genders during the day. The graph is bimodal for both males and females. Others doesn't seem to have sufficient observations to be perceptible on the same scale as males and females. We can use a log scale to aid our analysis"
   ]
  },
  {
   "cell_type": "code",
   "execution_count": 29,
   "id": "319af3c2",
   "metadata": {},
   "outputs": [
    {
     "data": {
      "image/png": "[encoded data removed]",
      "text/plain": [
       "<Figure size 1080x504 with 1 Axes>"
      ]
     },
     "metadata": {
      "needs_background": "light"
     },
     "output_type": "display_data"
    }
   ],
   "source": [
    "plt.figure(figsize = [15,7])\n",
    "sb.pointplot(data=freq_by_gender_hour,x = 'hour', y = 'count', hue = 'gender');\n",
    "plt.xlabel(\"Hour of the day of February 2019\");\n",
    "ticks = range(0,24, 2)\n",
    "tick_labels = [str(tick) + \":00am\" if tick<=12 else str(tick-12) + \":00pm\" for tick in ticks]\n",
    "plt.xticks(ticks, tick_labels);\n",
    "plt.title(\"Gender-wise Hourly Distribution of Bike Sharing with across February 2019\");\n",
    "plt.ylabel('');\n",
    "plt.yscale('log')\n",
    "\n",
    "yticks = np.arange(0.5, 4.5, 0.5)\n",
    "plt.yticks(np.power(10,yticks), np.power(10,yticks));"
   ]
  },
  {
   "cell_type": "markdown",
   "id": "43a4e9a1",
   "metadata": {},
   "source": [
    "And we were correct! All three graphs peak during the rush hours. Since currently we don't have a large enough proportion of other users, we can refer to the log scale graph to view it on the same scale as the two more common genders."
   ]
  },
  {
   "cell_type": "markdown",
   "id": "4a1ac02f",
   "metadata": {},
   "source": [
    "<a id='bikestocks'></a>\n",
    "### 2.2.4 [Bike stocks by Week for Different Locations](#toc)"
   ]
  },
  {
   "cell_type": "markdown",
   "id": "00597e40",
   "metadata": {},
   "source": [
    "In this section, we want to compute how bike stocks vary with different stations weekwise. We will want to subtract all occurences where trip starts from a particular location and add occurences where trip ends "
   ]
  },
  {
   "cell_type": "code",
   "execution_count": 67,
   "id": "459556ae",
   "metadata": {},
   "outputs": [],
   "source": [
    "df_bike_sharing_week = df_bike_sharing_clean.copy()\n",
    "df_bike_sharing_week['start_week'] = df_bike_sharing_week.start_time.dt.isocalendar().week - 5\n",
    "df_bike_sharing_week['end_week'] = df_bike_sharing_week.end_time.dt.isocalendar().week - 5\n",
    "\n",
    "df_start_week = df_bike_sharing_week.groupby(['start_week','start_station_name']).size().reset_index().rename(columns = {'start_week': 'week','start_station_name': 'station_name',0:'count'})\n",
    "df_end_week = df_bike_sharing_week.groupby(['end_week','end_station_name']).size().reset_index().rename(columns = {'end_week': 'week','end_station_name': 'station_name', 0:'count'})\n",
    "df_merged_entry_exit = df_start_week.merge(df_end_week, on = ['week','station_name'], how = 'outer')\n",
    "df_merged_entry_exit = df_merged_entry_exit.fillna(0)\n",
    "df_merged_entry_exit.rename(columns = {'count_x':'exit', 'count_y':'entry'}, inplace=True)\n",
    "df_merged_entry_exit['difference'] = df_merged_entry_exit['entry'] - df_merged_entry_exit['exit']\n",
    "\n",
    "# Most frequently occurring 5 stations in start_station and 5 stations in end_stations\n",
    "stations = []\n",
    "stations = stations + list(df_bike_sharing_clean.start_station_name.value_counts()[0:9].index)\n",
    "stations = stations + list(df_bike_sharing_clean.end_station_name.value_counts()[0:9].index)\n",
    "df_merged_entry_exit_filter = df_merged_entry_exit[df_merged_entry_exit.station_name.isin(stations)]"
   ]
  },
  {
   "cell_type": "markdown",
   "id": "1b04d3c4",
   "metadata": {},
   "source": [
    "Clearly there are too many station to represent on the same plot. What we'll do instead is generate a FacetGrid of plots. Here too we'll filter for most frequently occurring stations."
   ]
  },
  {
   "cell_type": "code",
   "execution_count": 79,
   "id": "dd21bd4c",
   "metadata": {},
   "outputs": [
    {
     "data": {
      "image/png": "[encoded data removed]",
      "text/plain": [
       "<Figure size 864x1440 with 10 Axes>"
      ]
     },
     "metadata": {
      "needs_background": "light"
     },
     "output_type": "display_data"
    }
   ],
   "source": [
    "g = sb.FacetGrid(data = df_merged_entry_exit_filter, col = 'station_name', col_wrap = 2, height=4, aspect= 1.5);\n",
    "g.map(plt.bar, 'week', 'difference');\n",
    "g.set_axis_labels(\"Week\", \"Bike Stock\");\n",
    "g.set_titles(col_template=\"{col_name}\");\n",
    "plt.xticks([0,1,2,3,4],['Week1', 'Week2', 'Week3', 'Week4', 'Week5']);"
   ]
  },
  {
   "cell_type": "markdown",
   "id": "b7732d1d",
   "metadata": {},
   "source": [
    "`San Francisco Caltrain Station 2` appears to be one of the most crowded in terms of the end location. On the other hand `Howard St at Beale St` seems to be the place where most trips start (we could be wrong since we haven't seen all the charts but this should be a reasonable conclusion). We might consider a mechanism to correct the resulting imbalance. Perhaps give discounts during off-hours to correct imbalances? Off course this should be done for bikes that are currently lying dormant and not subscribed to by any user which restricts our ability towards creating a perfect balance (and this shouldn't be our goal anyway! - since the bike user will use it during the time he has rented it)"
   ]
  },
  {
   "cell_type": "code",
   "execution_count": null,
   "id": "a28c4b26",
   "metadata": {},
   "outputs": [],
   "source": []
  }
 ],
 "metadata": {
  "kernelspec": {
   "display_name": "Python 3",
   "language": "python",
   "name": "python3"
  },
  "language_info": {
   "codemirror_mode": {
    "name": "ipython",
    "version": 3
   },
   "file_extension": ".py",
   "mimetype": "text/x-python",
   "name": "python",
   "nbconvert_exporter": "python",
   "pygments_lexer": "ipython3",
   "version": "3.9.5"
  }
 },
 "nbformat": 4,
 "nbformat_minor": 5
}
