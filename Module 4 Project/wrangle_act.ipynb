{
 "cells": [
  {
   "cell_type": "markdown",
   "metadata": {},
   "source": [
    "# Module 4: Assessing dog breeds for maximum social media outreach\n",
    "\n",
    "This notebook attempts to shed light on the dog breeds most likely to attract maximum likes and retweets on twitter. For this, I have divided the notebook into **4 distinct sections**\n",
    "1. Gathering\n",
    "2. Assessing Data\n",
    "3. Cleaning data\n",
    "4. Analysis\n",
    "\n",
    "This will be used in order to predict if a dog is likely to be popular on social media or not. Enough banter! Lets get on with the project."
   ]
  },
  {
   "cell_type": "markdown",
   "metadata": {},
   "source": [
    "## Table of Contents\n",
    "\n",
    "1. [Gathering](#gathering)<br>\n",
    "    1.1 [Importing Libraries](#importing)<br>\n",
    "    1.2 [Importing Data](#data)<br>\n",
    "2. [Assessing Data](#assessing)<br>\n",
    "    2.1 [Quality](#quality)<br>\n",
    "    2.2 [Tidiness](#tidy)<br>\n",
    "3. [Cleaning Data](#cleaning)<br>\n",
    "    3.1 [Quality](#qualclean)<br>\n",
    "    3.2 [Tidiness](#tidyclean)<br>\n",
    "4. [Analysis](#analyse)<br>\n",
    "    4.1 [Fitting a Linear Model](#ml)<br>\n",
    "    4.2 [Heatmaps for data](#heatmap)<br>"
   ]
  },
  {
   "cell_type": "markdown",
   "metadata": {},
   "source": [
    "### 1. Gathering:-\n",
    "<a id = \"gathering\"></a>\n",
    "Data will be gathered via the following sources:-\n",
    "1. From the `twitter_archive_enhanced.csv` file provided to us   \n",
    "2. From `image_predictions.tsv` available to download\n",
    "3. Using Tweepy to retrieve data about the likes, retweet count for a particular tweet id"
   ]
  },
  {
   "cell_type": "markdown",
   "metadata": {},
   "source": [
    "#### 1.1) Import the essential libraries:\n",
    "<a id=\"importing\"></a>"
   ]
  },
  {
   "cell_type": "code",
   "execution_count": 10,
   "metadata": {},
   "outputs": [],
   "source": [
    "import re\n",
    "import numpy as np\n",
    "import pandas as pd\n",
    "from tqdm import tqdm\n",
    "import requests\n",
    "import os\n",
    "import tweepy\n",
    "import json\n",
    "import statsmodels.api as sm\n",
    "import matplotlib.pyplot as plt\n",
    "import seaborn as sns\n",
    "%matplotlib inline"
   ]
  },
  {
   "cell_type": "markdown",
   "metadata": {},
   "source": [
    "#### 1.2) Importing data:\n",
    "<a id = \"data\"></a>"
   ]
  },
  {
   "cell_type": "markdown",
   "metadata": {},
   "source": [
    "a) Loading data from the `twitter-archive-enhanced.csv` file"
   ]
  },
  {
   "cell_type": "code",
   "execution_count": 11,
   "metadata": {},
   "outputs": [],
   "source": [
    "dogs_df = pd.read_csv('twitter-archive-enhanced.csv')"
   ]
  },
  {
   "cell_type": "markdown",
   "metadata": {},
   "source": [
    "b) Downloading and storing data for `image_predictions.tsv`"
   ]
  },
  {
   "cell_type": "code",
   "execution_count": 12,
   "metadata": {
    "scrolled": true
   },
   "outputs": [
    {
     "data": {
      "text/html": [
       "<div>\n",
       "<style scoped>\n",
       "    .dataframe tbody tr th:only-of-type {\n",
       "        vertical-align: middle;\n",
       "    }\n",
       "\n",
       "    .dataframe tbody tr th {\n",
       "        vertical-align: top;\n",
       "    }\n",
       "\n",
       "    .dataframe thead th {\n",
       "        text-align: right;\n",
       "    }\n",
       "</style>\n",
       "<table border=\"1\" class=\"dataframe\">\n",
       "  <thead>\n",
       "    <tr style=\"text-align: right;\">\n",
       "      <th></th>\n",
       "      <th>tweet_id</th>\n",
       "      <th>jpg_url</th>\n",
       "      <th>img_num</th>\n",
       "      <th>p1</th>\n",
       "      <th>p1_conf</th>\n",
       "      <th>p1_dog</th>\n",
       "      <th>p2</th>\n",
       "      <th>p2_conf</th>\n",
       "      <th>p2_dog</th>\n",
       "      <th>p3</th>\n",
       "      <th>p3_conf</th>\n",
       "      <th>p3_dog</th>\n",
       "    </tr>\n",
       "  </thead>\n",
       "  <tbody>\n",
       "    <tr>\n",
       "      <th>0</th>\n",
       "      <td>666020888022790149</td>\n",
       "      <td>https://pbs.twimg.com/media/CT4udn0WwAA0aMy.jpg</td>\n",
       "      <td>1</td>\n",
       "      <td>Welsh_springer_spaniel</td>\n",
       "      <td>0.465074</td>\n",
       "      <td>True</td>\n",
       "      <td>collie</td>\n",
       "      <td>0.156665</td>\n",
       "      <td>True</td>\n",
       "      <td>Shetland_sheepdog</td>\n",
       "      <td>0.061428</td>\n",
       "      <td>True</td>\n",
       "    </tr>\n",
       "    <tr>\n",
       "      <th>1</th>\n",
       "      <td>666029285002620928</td>\n",
       "      <td>https://pbs.twimg.com/media/CT42GRgUYAA5iDo.jpg</td>\n",
       "      <td>1</td>\n",
       "      <td>redbone</td>\n",
       "      <td>0.506826</td>\n",
       "      <td>True</td>\n",
       "      <td>miniature_pinscher</td>\n",
       "      <td>0.074192</td>\n",
       "      <td>True</td>\n",
       "      <td>Rhodesian_ridgeback</td>\n",
       "      <td>0.072010</td>\n",
       "      <td>True</td>\n",
       "    </tr>\n",
       "    <tr>\n",
       "      <th>2</th>\n",
       "      <td>666033412701032449</td>\n",
       "      <td>https://pbs.twimg.com/media/CT4521TWwAEvMyu.jpg</td>\n",
       "      <td>1</td>\n",
       "      <td>German_shepherd</td>\n",
       "      <td>0.596461</td>\n",
       "      <td>True</td>\n",
       "      <td>malinois</td>\n",
       "      <td>0.138584</td>\n",
       "      <td>True</td>\n",
       "      <td>bloodhound</td>\n",
       "      <td>0.116197</td>\n",
       "      <td>True</td>\n",
       "    </tr>\n",
       "    <tr>\n",
       "      <th>3</th>\n",
       "      <td>666044226329800704</td>\n",
       "      <td>https://pbs.twimg.com/media/CT5Dr8HUEAA-lEu.jpg</td>\n",
       "      <td>1</td>\n",
       "      <td>Rhodesian_ridgeback</td>\n",
       "      <td>0.408143</td>\n",
       "      <td>True</td>\n",
       "      <td>redbone</td>\n",
       "      <td>0.360687</td>\n",
       "      <td>True</td>\n",
       "      <td>miniature_pinscher</td>\n",
       "      <td>0.222752</td>\n",
       "      <td>True</td>\n",
       "    </tr>\n",
       "    <tr>\n",
       "      <th>4</th>\n",
       "      <td>666049248165822465</td>\n",
       "      <td>https://pbs.twimg.com/media/CT5IQmsXIAAKY4A.jpg</td>\n",
       "      <td>1</td>\n",
       "      <td>miniature_pinscher</td>\n",
       "      <td>0.560311</td>\n",
       "      <td>True</td>\n",
       "      <td>Rottweiler</td>\n",
       "      <td>0.243682</td>\n",
       "      <td>True</td>\n",
       "      <td>Doberman</td>\n",
       "      <td>0.154629</td>\n",
       "      <td>True</td>\n",
       "    </tr>\n",
       "  </tbody>\n",
       "</table>\n",
       "</div>"
      ],
      "text/plain": [
       "             tweet_id                                          jpg_url  \\\n",
       "0  666020888022790149  https://pbs.twimg.com/media/CT4udn0WwAA0aMy.jpg   \n",
       "1  666029285002620928  https://pbs.twimg.com/media/CT42GRgUYAA5iDo.jpg   \n",
       "2  666033412701032449  https://pbs.twimg.com/media/CT4521TWwAEvMyu.jpg   \n",
       "3  666044226329800704  https://pbs.twimg.com/media/CT5Dr8HUEAA-lEu.jpg   \n",
       "4  666049248165822465  https://pbs.twimg.com/media/CT5IQmsXIAAKY4A.jpg   \n",
       "\n",
       "   img_num                      p1   p1_conf  p1_dog                  p2  \\\n",
       "0        1  Welsh_springer_spaniel  0.465074    True              collie   \n",
       "1        1                 redbone  0.506826    True  miniature_pinscher   \n",
       "2        1         German_shepherd  0.596461    True            malinois   \n",
       "3        1     Rhodesian_ridgeback  0.408143    True             redbone   \n",
       "4        1      miniature_pinscher  0.560311    True          Rottweiler   \n",
       "\n",
       "    p2_conf  p2_dog                   p3   p3_conf  p3_dog  \n",
       "0  0.156665    True    Shetland_sheepdog  0.061428    True  \n",
       "1  0.074192    True  Rhodesian_ridgeback  0.072010    True  \n",
       "2  0.138584    True           bloodhound  0.116197    True  \n",
       "3  0.360687    True   miniature_pinscher  0.222752    True  \n",
       "4  0.243682    True             Doberman  0.154629    True  "
      ]
     },
     "execution_count": 12,
     "metadata": {},
     "output_type": "execute_result"
    }
   ],
   "source": [
    "# Step 1: Downloading data\n",
    "folder_name = 'Data_Files'\n",
    "if not os.path.exists(folder_name):\n",
    "    os.makedirs(folder_name)\n",
    "url = 'https://d17h27t6h515a5.cloudfront.net/topher/2017/August/599fd2ad_image-predictions/image-predictions.tsv'\n",
    "response = requests.get(url)\n",
    "with open(os.path.join(folder_name,url.split('/')[-1]), mode = 'wb') as file:\n",
    "    file.write(response.content)\n",
    "\n",
    "# Step 2: Reading data onto a dataframe\n",
    "image_predictions = pd.read_csv('Data_Files/image-predictions.tsv', sep = '\\t')\n",
    "image_predictions.head()"
   ]
  },
  {
   "cell_type": "markdown",
   "metadata": {},
   "source": [
    "c) Using Tweepy for getting metadata on the tweets if available <br>\n",
    "The information will be stored in `tweet_json.txt` present in the `Data_Files` directory from where the relevant fields can be read into a dataframe"
   ]
  },
  {
   "cell_type": "code",
   "execution_count": 13,
   "metadata": {},
   "outputs": [
    {
     "name": "stderr",
     "output_type": "stream",
     "text": [
      "100%|██████████████████████████████████████████████████████████████████████████████| 2356/2356 [36:23<00:00,  1.08it/s]\n"
     ]
    }
   ],
   "source": [
    "# Retrieving data from twitter and storing in tweet_json.txt\n",
    "consumer_key = 'HIDDEN'\n",
    "consumer_secret = 'HIDDEN'\n",
    "\n",
    "access_token = 'HIDDEN'\n",
    "access_secret = 'HIDDEN'\n",
    "\n",
    "auth = tweepy.OAuthHandler(consumer_key,consumer_secret)\n",
    "auth.set_access_token(access_token, access_secret)\n",
    "\n",
    "api = tweepy.API(auth,wait_on_rate_limit = True)\n",
    "\n",
    "for tweet_id in tqdm(list(dogs_df.tweet_id)):\n",
    "    try:\n",
    "        json_format = api.get_status(tweet_id, tweet_mode = 'extended')._json\n",
    "        json_format['tweet_id'] = tweet_id # although the json object contains an 'id' field, I added this to make referencing simpler for me\n",
    "#         print(json_format['tweet_id'])\n",
    "        with open(\"Data_Files/tweet_json.txt\",\"a\") as file:\n",
    "            file.write(json.dumps(json_format))\n",
    "            file.write(\"\\n\")\n",
    "    except:\n",
    "        pass"
   ]
  },
  {
   "cell_type": "code",
   "execution_count": 14,
   "metadata": {},
   "outputs": [
    {
     "name": "stdout",
     "output_type": "stream",
     "text": [
      "<class 'pandas.core.frame.DataFrame'>\n",
      "RangeIndex: 2331 entries, 0 to 2330\n",
      "Data columns (total 33 columns):\n",
      " #   Column                         Non-Null Count  Dtype  \n",
      "---  ------                         --------------  -----  \n",
      " 0   created_at                     2331 non-null   object \n",
      " 1   id                             2331 non-null   int64  \n",
      " 2   id_str                         2331 non-null   object \n",
      " 3   full_text                      2331 non-null   object \n",
      " 4   truncated                      2331 non-null   bool   \n",
      " 5   display_text_range             2331 non-null   object \n",
      " 6   entities                       2331 non-null   object \n",
      " 7   extended_entities              2059 non-null   object \n",
      " 8   source                         2331 non-null   object \n",
      " 9   in_reply_to_status_id          77 non-null     float64\n",
      " 10  in_reply_to_status_id_str      77 non-null     object \n",
      " 11  in_reply_to_user_id            77 non-null     float64\n",
      " 12  in_reply_to_user_id_str        77 non-null     object \n",
      " 13  in_reply_to_screen_name        77 non-null     object \n",
      " 14  user                           2331 non-null   object \n",
      " 15  geo                            0 non-null      object \n",
      " 16  coordinates                    0 non-null      object \n",
      " 17  place                          1 non-null      object \n",
      " 18  contributors                   0 non-null      object \n",
      " 19  is_quote_status                2331 non-null   bool   \n",
      " 20  retweet_count                  2331 non-null   int64  \n",
      " 21  favorite_count                 2331 non-null   int64  \n",
      " 22  favorited                      2331 non-null   bool   \n",
      " 23  retweeted                      2331 non-null   bool   \n",
      " 24  possibly_sensitive             2197 non-null   object \n",
      " 25  possibly_sensitive_appealable  2197 non-null   object \n",
      " 26  lang                           2331 non-null   object \n",
      " 27  tweet_id                       2331 non-null   int64  \n",
      " 28  retweeted_status               163 non-null    object \n",
      " 29  quoted_status_id               26 non-null     float64\n",
      " 30  quoted_status_id_str           26 non-null     object \n",
      " 31  quoted_status_permalink        26 non-null     object \n",
      " 32  quoted_status                  24 non-null     object \n",
      "dtypes: bool(4), float64(3), int64(4), object(22)\n",
      "memory usage: 537.3+ KB\n"
     ]
    }
   ],
   "source": [
    "# # Loading relevant fields from twet_json.txt and storing into a dataframe\n",
    "# df_list = {'tweet_id': [], 'retweet_count':[],'favorite_count':[]}\n",
    "df_list = []\n",
    "with open(\"Data_Files/tweet_json.txt\",\"r\") as file:\n",
    "    while True:\n",
    "        json_string = file.readline()\n",
    "        if len(json_string)!=0:\n",
    "            df_list.append(json.loads(json_string))\n",
    "        else:\n",
    "            break\n",
    "\n",
    "twitter_data = pd.DataFrame(df_list)\n",
    "twitter_data.info()"
   ]
  },
  {
   "cell_type": "markdown",
   "metadata": {},
   "source": [
    "### 2. Assessing Data:-\n",
    "<a id=\"assessing\"></a>"
   ]
  },
  {
   "cell_type": "markdown",
   "metadata": {},
   "source": [
    "The rubric needs 8 quality issues and 2 tidiness issues to be documented. In this section, I will proceed to identify as many quality/tidiness issues that would be crucial to solve before analysis. <br>\n",
    "Before proceeding with the assessment of data, I want to list the dataframes created so far and the information they capture\n",
    "1. `dogs_df` which contains the basic information about the dogs in the dataframe - including but not limited to tweet id, rating, category, name, description,urls and so on\n",
    "2. `image_prediction` which contains the top 3 predictions for the breed of the dog with the confidence of prediction\n",
    "3. `twitter_data` which contains the retweets and likes garnered by the tweet."
   ]
  },
  {
   "cell_type": "markdown",
   "metadata": {},
   "source": [
    "Next I will create the common segment where the quality and tidiness issues will be stacked. This will be the single place we'll be returning to in case we want to refer issues later on."
   ]
  },
  {
   "cell_type": "markdown",
   "metadata": {},
   "source": [
    "##### Quality\n",
    "<a id = 'quality'></a>\n",
    "I) `dogs_df`\n",
    "- [x] Some of the observations are retweets so need to be discarded. Filter out only those tweets that have an image url\n",
    "- [x] `timestamp`, `retweeted_status_timestamp` columns should be of datatype `datetime`\n",
    "- [x] We need to replace all `None` occurences with NaN to make the dataframe easy to work with\n",
    "- [x] ~~`in_reply_to_status_id`,`in_reply_to_user_id` and the retweeted categories have a lot of missing values - can be retreived from the `tweet_json.txt` file if present~~\n",
    "- [x] The ratings (`rating_numerator`) are indicated to be incorrect a lot of times. This can be corrected for.\n",
    "- [x] Dog stages too are sometimes missing/sometimes incorrect and need to be corrected\n",
    "- [x] ~~Dog names too can be looked at for inconsistencies (although we might need to examine the feasibility of this since this can be a pretty complex endeavour)~~ Can't be done with current knowledge (might need NLP knowledge)\n",
    "- [x] Dog names are incorrectly identified (bizarre name \"such\" at index 23, or the name \"quite\", \"an\", \"not\", \"one\", \"very\", \"O\",\"just\",\"old\",\"life\",\"officially\", \"space\",\"light\")\n",
    "\n",
    "II) `image_prediction`\n",
    "- [x] ~~Need to check for duplicate tweet id rows and consider the prediction confidence to choose which one to keep~~\n",
    "\n",
    "III) `twitter_data`\n",
    "- [x] ~~Need to check if any other columns can be added to the dataframe (Not a data cleaning task but rather a gathering task. Gather-Assess-Clean can be iterative!!!).~~ "
   ]
  },
  {
   "cell_type": "markdown",
   "metadata": {},
   "source": [
    "##### Tidiness\n",
    "<a id=\"tidy\"></a>\n",
    "I) `dogs_df`\n",
    "- [x] `doggo`,`floofer`,`pupper` and `puppo` should be under a single column `category`. One thing to note here that a single dog may be identified to belong to several categories\n",
    "- [x] `text` column has information pertinent to other features too and needs to be cleaned as per rule - every variable should be in a new column\n",
    "\n",
    "\n",
    "II) `image_prediction`\n",
    "- [x] ~~Need this be a separate table? This upon examination does satisfy the condition for tidiness - each type of observational unit must be a table~~ This does not need to be a separate table\n",
    "\n",
    "\n",
    "III) `twitter_data`\n",
    "- [x] ~~Need this be a separate table? This needs to examined since maybe this may not satisfy the condition for tidiness - each type of observational unit must be a table~~ This does not need to be a separate table."
   ]
  },
  {
   "cell_type": "code",
   "execution_count": 15,
   "metadata": {},
   "outputs": [
    {
     "name": "stdout",
     "output_type": "stream",
     "text": [
      "<class 'pandas.core.frame.DataFrame'>\n",
      "RangeIndex: 2356 entries, 0 to 2355\n",
      "Data columns (total 17 columns):\n",
      " #   Column                      Non-Null Count  Dtype  \n",
      "---  ------                      --------------  -----  \n",
      " 0   tweet_id                    2356 non-null   int64  \n",
      " 1   in_reply_to_status_id       78 non-null     float64\n",
      " 2   in_reply_to_user_id         78 non-null     float64\n",
      " 3   timestamp                   2356 non-null   object \n",
      " 4   source                      2356 non-null   object \n",
      " 5   text                        2356 non-null   object \n",
      " 6   retweeted_status_id         181 non-null    float64\n",
      " 7   retweeted_status_user_id    181 non-null    float64\n",
      " 8   retweeted_status_timestamp  181 non-null    object \n",
      " 9   expanded_urls               2297 non-null   object \n",
      " 10  rating_numerator            2356 non-null   int64  \n",
      " 11  rating_denominator          2356 non-null   int64  \n",
      " 12  name                        2356 non-null   object \n",
      " 13  doggo                       2356 non-null   object \n",
      " 14  floofer                     2356 non-null   object \n",
      " 15  pupper                      2356 non-null   object \n",
      " 16  puppo                       2356 non-null   object \n",
      "dtypes: float64(4), int64(3), object(10)\n",
      "memory usage: 313.0+ KB\n"
     ]
    }
   ],
   "source": [
    "# Incorrect datatype for datetime related information. \n",
    "# Categories split into multiple columns\n",
    "\n",
    "dogs_df.info()"
   ]
  },
  {
   "cell_type": "code",
   "execution_count": 16,
   "metadata": {},
   "outputs": [
    {
     "name": "stdout",
     "output_type": "stream",
     "text": [
      "Number of retweets: 181\n",
      "All replies by WeRateDogs. We will retain these\n"
     ]
    }
   ],
   "source": [
    "# Check for retweets\n",
    "print(\"Number of retweets: {}\".format(dogs_df[dogs_df.retweeted_status_id.notnull()].shape[0]))\n",
    "\n",
    "# Check for replies\n",
    "temp = twitter_data[twitter_data.tweet_id.isin(dogs_df[dogs_df.in_reply_to_user_id.notnull()].tweet_id)].user\n",
    "flag = 0\n",
    "for i in range(temp.shape[0]):\n",
    "    if re.search(r'WeRateDogs',temp.iloc[i]['name']):\n",
    "        pass\n",
    "    else:\n",
    "        flag = 1\n",
    "        print(temp.iloc[i]['name'])\n",
    "        \n",
    "if flag ==0:\n",
    "    print(\"All replies by WeRateDogs. We will retain these\")"
   ]
  },
  {
   "cell_type": "code",
   "execution_count": 17,
   "metadata": {},
   "outputs": [
    {
     "data": {
      "text/plain": [
       "0                                                         This is Phineas. He's a mystical boy. Only ever appears in the hole of a donut. 13/10 https://t.co/MgUWQ76dJU\n",
       "1    This is Tilly. She's just checking pup on you. Hopes you're doing ok. If not, she's available for pats, snugs, boops, the whole bit. 13/10 https://t.co/0Xxu71qeIV\n",
       "2                     This is Archie. He is a rare Norwegian Pouncing Corgo. Lives in the tall grass. You never know when one may strike. 12/10 https://t.co/wUnZnhtVJB\n",
       "3                                                               This is Darla. She commenced a snooze mid meal. 13/10 happens to the best of us https://t.co/tD36da7qLQ\n",
       "4    This is Franklin. He would like you to stop calling him \"cute.\" He is a very fierce shark and should be respected as such. 12/10 #BarkWeek https://t.co/AtUZn91f7f\n",
       "Name: text, dtype: object"
      ]
     },
     "execution_count": 17,
     "metadata": {},
     "output_type": "execute_result"
    }
   ],
   "source": [
    "# Other column information also present in text column\n",
    "\n",
    "pd.set_option('display.max_colwidth', None)\n",
    "dogs_df.text.head()"
   ]
  },
  {
   "cell_type": "code",
   "execution_count": 18,
   "metadata": {},
   "outputs": [
    {
     "name": "stdout",
     "output_type": "stream",
     "text": [
      "Number of duplicated records in dogs dataframe: 0\n"
     ]
    }
   ],
   "source": [
    "# No duplicate tweet ids present\n",
    "print(\"Number of duplicated records in dogs dataframe: {}\".format(dogs_df.tweet_id.duplicated().sum()))"
   ]
  },
  {
   "cell_type": "code",
   "execution_count": 19,
   "metadata": {},
   "outputs": [
    {
     "name": "stdout",
     "output_type": "stream",
     "text": [
      "Number of rating mismatches: 6\n",
      "Number of metric mismatches: 0\n"
     ]
    }
   ],
   "source": [
    "# Checking for rating mismatches\n",
    "\n",
    "temp = dogs_df.text.str.extract(r'(((\\d+\\.\\d+)|\\d+)/((\\d+\\.\\d+)|\\d+))')[0].astype('str').str.split('/')\n",
    "temp = pd.DataFrame(temp.to_list(), columns=['rating_numerator', 'rating_denominator'])\n",
    "temp['rating_numerator'] = temp['rating_numerator'].astype('float')\n",
    "temp['rating_denominator'] = temp['rating_denominator'].astype('float')\n",
    "pd.set_option('display.max_colwidth', None)\n",
    "temp[dogs_df['rating_numerator'] != temp['rating_numerator']]\n",
    "print(\"Number of rating mismatches: {}\".format(dogs_df[dogs_df['rating_numerator'] != temp['rating_numerator']].tweet_id.count()))\n",
    "print(\"Number of metric mismatches: {}\".format(dogs_df[dogs_df['rating_denominator'] != temp['rating_denominator']].tweet_id.count()))"
   ]
  },
  {
   "cell_type": "code",
   "execution_count": 20,
   "metadata": {},
   "outputs": [
    {
     "name": "stdout",
     "output_type": "stream",
     "text": [
      "Number of doggo misses: 10\n",
      "Number of floofer misses: 0\n",
      "Number of pupper misses: 26\n",
      "Number of puppo misses: 8\n"
     ]
    }
   ],
   "source": [
    "# Checking for category mismatches\n",
    "\n",
    "category_df = pd.DataFrame()\n",
    "categories = ['doggo','floofer','pupper','puppo']\n",
    "for category in categories:\n",
    "    category_df[category] = dogs_df.text.str.lower().str.extract(r'({})'.format(category))[0]\n",
    "# identify those columns where category is missed or does not match\n",
    "print(\"Number of doggo misses: {}\".format(dogs_df[(dogs_df.replace('None', '').doggo != category_df.fillna('').doggo)].tweet_id.count()))\n",
    "print(\"Number of floofer misses: {}\".format(dogs_df[(dogs_df.replace('None', '').floofer != category_df.fillna('').floofer)].tweet_id.count()))\n",
    "print(\"Number of pupper misses: {}\".format(dogs_df[(dogs_df.replace('None', '').pupper != category_df.fillna('').pupper)].tweet_id.count()))\n",
    "print(\"Number of puppo misses: {}\".format(dogs_df[(dogs_df.replace('None', '').puppo != category_df.fillna('').puppo)].tweet_id.count()))"
   ]
  },
  {
   "cell_type": "code",
   "execution_count": 26,
   "metadata": {},
   "outputs": [
    {
     "name": "stdout",
     "output_type": "stream",
     "text": [
      "Number of dogs for which name can be corrected: 109\n"
     ]
    }
   ],
   "source": [
    "# dogs_df.name.unique() an, not, one, very, O,just,old,life,officially, space,light - a common theme all of these have only small letters\n",
    "print(\"Number of dogs for which name can be corrected: {}\".format(dogs_df[dogs_df.name.str[0].str.isupper() == False].shape[0]))"
   ]
  },
  {
   "cell_type": "code",
   "execution_count": 27,
   "metadata": {},
   "outputs": [
    {
     "name": "stdout",
     "output_type": "stream",
     "text": [
      "Number of duplicated records in image predictions: 0\n"
     ]
    }
   ],
   "source": [
    "# Checking for duplicate records\n",
    "\n",
    "print(\"Number of duplicated records in image predictions: {}\".format(image_predictions.tweet_id.duplicated().sum()))"
   ]
  },
  {
   "cell_type": "code",
   "execution_count": 28,
   "metadata": {},
   "outputs": [
    {
     "name": "stdout",
     "output_type": "stream",
     "text": [
      "<class 'pandas.core.frame.DataFrame'>\n",
      "RangeIndex: 2331 entries, 0 to 2330\n",
      "Data columns (total 33 columns):\n",
      " #   Column                         Non-Null Count  Dtype  \n",
      "---  ------                         --------------  -----  \n",
      " 0   created_at                     2331 non-null   object \n",
      " 1   id                             2331 non-null   int64  \n",
      " 2   id_str                         2331 non-null   object \n",
      " 3   full_text                      2331 non-null   object \n",
      " 4   truncated                      2331 non-null   bool   \n",
      " 5   display_text_range             2331 non-null   object \n",
      " 6   entities                       2331 non-null   object \n",
      " 7   extended_entities              2059 non-null   object \n",
      " 8   source                         2331 non-null   object \n",
      " 9   in_reply_to_status_id          77 non-null     float64\n",
      " 10  in_reply_to_status_id_str      77 non-null     object \n",
      " 11  in_reply_to_user_id            77 non-null     float64\n",
      " 12  in_reply_to_user_id_str        77 non-null     object \n",
      " 13  in_reply_to_screen_name        77 non-null     object \n",
      " 14  user                           2331 non-null   object \n",
      " 15  geo                            0 non-null      object \n",
      " 16  coordinates                    0 non-null      object \n",
      " 17  place                          1 non-null      object \n",
      " 18  contributors                   0 non-null      object \n",
      " 19  is_quote_status                2331 non-null   bool   \n",
      " 20  retweet_count                  2331 non-null   int64  \n",
      " 21  favorite_count                 2331 non-null   int64  \n",
      " 22  favorited                      2331 non-null   bool   \n",
      " 23  retweeted                      2331 non-null   bool   \n",
      " 24  possibly_sensitive             2197 non-null   object \n",
      " 25  possibly_sensitive_appealable  2197 non-null   object \n",
      " 26  lang                           2331 non-null   object \n",
      " 27  tweet_id                       2331 non-null   int64  \n",
      " 28  retweeted_status               163 non-null    object \n",
      " 29  quoted_status_id               26 non-null     float64\n",
      " 30  quoted_status_id_str           26 non-null     object \n",
      " 31  quoted_status_permalink        26 non-null     object \n",
      " 32  quoted_status                  24 non-null     object \n",
      "dtypes: bool(4), float64(3), int64(4), object(22)\n",
      "memory usage: 537.3+ KB\n"
     ]
    }
   ],
   "source": [
    "# Checking for features that might be useful for analysis\n",
    "\n",
    "twitter_data.info()"
   ]
  },
  {
   "cell_type": "markdown",
   "metadata": {},
   "source": [
    "Columns that can be identified to be useful for analysis:-\n",
    "1. `retweet_count`\n",
    "2. `favorite_count`"
   ]
  },
  {
   "cell_type": "markdown",
   "metadata": {},
   "source": [
    "For considering whether or not the `image_predictions` dataframe can be a separate table, we can examine the features it seeks to capture"
   ]
  },
  {
   "cell_type": "code",
   "execution_count": 29,
   "metadata": {},
   "outputs": [
    {
     "name": "stdout",
     "output_type": "stream",
     "text": [
      "<class 'pandas.core.frame.DataFrame'>\n",
      "RangeIndex: 2075 entries, 0 to 2074\n",
      "Data columns (total 12 columns):\n",
      " #   Column    Non-Null Count  Dtype  \n",
      "---  ------    --------------  -----  \n",
      " 0   tweet_id  2075 non-null   int64  \n",
      " 1   jpg_url   2075 non-null   object \n",
      " 2   img_num   2075 non-null   int64  \n",
      " 3   p1        2075 non-null   object \n",
      " 4   p1_conf   2075 non-null   float64\n",
      " 5   p1_dog    2075 non-null   bool   \n",
      " 6   p2        2075 non-null   object \n",
      " 7   p2_conf   2075 non-null   float64\n",
      " 8   p2_dog    2075 non-null   bool   \n",
      " 9   p3        2075 non-null   object \n",
      " 10  p3_conf   2075 non-null   float64\n",
      " 11  p3_dog    2075 non-null   bool   \n",
      "dtypes: bool(3), float64(3), int64(2), object(4)\n",
      "memory usage: 152.1+ KB\n"
     ]
    }
   ],
   "source": [
    "# Checking for whether image predictions needs to be a separate table\n",
    "\n",
    "image_predictions.info()"
   ]
  },
  {
   "cell_type": "markdown",
   "metadata": {},
   "source": [
    "Here, we can clearly see that aside from the primary key identifying the prediction with the image from a particular tweet, we have the the predictions and confidence level themselves of the top 3 predictions. We can thus conclude that the table should not stand by itself."
   ]
  },
  {
   "cell_type": "code",
   "execution_count": 30,
   "metadata": {},
   "outputs": [
    {
     "name": "stdout",
     "output_type": "stream",
     "text": [
      "<class 'pandas.core.frame.DataFrame'>\n",
      "RangeIndex: 2331 entries, 0 to 2330\n",
      "Data columns (total 33 columns):\n",
      " #   Column                         Non-Null Count  Dtype  \n",
      "---  ------                         --------------  -----  \n",
      " 0   created_at                     2331 non-null   object \n",
      " 1   id                             2331 non-null   int64  \n",
      " 2   id_str                         2331 non-null   object \n",
      " 3   full_text                      2331 non-null   object \n",
      " 4   truncated                      2331 non-null   bool   \n",
      " 5   display_text_range             2331 non-null   object \n",
      " 6   entities                       2331 non-null   object \n",
      " 7   extended_entities              2059 non-null   object \n",
      " 8   source                         2331 non-null   object \n",
      " 9   in_reply_to_status_id          77 non-null     float64\n",
      " 10  in_reply_to_status_id_str      77 non-null     object \n",
      " 11  in_reply_to_user_id            77 non-null     float64\n",
      " 12  in_reply_to_user_id_str        77 non-null     object \n",
      " 13  in_reply_to_screen_name        77 non-null     object \n",
      " 14  user                           2331 non-null   object \n",
      " 15  geo                            0 non-null      object \n",
      " 16  coordinates                    0 non-null      object \n",
      " 17  place                          1 non-null      object \n",
      " 18  contributors                   0 non-null      object \n",
      " 19  is_quote_status                2331 non-null   bool   \n",
      " 20  retweet_count                  2331 non-null   int64  \n",
      " 21  favorite_count                 2331 non-null   int64  \n",
      " 22  favorited                      2331 non-null   bool   \n",
      " 23  retweeted                      2331 non-null   bool   \n",
      " 24  possibly_sensitive             2197 non-null   object \n",
      " 25  possibly_sensitive_appealable  2197 non-null   object \n",
      " 26  lang                           2331 non-null   object \n",
      " 27  tweet_id                       2331 non-null   int64  \n",
      " 28  retweeted_status               163 non-null    object \n",
      " 29  quoted_status_id               26 non-null     float64\n",
      " 30  quoted_status_id_str           26 non-null     object \n",
      " 31  quoted_status_permalink        26 non-null     object \n",
      " 32  quoted_status                  24 non-null     object \n",
      "dtypes: bool(4), float64(3), int64(4), object(22)\n",
      "memory usage: 537.3+ KB\n"
     ]
    }
   ],
   "source": [
    "# Checking for whether twitter data needs to be a separate table\n",
    "\n",
    "twitter_data.info()"
   ]
  },
  {
   "cell_type": "markdown",
   "metadata": {},
   "source": [
    "Here we notice that this is the data from `dogs_df` itself with a few more features. So it can be safely merged with the `dogs_df` with the addition of our features of interest since it contains attributes of the tweets themselves (in perfect harmony with what `dogs_df` seeks to capture)."
   ]
  },
  {
   "cell_type": "markdown",
   "metadata": {},
   "source": [
    "### 3. Cleaning Data:-\n",
    "<a id = \"cleaning\"></a>"
   ]
  },
  {
   "cell_type": "markdown",
   "metadata": {},
   "source": [
    "### 3.1) Quality\n",
    "<a id='qualclean'></a>\n",
    "Quality issues in data are resolved in this section"
   ]
  },
  {
   "cell_type": "markdown",
   "metadata": {},
   "source": [
    "**Define** <br>\n",
    "Retweets are to be removed. For this we can check `retweeted_status_id` columns and remove if not null. <br>\n",
    "As already stated earlier, the replies are all from WeRateDogs and hence will be retained for analysis. <br>\n",
    "I will also drop the 3 columns that captures retweet information since that is no longer required."
   ]
  },
  {
   "cell_type": "markdown",
   "metadata": {},
   "source": [
    "**Clean**"
   ]
  },
  {
   "cell_type": "code",
   "execution_count": 34,
   "metadata": {},
   "outputs": [],
   "source": [
    "dogs_cleaned_df = dogs_df.copy()\n",
    "dogs_cleaned_df = dogs_cleaned_df[dogs_cleaned_df.retweeted_status_id.isnull()].reset_index()"
   ]
  },
  {
   "cell_type": "markdown",
   "metadata": {},
   "source": [
    "**Test**"
   ]
  },
  {
   "cell_type": "code",
   "execution_count": 36,
   "metadata": {},
   "outputs": [
    {
     "name": "stdout",
     "output_type": "stream",
     "text": [
      "Number of retweets in the cleaned dataframe: 0\n",
      "<class 'pandas.core.frame.DataFrame'>\n",
      "RangeIndex: 2175 entries, 0 to 2174\n",
      "Data columns (total 15 columns):\n",
      " #   Column                 Non-Null Count  Dtype  \n",
      "---  ------                 --------------  -----  \n",
      " 0   index                  2175 non-null   int64  \n",
      " 1   tweet_id               2175 non-null   int64  \n",
      " 2   in_reply_to_status_id  78 non-null     float64\n",
      " 3   in_reply_to_user_id    78 non-null     float64\n",
      " 4   timestamp              2175 non-null   object \n",
      " 5   source                 2175 non-null   object \n",
      " 6   text                   2175 non-null   object \n",
      " 7   expanded_urls          2117 non-null   object \n",
      " 8   rating_numerator       2175 non-null   int64  \n",
      " 9   rating_denominator     2175 non-null   int64  \n",
      " 10  name                   2175 non-null   object \n",
      " 11  doggo                  2175 non-null   object \n",
      " 12  floofer                2175 non-null   object \n",
      " 13  pupper                 2175 non-null   object \n",
      " 14  puppo                  2175 non-null   object \n",
      "dtypes: float64(2), int64(4), object(9)\n",
      "memory usage: 255.0+ KB\n"
     ]
    }
   ],
   "source": [
    "print(\"Number of retweets in the cleaned dataframe: {}\".format(dogs_cleaned_df.retweeted_status_id.notnull().sum()))\n",
    "dogs_cleaned_df.drop(['retweeted_status_id','retweeted_status_user_id','retweeted_status_timestamp'], axis = 1, inplace=True)\n",
    "dogs_cleaned_df.info()"
   ]
  },
  {
   "cell_type": "markdown",
   "metadata": {},
   "source": [
    "**Define** <br>\n",
    "The `timestamp` column should be of datatype `datetime`"
   ]
  },
  {
   "cell_type": "markdown",
   "metadata": {},
   "source": [
    "**Code**"
   ]
  },
  {
   "cell_type": "code",
   "execution_count": 37,
   "metadata": {},
   "outputs": [],
   "source": [
    "dogs_cleaned_df['timestamp'] = pd.to_datetime(dogs_cleaned_df['timestamp'])"
   ]
  },
  {
   "cell_type": "markdown",
   "metadata": {},
   "source": [
    "**Test**"
   ]
  },
  {
   "cell_type": "code",
   "execution_count": 38,
   "metadata": {},
   "outputs": [
    {
     "name": "stdout",
     "output_type": "stream",
     "text": [
      "<class 'pandas.core.frame.DataFrame'>\n",
      "RangeIndex: 2175 entries, 0 to 2174\n",
      "Data columns (total 15 columns):\n",
      " #   Column                 Non-Null Count  Dtype              \n",
      "---  ------                 --------------  -----              \n",
      " 0   index                  2175 non-null   int64              \n",
      " 1   tweet_id               2175 non-null   int64              \n",
      " 2   in_reply_to_status_id  78 non-null     float64            \n",
      " 3   in_reply_to_user_id    78 non-null     float64            \n",
      " 4   timestamp              2175 non-null   datetime64[ns, UTC]\n",
      " 5   source                 2175 non-null   object             \n",
      " 6   text                   2175 non-null   object             \n",
      " 7   expanded_urls          2117 non-null   object             \n",
      " 8   rating_numerator       2175 non-null   int64              \n",
      " 9   rating_denominator     2175 non-null   int64              \n",
      " 10  name                   2175 non-null   object             \n",
      " 11  doggo                  2175 non-null   object             \n",
      " 12  floofer                2175 non-null   object             \n",
      " 13  pupper                 2175 non-null   object             \n",
      " 14  puppo                  2175 non-null   object             \n",
      "dtypes: datetime64[ns, UTC](1), float64(2), int64(4), object(8)\n",
      "memory usage: 255.0+ KB\n"
     ]
    }
   ],
   "source": [
    "dogs_cleaned_df.info()"
   ]
  },
  {
   "cell_type": "markdown",
   "metadata": {},
   "source": [
    "**Define** <br>\n",
    "Replace the null occurences with NaN. This will make it easier for us to work with the data in the later stages."
   ]
  },
  {
   "cell_type": "markdown",
   "metadata": {},
   "source": [
    "**Code**"
   ]
  },
  {
   "cell_type": "code",
   "execution_count": 40,
   "metadata": {},
   "outputs": [],
   "source": [
    "dogs_cleaned_df = dogs_cleaned_df.replace('None',np.nan)"
   ]
  },
  {
   "cell_type": "markdown",
   "metadata": {},
   "source": [
    "**Test**"
   ]
  },
  {
   "cell_type": "code",
   "execution_count": 41,
   "metadata": {},
   "outputs": [
    {
     "name": "stdout",
     "output_type": "stream",
     "text": [
      "<class 'pandas.core.frame.DataFrame'>\n",
      "RangeIndex: 2175 entries, 0 to 2174\n",
      "Data columns (total 15 columns):\n",
      " #   Column                 Non-Null Count  Dtype              \n",
      "---  ------                 --------------  -----              \n",
      " 0   index                  2175 non-null   int64              \n",
      " 1   tweet_id               2175 non-null   int64              \n",
      " 2   in_reply_to_status_id  78 non-null     float64            \n",
      " 3   in_reply_to_user_id    78 non-null     float64            \n",
      " 4   timestamp              2175 non-null   datetime64[ns, UTC]\n",
      " 5   source                 2175 non-null   object             \n",
      " 6   text                   2175 non-null   object             \n",
      " 7   expanded_urls          2117 non-null   object             \n",
      " 8   rating_numerator       2175 non-null   int64              \n",
      " 9   rating_denominator     2175 non-null   int64              \n",
      " 10  name                   1495 non-null   object             \n",
      " 11  doggo                  87 non-null     object             \n",
      " 12  floofer                10 non-null     object             \n",
      " 13  pupper                 234 non-null    object             \n",
      " 14  puppo                  25 non-null     object             \n",
      "dtypes: datetime64[ns, UTC](1), float64(2), int64(4), object(8)\n",
      "memory usage: 255.0+ KB\n"
     ]
    }
   ],
   "source": [
    "dogs_cleaned_df.info()"
   ]
  },
  {
   "cell_type": "markdown",
   "metadata": {},
   "source": [
    "**Define** <br>\n",
    "The ratings numerator and denominator needs to be corrected. This can be achieved by extracting the correct values from the cleaned dataframe. We will follow a similar process as one used in identifying that the rating values were incorrect. From the earlier analysis, we had concluded that there were 6 mismatches. However, it can be possible that this time around we may not have as many ratings mismatches in the cleaned dataframe as some rows have been dropped."
   ]
  },
  {
   "cell_type": "markdown",
   "metadata": {},
   "source": [
    "**Code**"
   ]
  },
  {
   "cell_type": "code",
   "execution_count": 42,
   "metadata": {},
   "outputs": [
    {
     "name": "stdout",
     "output_type": "stream",
     "text": [
      "Number of rating mismatches: 5\n",
      "Number of metric mismatches: 0\n"
     ]
    }
   ],
   "source": [
    "temp = dogs_cleaned_df.text.str.extract(r'(((\\d+\\.\\d+)|\\d+)/((\\d+\\.\\d+)|\\d+))')[0].astype('str').str.split('/')\n",
    "temp = pd.DataFrame(temp.to_list(), columns=['rating_numerator', 'rating_denominator'])\n",
    "temp['rating_numerator'] = temp['rating_numerator'].astype('float')\n",
    "temp['rating_denominator'] = temp['rating_denominator'].astype('float')\n",
    "print(\"Number of rating mismatches: {}\".format((dogs_cleaned_df.rating_numerator != temp.rating_numerator).sum()))\n",
    "print(\"Number of metric mismatches: {}\".format(dogs_cleaned_df[dogs_cleaned_df['rating_denominator'] != temp['rating_denominator']].tweet_id.count()))"
   ]
  },
  {
   "cell_type": "markdown",
   "metadata": {},
   "source": [
    "As can be seen, number of mismatched ratings have reduced in the cleaned dataframe as one column that was overlapping in retweets and incorrect ratings is dropped. We can simply set the `rating_numerator` column in `dogs_cleaned_df` equal to `rating_numerator` column in `temp`"
   ]
  },
  {
   "cell_type": "code",
   "execution_count": 43,
   "metadata": {},
   "outputs": [],
   "source": [
    "dogs_cleaned_df['rating_numerator'] = temp['rating_numerator']"
   ]
  },
  {
   "cell_type": "markdown",
   "metadata": {},
   "source": [
    "**Test**"
   ]
  },
  {
   "cell_type": "code",
   "execution_count": 44,
   "metadata": {},
   "outputs": [
    {
     "name": "stdout",
     "output_type": "stream",
     "text": [
      "<class 'pandas.core.frame.DataFrame'>\n",
      "RangeIndex: 2175 entries, 0 to 2174\n",
      "Data columns (total 15 columns):\n",
      " #   Column                 Non-Null Count  Dtype              \n",
      "---  ------                 --------------  -----              \n",
      " 0   index                  2175 non-null   int64              \n",
      " 1   tweet_id               2175 non-null   int64              \n",
      " 2   in_reply_to_status_id  78 non-null     float64            \n",
      " 3   in_reply_to_user_id    78 non-null     float64            \n",
      " 4   timestamp              2175 non-null   datetime64[ns, UTC]\n",
      " 5   source                 2175 non-null   object             \n",
      " 6   text                   2175 non-null   object             \n",
      " 7   expanded_urls          2117 non-null   object             \n",
      " 8   rating_numerator       2175 non-null   float64            \n",
      " 9   rating_denominator     2175 non-null   int64              \n",
      " 10  name                   1495 non-null   object             \n",
      " 11  doggo                  87 non-null     object             \n",
      " 12  floofer                10 non-null     object             \n",
      " 13  pupper                 234 non-null    object             \n",
      " 14  puppo                  25 non-null     object             \n",
      "dtypes: datetime64[ns, UTC](1), float64(3), int64(3), object(8)\n",
      "memory usage: 255.0+ KB\n"
     ]
    }
   ],
   "source": [
    "dogs_cleaned_df.info()"
   ]
  },
  {
   "cell_type": "markdown",
   "metadata": {},
   "source": [
    "**Define** <br>\n",
    "Missing values for dog stages. This can be resolved by using the same regex expression as the one used in cleaning. However, we expect to observe some differences due to some rows being dropped in the earlier stages of the cleaning process"
   ]
  },
  {
   "cell_type": "markdown",
   "metadata": {},
   "source": [
    "**Code**"
   ]
  },
  {
   "cell_type": "code",
   "execution_count": 45,
   "metadata": {},
   "outputs": [
    {
     "name": "stdout",
     "output_type": "stream",
     "text": [
      "Number of doggo misses: 8\n",
      "Number of floofer misses: 0\n",
      "Number of pupper misses: 26\n",
      "Number of puppo misses: 8\n"
     ]
    }
   ],
   "source": [
    "category_df = pd.DataFrame()\n",
    "categories = ['doggo','floofer','pupper','puppo']\n",
    "for category in categories:\n",
    "    category_df[category] = dogs_cleaned_df.text.str.lower().str.extract(r'({})'.format(category))[0]\n",
    "# identify those columns where category is missed or does not match\n",
    "print(\"Number of doggo misses: {}\".format(dogs_cleaned_df[(dogs_cleaned_df.doggo.fillna('') != category_df.doggo.fillna(''))].tweet_id.count()))\n",
    "print(\"Number of floofer misses: {}\".format(dogs_cleaned_df[(dogs_cleaned_df.floofer.fillna('') != category_df.floofer.fillna(''))].tweet_id.count()))\n",
    "print(\"Number of pupper misses: {}\".format(dogs_cleaned_df[(dogs_cleaned_df.pupper.fillna('') != category_df.pupper.fillna(''))].tweet_id.count()))\n",
    "print(\"Number of puppo misses: {}\".format(dogs_cleaned_df[(dogs_cleaned_df.puppo.fillna('') != category_df.puppo.fillna(''))].tweet_id.count()))"
   ]
  },
  {
   "cell_type": "markdown",
   "metadata": {},
   "source": [
    "It can be seen that the number of misses in `doggo` has reduced resulting from dropping rows during the earlier stages of cleaning to mitigate retweets from skewing our analysis. To correct for this we can simply update the `doggo`,`floofer` (although no misses but for the sake of completeness we can carry this one over), `pupper` and `puppo`"
   ]
  },
  {
   "cell_type": "code",
   "execution_count": 46,
   "metadata": {},
   "outputs": [],
   "source": [
    "for category in categories:\n",
    "    dogs_cleaned_df[category] = category_df[category]"
   ]
  },
  {
   "cell_type": "markdown",
   "metadata": {},
   "source": [
    "**Test**"
   ]
  },
  {
   "cell_type": "code",
   "execution_count": 47,
   "metadata": {},
   "outputs": [
    {
     "name": "stdout",
     "output_type": "stream",
     "text": [
      "Number of doggo misses: 0\n",
      "Number of floofer misses: 0\n",
      "Number of pupper misses: 0\n",
      "Number of puppo misses: 0\n"
     ]
    }
   ],
   "source": [
    "print(\"Number of doggo misses: {}\".format(dogs_cleaned_df[(dogs_cleaned_df.doggo.fillna('') != category_df.doggo.fillna(''))].tweet_id.count()))\n",
    "print(\"Number of floofer misses: {}\".format(dogs_cleaned_df[(dogs_cleaned_df.floofer.fillna('') != category_df.floofer.fillna(''))].tweet_id.count()))\n",
    "print(\"Number of pupper misses: {}\".format(dogs_cleaned_df[(dogs_cleaned_df.pupper.fillna('') != category_df.pupper.fillna(''))].tweet_id.count()))\n",
    "print(\"Number of puppo misses: {}\".format(dogs_cleaned_df[(dogs_cleaned_df.puppo.fillna('') != category_df.puppo.fillna(''))].tweet_id.count()))"
   ]
  },
  {
   "cell_type": "markdown",
   "metadata": {},
   "source": [
    "**Define** <br>\n",
    "The names of some dogs have been incorrectly identified. We can set these names to NaN (we could have tried some NLP library for NER but since currently I don't have the requisite knowledge, we will try this in a future iteration)"
   ]
  },
  {
   "cell_type": "markdown",
   "metadata": {},
   "source": [
    "**Code**"
   ]
  },
  {
   "cell_type": "code",
   "execution_count": 48,
   "metadata": {},
   "outputs": [
    {
     "name": "stdout",
     "output_type": "stream",
     "text": [
      "Incorrectly identified names: ['such', 'a', 'quite', 'not', 'one', 'incredibly', 'very', 'my', 'his', 'an', 'actually', 'just', 'getting', 'mad', 'this', 'unacceptable', 'all', 'old', 'infuriating', 'the', 'by', 'officially', 'life', 'light', 'space']\n"
     ]
    }
   ],
   "source": [
    "inc_names = list(dogs_cleaned_df[dogs_cleaned_df.name.str[0].str.isupper() == False].name.unique())\n",
    "print(\"Incorrectly identified names: {}\".format(inc_names))"
   ]
  },
  {
   "cell_type": "code",
   "execution_count": 49,
   "metadata": {},
   "outputs": [],
   "source": [
    "mask = dogs_cleaned_df['name'].isin(inc_names)\n",
    "dogs_cleaned_df.loc[mask,'name'] = np.nan"
   ]
  },
  {
   "cell_type": "markdown",
   "metadata": {},
   "source": [
    "**Test**"
   ]
  },
  {
   "cell_type": "code",
   "execution_count": 50,
   "metadata": {},
   "outputs": [
    {
     "name": "stdout",
     "output_type": "stream",
     "text": [
      "Incorrectly identified names: []\n"
     ]
    }
   ],
   "source": [
    "print(\"Incorrectly identified names: {}\".format(list(dogs_cleaned_df[dogs_cleaned_df.name.str[0].str.isupper() == False].name.unique())))"
   ]
  },
  {
   "cell_type": "markdown",
   "metadata": {},
   "source": [
    "Thus we have removed incorrect names from the cleaned dataframe."
   ]
  },
  {
   "cell_type": "markdown",
   "metadata": {},
   "source": [
    "### 3.2) Tidiness\n",
    "<a id='tidyclean'></a>\n",
    "Tidiness issues have been resolved in this section."
   ]
  },
  {
   "cell_type": "markdown",
   "metadata": {},
   "source": [
    "**Define** <br>\n",
    "`doggo`,`floofer`,`pupper` and `puppo` should be under a single column category. One thing to note here that a single dog may be identified to belong to several categories. We will create another column `category` to capture this information and drop the other columns. This might not be the most elegant solution (Duh! It runs in O($n^2$)) but it works (the .melt function was driving me nuts). Note that here we're putting back 'Unidentified' in place of NaN. This is so as to maintain some consistency in datatype of the column"
   ]
  },
  {
   "cell_type": "markdown",
   "metadata": {},
   "source": [
    "**Code**"
   ]
  },
  {
   "cell_type": "code",
   "execution_count": 51,
   "metadata": {},
   "outputs": [],
   "source": [
    "category_list = []\n",
    "for i in range(dogs_cleaned_df.shape[0]):\n",
    "    temp_list = dogs_cleaned_df.iloc[i,-4:]\n",
    "    cat_row = []\n",
    "    for j in temp_list:\n",
    "        if pd.isna(j) == False:\n",
    "            cat_row.append(j)\n",
    "    if len(cat_row)==0:\n",
    "        category_list.append(['Unidentified'])\n",
    "    else:\n",
    "        category_list.append(cat_row)"
   ]
  },
  {
   "cell_type": "code",
   "execution_count": 52,
   "metadata": {},
   "outputs": [],
   "source": [
    "dogs_cleaned_df['category'] = category_list\n",
    "dogs_cleaned_tidied = dogs_cleaned_df.drop(categories, axis = 1)"
   ]
  },
  {
   "cell_type": "markdown",
   "metadata": {},
   "source": [
    "**Test**"
   ]
  },
  {
   "cell_type": "code",
   "execution_count": 55,
   "metadata": {},
   "outputs": [
    {
     "name": "stdout",
     "output_type": "stream",
     "text": [
      "[[Unidentified],[pupper],[doggo],[puppo],[doggo,puppo],[floofer],[doggo, puppo],[doggo,floofer]]:\n",
      "[1790, 250, 82, 31, 10, 9, 2, 1]\n"
     ]
    }
   ],
   "source": [
    "print(\"[[Unidentified],[pupper],[doggo],[puppo],[doggo,puppo],[floofer],[doggo, puppo],[doggo,floofer]]:\\n{}\".format(list(dogs_cleaned_tidied.category.value_counts())))"
   ]
  },
  {
   "cell_type": "markdown",
   "metadata": {},
   "source": [
    "**Define** <br>\n",
    "`text` column in `dogs_df` has information pertinent to other features too and needs to be cleaned as per rule - every variable should be in a new column. Since there's two parts - one the rating and two the link, both of which will not appear as discrete words (ie not have spaces) and both contain numbers, we can simply filter for the segments that do not contain numeric characters. This may however lead to some loss of context and incomplete sentences since a lot of places ratings are included as parts of a sentence.\n",
    "This might however be unavoidable."
   ]
  },
  {
   "cell_type": "markdown",
   "metadata": {},
   "source": [
    "**Code**"
   ]
  },
  {
   "cell_type": "code",
   "execution_count": 56,
   "metadata": {},
   "outputs": [],
   "source": [
    "dogs_cleaned_tidied.text = dogs_cleaned_tidied.text.str.extract(r'(\\D+)')"
   ]
  },
  {
   "cell_type": "markdown",
   "metadata": {},
   "source": [
    "**Test**"
   ]
  },
  {
   "cell_type": "code",
   "execution_count": 57,
   "metadata": {},
   "outputs": [
    {
     "data": {
      "text/html": [
       "<div>\n",
       "<style scoped>\n",
       "    .dataframe tbody tr th:only-of-type {\n",
       "        vertical-align: middle;\n",
       "    }\n",
       "\n",
       "    .dataframe tbody tr th {\n",
       "        vertical-align: top;\n",
       "    }\n",
       "\n",
       "    .dataframe thead th {\n",
       "        text-align: right;\n",
       "    }\n",
       "</style>\n",
       "<table border=\"1\" class=\"dataframe\">\n",
       "  <thead>\n",
       "    <tr style=\"text-align: right;\">\n",
       "      <th></th>\n",
       "      <th>index</th>\n",
       "      <th>tweet_id</th>\n",
       "      <th>in_reply_to_status_id</th>\n",
       "      <th>in_reply_to_user_id</th>\n",
       "      <th>timestamp</th>\n",
       "      <th>source</th>\n",
       "      <th>text</th>\n",
       "      <th>expanded_urls</th>\n",
       "      <th>rating_numerator</th>\n",
       "      <th>rating_denominator</th>\n",
       "      <th>name</th>\n",
       "      <th>category</th>\n",
       "    </tr>\n",
       "  </thead>\n",
       "  <tbody>\n",
       "    <tr>\n",
       "      <th>0</th>\n",
       "      <td>0</td>\n",
       "      <td>892420643555336193</td>\n",
       "      <td>NaN</td>\n",
       "      <td>NaN</td>\n",
       "      <td>2017-08-01 16:23:56+00:00</td>\n",
       "      <td>&lt;a href=\"http://twitter.com/download/iphone\" rel=\"nofollow\"&gt;Twitter for iPhone&lt;/a&gt;</td>\n",
       "      <td>This is Phineas. He's a mystical boy. Only ever appears in the hole of a donut.</td>\n",
       "      <td>https://twitter.com/dog_rates/status/892420643555336193/photo/1</td>\n",
       "      <td>13.0</td>\n",
       "      <td>10</td>\n",
       "      <td>Phineas</td>\n",
       "      <td>[Unidentified]</td>\n",
       "    </tr>\n",
       "    <tr>\n",
       "      <th>1</th>\n",
       "      <td>1</td>\n",
       "      <td>892177421306343426</td>\n",
       "      <td>NaN</td>\n",
       "      <td>NaN</td>\n",
       "      <td>2017-08-01 00:17:27+00:00</td>\n",
       "      <td>&lt;a href=\"http://twitter.com/download/iphone\" rel=\"nofollow\"&gt;Twitter for iPhone&lt;/a&gt;</td>\n",
       "      <td>This is Tilly. She's just checking pup on you. Hopes you're doing ok. If not, she's available for pats, snugs, boops, the whole bit.</td>\n",
       "      <td>https://twitter.com/dog_rates/status/892177421306343426/photo/1</td>\n",
       "      <td>13.0</td>\n",
       "      <td>10</td>\n",
       "      <td>Tilly</td>\n",
       "      <td>[Unidentified]</td>\n",
       "    </tr>\n",
       "    <tr>\n",
       "      <th>2</th>\n",
       "      <td>2</td>\n",
       "      <td>891815181378084864</td>\n",
       "      <td>NaN</td>\n",
       "      <td>NaN</td>\n",
       "      <td>2017-07-31 00:18:03+00:00</td>\n",
       "      <td>&lt;a href=\"http://twitter.com/download/iphone\" rel=\"nofollow\"&gt;Twitter for iPhone&lt;/a&gt;</td>\n",
       "      <td>This is Archie. He is a rare Norwegian Pouncing Corgo. Lives in the tall grass. You never know when one may strike.</td>\n",
       "      <td>https://twitter.com/dog_rates/status/891815181378084864/photo/1</td>\n",
       "      <td>12.0</td>\n",
       "      <td>10</td>\n",
       "      <td>Archie</td>\n",
       "      <td>[Unidentified]</td>\n",
       "    </tr>\n",
       "    <tr>\n",
       "      <th>3</th>\n",
       "      <td>3</td>\n",
       "      <td>891689557279858688</td>\n",
       "      <td>NaN</td>\n",
       "      <td>NaN</td>\n",
       "      <td>2017-07-30 15:58:51+00:00</td>\n",
       "      <td>&lt;a href=\"http://twitter.com/download/iphone\" rel=\"nofollow\"&gt;Twitter for iPhone&lt;/a&gt;</td>\n",
       "      <td>This is Darla. She commenced a snooze mid meal.</td>\n",
       "      <td>https://twitter.com/dog_rates/status/891689557279858688/photo/1</td>\n",
       "      <td>13.0</td>\n",
       "      <td>10</td>\n",
       "      <td>Darla</td>\n",
       "      <td>[Unidentified]</td>\n",
       "    </tr>\n",
       "    <tr>\n",
       "      <th>4</th>\n",
       "      <td>4</td>\n",
       "      <td>891327558926688256</td>\n",
       "      <td>NaN</td>\n",
       "      <td>NaN</td>\n",
       "      <td>2017-07-29 16:00:24+00:00</td>\n",
       "      <td>&lt;a href=\"http://twitter.com/download/iphone\" rel=\"nofollow\"&gt;Twitter for iPhone&lt;/a&gt;</td>\n",
       "      <td>This is Franklin. He would like you to stop calling him \"cute.\" He is a very fierce shark and should be respected as such.</td>\n",
       "      <td>https://twitter.com/dog_rates/status/891327558926688256/photo/1,https://twitter.com/dog_rates/status/891327558926688256/photo/1</td>\n",
       "      <td>12.0</td>\n",
       "      <td>10</td>\n",
       "      <td>Franklin</td>\n",
       "      <td>[Unidentified]</td>\n",
       "    </tr>\n",
       "    <tr>\n",
       "      <th>...</th>\n",
       "      <td>...</td>\n",
       "      <td>...</td>\n",
       "      <td>...</td>\n",
       "      <td>...</td>\n",
       "      <td>...</td>\n",
       "      <td>...</td>\n",
       "      <td>...</td>\n",
       "      <td>...</td>\n",
       "      <td>...</td>\n",
       "      <td>...</td>\n",
       "      <td>...</td>\n",
       "      <td>...</td>\n",
       "    </tr>\n",
       "    <tr>\n",
       "      <th>2170</th>\n",
       "      <td>2351</td>\n",
       "      <td>666049248165822465</td>\n",
       "      <td>NaN</td>\n",
       "      <td>NaN</td>\n",
       "      <td>2015-11-16 00:24:50+00:00</td>\n",
       "      <td>&lt;a href=\"http://twitter.com/download/iphone\" rel=\"nofollow\"&gt;Twitter for iPhone&lt;/a&gt;</td>\n",
       "      <td>Here we have a</td>\n",
       "      <td>https://twitter.com/dog_rates/status/666049248165822465/photo/1</td>\n",
       "      <td>5.0</td>\n",
       "      <td>10</td>\n",
       "      <td>NaN</td>\n",
       "      <td>[Unidentified]</td>\n",
       "    </tr>\n",
       "    <tr>\n",
       "      <th>2171</th>\n",
       "      <td>2352</td>\n",
       "      <td>666044226329800704</td>\n",
       "      <td>NaN</td>\n",
       "      <td>NaN</td>\n",
       "      <td>2015-11-16 00:04:52+00:00</td>\n",
       "      <td>&lt;a href=\"http://twitter.com/download/iphone\" rel=\"nofollow\"&gt;Twitter for iPhone&lt;/a&gt;</td>\n",
       "      <td>This is a purebred Piers Morgan. Loves to Netflix and chill. Always looks like he forgot to unplug the iron.</td>\n",
       "      <td>https://twitter.com/dog_rates/status/666044226329800704/photo/1</td>\n",
       "      <td>6.0</td>\n",
       "      <td>10</td>\n",
       "      <td>NaN</td>\n",
       "      <td>[Unidentified]</td>\n",
       "    </tr>\n",
       "    <tr>\n",
       "      <th>2172</th>\n",
       "      <td>2353</td>\n",
       "      <td>666033412701032449</td>\n",
       "      <td>NaN</td>\n",
       "      <td>NaN</td>\n",
       "      <td>2015-11-15 23:21:54+00:00</td>\n",
       "      <td>&lt;a href=\"http://twitter.com/download/iphone\" rel=\"nofollow\"&gt;Twitter for iPhone&lt;/a&gt;</td>\n",
       "      <td>Here is a very happy pup. Big fan of well-maintained decks. Just look at that tongue.</td>\n",
       "      <td>https://twitter.com/dog_rates/status/666033412701032449/photo/1</td>\n",
       "      <td>9.0</td>\n",
       "      <td>10</td>\n",
       "      <td>NaN</td>\n",
       "      <td>[Unidentified]</td>\n",
       "    </tr>\n",
       "    <tr>\n",
       "      <th>2173</th>\n",
       "      <td>2354</td>\n",
       "      <td>666029285002620928</td>\n",
       "      <td>NaN</td>\n",
       "      <td>NaN</td>\n",
       "      <td>2015-11-15 23:05:30+00:00</td>\n",
       "      <td>&lt;a href=\"http://twitter.com/download/iphone\" rel=\"nofollow\"&gt;Twitter for iPhone&lt;/a&gt;</td>\n",
       "      <td>This is a western brown Mitsubishi terrier. Upset about leaf. Actually</td>\n",
       "      <td>https://twitter.com/dog_rates/status/666029285002620928/photo/1</td>\n",
       "      <td>7.0</td>\n",
       "      <td>10</td>\n",
       "      <td>NaN</td>\n",
       "      <td>[Unidentified]</td>\n",
       "    </tr>\n",
       "    <tr>\n",
       "      <th>2174</th>\n",
       "      <td>2355</td>\n",
       "      <td>666020888022790149</td>\n",
       "      <td>NaN</td>\n",
       "      <td>NaN</td>\n",
       "      <td>2015-11-15 22:32:08+00:00</td>\n",
       "      <td>&lt;a href=\"http://twitter.com/download/iphone\" rel=\"nofollow\"&gt;Twitter for iPhone&lt;/a&gt;</td>\n",
       "      <td>Here we have a Japanese Irish Setter. Lost eye in Vietnam (?). Big fan of relaxing on stair.</td>\n",
       "      <td>https://twitter.com/dog_rates/status/666020888022790149/photo/1</td>\n",
       "      <td>8.0</td>\n",
       "      <td>10</td>\n",
       "      <td>NaN</td>\n",
       "      <td>[Unidentified]</td>\n",
       "    </tr>\n",
       "  </tbody>\n",
       "</table>\n",
       "<p>2175 rows × 12 columns</p>\n",
       "</div>"
      ],
      "text/plain": [
       "      index            tweet_id  in_reply_to_status_id  in_reply_to_user_id  \\\n",
       "0         0  892420643555336193                    NaN                  NaN   \n",
       "1         1  892177421306343426                    NaN                  NaN   \n",
       "2         2  891815181378084864                    NaN                  NaN   \n",
       "3         3  891689557279858688                    NaN                  NaN   \n",
       "4         4  891327558926688256                    NaN                  NaN   \n",
       "...     ...                 ...                    ...                  ...   \n",
       "2170   2351  666049248165822465                    NaN                  NaN   \n",
       "2171   2352  666044226329800704                    NaN                  NaN   \n",
       "2172   2353  666033412701032449                    NaN                  NaN   \n",
       "2173   2354  666029285002620928                    NaN                  NaN   \n",
       "2174   2355  666020888022790149                    NaN                  NaN   \n",
       "\n",
       "                     timestamp  \\\n",
       "0    2017-08-01 16:23:56+00:00   \n",
       "1    2017-08-01 00:17:27+00:00   \n",
       "2    2017-07-31 00:18:03+00:00   \n",
       "3    2017-07-30 15:58:51+00:00   \n",
       "4    2017-07-29 16:00:24+00:00   \n",
       "...                        ...   \n",
       "2170 2015-11-16 00:24:50+00:00   \n",
       "2171 2015-11-16 00:04:52+00:00   \n",
       "2172 2015-11-15 23:21:54+00:00   \n",
       "2173 2015-11-15 23:05:30+00:00   \n",
       "2174 2015-11-15 22:32:08+00:00   \n",
       "\n",
       "                                                                                  source  \\\n",
       "0     <a href=\"http://twitter.com/download/iphone\" rel=\"nofollow\">Twitter for iPhone</a>   \n",
       "1     <a href=\"http://twitter.com/download/iphone\" rel=\"nofollow\">Twitter for iPhone</a>   \n",
       "2     <a href=\"http://twitter.com/download/iphone\" rel=\"nofollow\">Twitter for iPhone</a>   \n",
       "3     <a href=\"http://twitter.com/download/iphone\" rel=\"nofollow\">Twitter for iPhone</a>   \n",
       "4     <a href=\"http://twitter.com/download/iphone\" rel=\"nofollow\">Twitter for iPhone</a>   \n",
       "...                                                                                  ...   \n",
       "2170  <a href=\"http://twitter.com/download/iphone\" rel=\"nofollow\">Twitter for iPhone</a>   \n",
       "2171  <a href=\"http://twitter.com/download/iphone\" rel=\"nofollow\">Twitter for iPhone</a>   \n",
       "2172  <a href=\"http://twitter.com/download/iphone\" rel=\"nofollow\">Twitter for iPhone</a>   \n",
       "2173  <a href=\"http://twitter.com/download/iphone\" rel=\"nofollow\">Twitter for iPhone</a>   \n",
       "2174  <a href=\"http://twitter.com/download/iphone\" rel=\"nofollow\">Twitter for iPhone</a>   \n",
       "\n",
       "                                                                                                                                       text  \\\n",
       "0                                                          This is Phineas. He's a mystical boy. Only ever appears in the hole of a donut.    \n",
       "1     This is Tilly. She's just checking pup on you. Hopes you're doing ok. If not, she's available for pats, snugs, boops, the whole bit.    \n",
       "2                      This is Archie. He is a rare Norwegian Pouncing Corgo. Lives in the tall grass. You never know when one may strike.    \n",
       "3                                                                                          This is Darla. She commenced a snooze mid meal.    \n",
       "4               This is Franklin. He would like you to stop calling him \"cute.\" He is a very fierce shark and should be respected as such.    \n",
       "...                                                                                                                                     ...   \n",
       "2170                                                                                                                        Here we have a    \n",
       "2171                          This is a purebred Piers Morgan. Loves to Netflix and chill. Always looks like he forgot to unplug the iron.    \n",
       "2172                                                 Here is a very happy pup. Big fan of well-maintained decks. Just look at that tongue.    \n",
       "2173                                                                This is a western brown Mitsubishi terrier. Upset about leaf. Actually    \n",
       "2174                                          Here we have a Japanese Irish Setter. Lost eye in Vietnam (?). Big fan of relaxing on stair.    \n",
       "\n",
       "                                                                                                                        expanded_urls  \\\n",
       "0                                                                     https://twitter.com/dog_rates/status/892420643555336193/photo/1   \n",
       "1                                                                     https://twitter.com/dog_rates/status/892177421306343426/photo/1   \n",
       "2                                                                     https://twitter.com/dog_rates/status/891815181378084864/photo/1   \n",
       "3                                                                     https://twitter.com/dog_rates/status/891689557279858688/photo/1   \n",
       "4     https://twitter.com/dog_rates/status/891327558926688256/photo/1,https://twitter.com/dog_rates/status/891327558926688256/photo/1   \n",
       "...                                                                                                                               ...   \n",
       "2170                                                                  https://twitter.com/dog_rates/status/666049248165822465/photo/1   \n",
       "2171                                                                  https://twitter.com/dog_rates/status/666044226329800704/photo/1   \n",
       "2172                                                                  https://twitter.com/dog_rates/status/666033412701032449/photo/1   \n",
       "2173                                                                  https://twitter.com/dog_rates/status/666029285002620928/photo/1   \n",
       "2174                                                                  https://twitter.com/dog_rates/status/666020888022790149/photo/1   \n",
       "\n",
       "      rating_numerator  rating_denominator      name        category  \n",
       "0                 13.0                  10   Phineas  [Unidentified]  \n",
       "1                 13.0                  10     Tilly  [Unidentified]  \n",
       "2                 12.0                  10    Archie  [Unidentified]  \n",
       "3                 13.0                  10     Darla  [Unidentified]  \n",
       "4                 12.0                  10  Franklin  [Unidentified]  \n",
       "...                ...                 ...       ...             ...  \n",
       "2170               5.0                  10       NaN  [Unidentified]  \n",
       "2171               6.0                  10       NaN  [Unidentified]  \n",
       "2172               9.0                  10       NaN  [Unidentified]  \n",
       "2173               7.0                  10       NaN  [Unidentified]  \n",
       "2174               8.0                  10       NaN  [Unidentified]  \n",
       "\n",
       "[2175 rows x 12 columns]"
      ]
     },
     "execution_count": 57,
     "metadata": {},
     "output_type": "execute_result"
    }
   ],
   "source": [
    "dogs_cleaned_tidied"
   ]
  },
  {
   "cell_type": "markdown",
   "metadata": {},
   "source": [
    "**Define** <br>\n",
    "`twitter_data` does not need to be a separate table since it contains information and metadata of the tweets which is precisely what `dogs_df` seeks to capture. We'll be using the merge function to join the columns we are interested in - `favorite_count` and `retweet_count`. We will also merge `image_predictions` table with the resultant quantity."
   ]
  },
  {
   "cell_type": "markdown",
   "metadata": {},
   "source": [
    "**Code**"
   ]
  },
  {
   "cell_type": "code",
   "execution_count": 58,
   "metadata": {},
   "outputs": [],
   "source": [
    "metadata_twitter_data = twitter_data[['tweet_id','retweet_count','favorite_count']].copy()\n",
    "dogs_cleaned_tidied = dogs_cleaned_tidied.merge(metadata_twitter_data, how = \"inner\",on = \"tweet_id\")\n",
    "dogs_cleaned_tidied = dogs_cleaned_tidied.merge(image_predictions, how = 'inner', on = 'tweet_id')"
   ]
  },
  {
   "cell_type": "markdown",
   "metadata": {},
   "source": [
    "**Test**"
   ]
  },
  {
   "cell_type": "code",
   "execution_count": 59,
   "metadata": {},
   "outputs": [
    {
     "name": "stdout",
     "output_type": "stream",
     "text": [
      "<class 'pandas.core.frame.DataFrame'>\n",
      "Int64Index: 1987 entries, 0 to 1986\n",
      "Data columns (total 25 columns):\n",
      " #   Column                 Non-Null Count  Dtype              \n",
      "---  ------                 --------------  -----              \n",
      " 0   index                  1987 non-null   int64              \n",
      " 1   tweet_id               1987 non-null   int64              \n",
      " 2   in_reply_to_status_id  23 non-null     float64            \n",
      " 3   in_reply_to_user_id    23 non-null     float64            \n",
      " 4   timestamp              1987 non-null   datetime64[ns, UTC]\n",
      " 5   source                 1987 non-null   object             \n",
      " 6   text                   1987 non-null   object             \n",
      " 7   expanded_urls          1987 non-null   object             \n",
      " 8   rating_numerator       1987 non-null   float64            \n",
      " 9   rating_denominator     1987 non-null   int64              \n",
      " 10  name                   1343 non-null   object             \n",
      " 11  category               1987 non-null   object             \n",
      " 12  retweet_count          1987 non-null   int64              \n",
      " 13  favorite_count         1987 non-null   int64              \n",
      " 14  jpg_url                1987 non-null   object             \n",
      " 15  img_num                1987 non-null   int64              \n",
      " 16  p1                     1987 non-null   object             \n",
      " 17  p1_conf                1987 non-null   float64            \n",
      " 18  p1_dog                 1987 non-null   bool               \n",
      " 19  p2                     1987 non-null   object             \n",
      " 20  p2_conf                1987 non-null   float64            \n",
      " 21  p2_dog                 1987 non-null   bool               \n",
      " 22  p3                     1987 non-null   object             \n",
      " 23  p3_conf                1987 non-null   float64            \n",
      " 24  p3_dog                 1987 non-null   bool               \n",
      "dtypes: bool(3), datetime64[ns, UTC](1), float64(6), int64(6), object(9)\n",
      "memory usage: 362.9+ KB\n"
     ]
    }
   ],
   "source": [
    "dogs_cleaned_tidied.info()"
   ]
  },
  {
   "cell_type": "markdown",
   "metadata": {},
   "source": [
    "Here we observe that the number of tweets has dropped by a lot (almost halved from what we started with!!!). However, this is very much needed since this is the only way we can evaluate metrics for our analysis. Ideally at this stage we would go back to gathering more data for our analysis but the limitation we have - dog breed predictions are available only for tweet id's present in the given dataset prevents me from doing so. "
   ]
  },
  {
   "cell_type": "markdown",
   "metadata": {},
   "source": [
    "Finally we store the cleaned and tidied dataframe into `twitter_archive_master.csv`"
   ]
  },
  {
   "cell_type": "code",
   "execution_count": 60,
   "metadata": {},
   "outputs": [],
   "source": [
    "dogs_cleaned_tidied.to_csv('twitter_archive_master.csv', index = False)"
   ]
  },
  {
   "cell_type": "markdown",
   "metadata": {},
   "source": [
    "### 4. Analysis:-\n",
    "<a id = 'analyse'></a>"
   ]
  },
  {
   "cell_type": "markdown",
   "metadata": {},
   "source": [
    "In this section, I will devise a method to predict how many `favorite_count`s a dog of a given breed is likely to get based on the breed, confidence level of predictions and rating. I'll also do a similar analysis for `retweet_count`. Before we get started with building a model, it should be instructive to see how many unique values exist for a particular prediction column. This will give us an insight into whether an effective model can even be constructed in the first place. This will be followed up by the model itself in case I find that building a model is viable. Note that in our analysis, although I plan to take a product of confidence of prediction and the dummy columns that I'll generate for every breed, a better metric than simple multiplication might be the need of the dataset (that I won't correct for but it could be taken up in the future maybe?). Another limitation results from the presence of predictions other than dog breed in the dataset. I certainly can't correct for this so we'll let these other predictions also be present in our model (Hopefully they won't affect the quality of our predictions about ratings!!)"
   ]
  },
  {
   "cell_type": "code",
   "execution_count": 61,
   "metadata": {},
   "outputs": [
    {
     "name": "stdout",
     "output_type": "stream",
     "text": [
      "<class 'pandas.core.frame.DataFrame'>\n",
      "Int64Index: 1987 entries, 0 to 1986\n",
      "Data columns (total 25 columns):\n",
      " #   Column                 Non-Null Count  Dtype              \n",
      "---  ------                 --------------  -----              \n",
      " 0   index                  1987 non-null   int64              \n",
      " 1   tweet_id               1987 non-null   int64              \n",
      " 2   in_reply_to_status_id  23 non-null     float64            \n",
      " 3   in_reply_to_user_id    23 non-null     float64            \n",
      " 4   timestamp              1987 non-null   datetime64[ns, UTC]\n",
      " 5   source                 1987 non-null   object             \n",
      " 6   text                   1987 non-null   object             \n",
      " 7   expanded_urls          1987 non-null   object             \n",
      " 8   rating_numerator       1987 non-null   float64            \n",
      " 9   rating_denominator     1987 non-null   int64              \n",
      " 10  name                   1343 non-null   object             \n",
      " 11  category               1987 non-null   object             \n",
      " 12  retweet_count          1987 non-null   int64              \n",
      " 13  favorite_count         1987 non-null   int64              \n",
      " 14  jpg_url                1987 non-null   object             \n",
      " 15  img_num                1987 non-null   int64              \n",
      " 16  p1                     1987 non-null   object             \n",
      " 17  p1_conf                1987 non-null   float64            \n",
      " 18  p1_dog                 1987 non-null   bool               \n",
      " 19  p2                     1987 non-null   object             \n",
      " 20  p2_conf                1987 non-null   float64            \n",
      " 21  p2_dog                 1987 non-null   bool               \n",
      " 22  p3                     1987 non-null   object             \n",
      " 23  p3_conf                1987 non-null   float64            \n",
      " 24  p3_dog                 1987 non-null   bool               \n",
      "dtypes: bool(3), datetime64[ns, UTC](1), float64(6), int64(6), object(9)\n",
      "memory usage: 362.9+ KB\n"
     ]
    }
   ],
   "source": [
    "pred_df = dogs_cleaned_tidied.copy()\n",
    "pred_df.info()"
   ]
  },
  {
   "cell_type": "code",
   "execution_count": 62,
   "metadata": {},
   "outputs": [
    {
     "name": "stdout",
     "output_type": "stream",
     "text": [
      "Number of unique predictions: 374 \n"
     ]
    }
   ],
   "source": [
    "print(\"Number of unique predictions: {} \".format(len(list(pd.get_dummies(pred_df.p1).columns))))"
   ]
  },
  {
   "cell_type": "markdown",
   "metadata": {},
   "source": [
    "Thus we can say that any kind of model we build on top of these predictions would not be a good one since we don't have significant number of observations for a particular breeds/predictions. We can however, try analysing the top predictions appearing in the dataframe. Through this we can get an estimate of what breeds tend to get submitted to WeRateDogs. We can use this to build a flawed yet functional estimator for the metric we desire to obtain. Note that we will no longer use `p2` and `p3` but presume `p1` to be true. This modification is necessitated by the observation that there are too many unique predictions in `p2` and `p3` for their results to be statiscally significant. This is the billionth time I wish we had more observations and less variability!!  "
   ]
  },
  {
   "cell_type": "code",
   "execution_count": 63,
   "metadata": {},
   "outputs": [
    {
     "name": "stdout",
     "output_type": "stream",
     "text": [
      "Number of unique predictions in p2:121\n",
      "Number of unique predictions in p3:137\n"
     ]
    }
   ],
   "source": [
    "mask = pred_df.p1.value_counts().sort_values(ascending=False).head(10).index\n",
    "top_10_breeds = pred_df.loc[pred_df.p1.isin(mask),:].reset_index()\n",
    "print(\"Number of unique predictions in p2:{}\\nNumber of unique predictions in p3:{}\".format(top_10_breeds.p2.nunique(),top_10_breeds.p3.nunique()))"
   ]
  },
  {
   "cell_type": "code",
   "execution_count": 64,
   "metadata": {},
   "outputs": [
    {
     "name": "stdout",
     "output_type": "stream",
     "text": [
      "<class 'pandas.core.frame.DataFrame'>\n",
      "RangeIndex: 637 entries, 0 to 636\n",
      "Data columns (total 35 columns):\n",
      " #   Column                 Non-Null Count  Dtype              \n",
      "---  ------                 --------------  -----              \n",
      " 0   level_0                637 non-null    int64              \n",
      " 1   tweet_id               637 non-null    int64              \n",
      " 2   in_reply_to_status_id  5 non-null      float64            \n",
      " 3   in_reply_to_user_id    5 non-null      float64            \n",
      " 4   timestamp              637 non-null    datetime64[ns, UTC]\n",
      " 5   source                 637 non-null    object             \n",
      " 6   text                   637 non-null    object             \n",
      " 7   expanded_urls          637 non-null    object             \n",
      " 8   rating_numerator       637 non-null    float64            \n",
      " 9   rating_denominator     637 non-null    int64              \n",
      " 10  name                   444 non-null    object             \n",
      " 11  category               637 non-null    object             \n",
      " 12  retweet_count          637 non-null    int64              \n",
      " 13  favorite_count         637 non-null    int64              \n",
      " 14  jpg_url                637 non-null    object             \n",
      " 15  img_num                637 non-null    int64              \n",
      " 16  p1                     637 non-null    object             \n",
      " 17  p1_conf                637 non-null    float64            \n",
      " 18  p1_dog                 637 non-null    bool               \n",
      " 19  p2                     637 non-null    object             \n",
      " 20  p2_conf                637 non-null    float64            \n",
      " 21  p2_dog                 637 non-null    bool               \n",
      " 22  p3                     637 non-null    object             \n",
      " 23  p3_conf                637 non-null    float64            \n",
      " 24  p3_dog                 637 non-null    bool               \n",
      " 25  Chihuahua              637 non-null    uint8              \n",
      " 26  Labrador_retriever     637 non-null    uint8              \n",
      " 27  Pembroke               637 non-null    uint8              \n",
      " 28  Pomeranian             637 non-null    uint8              \n",
      " 29  Samoyed                637 non-null    uint8              \n",
      " 30  chow                   637 non-null    uint8              \n",
      " 31  golden_retriever       637 non-null    uint8              \n",
      " 32  malamute               637 non-null    uint8              \n",
      " 33  pug                    637 non-null    uint8              \n",
      " 34  toy_poodle             637 non-null    uint8              \n",
      "dtypes: bool(3), datetime64[ns, UTC](1), float64(6), int64(6), object(9), uint8(10)\n",
      "memory usage: 117.7+ KB\n"
     ]
    }
   ],
   "source": [
    "top_10_breeds[list(pd.get_dummies(top_10_breeds.p1).columns)] = pd.get_dummies(top_10_breeds.p1)\n",
    "top_10_breeds.drop('index', axis = 1, inplace =True)\n",
    "top_10_breeds.info()"
   ]
  },
  {
   "cell_type": "markdown",
   "metadata": {},
   "source": [
    "Here I will take `toy_poodle` as the baseline variable. The features planned to be included in our analysis are:\n",
    "1. `absolute_ratings` which is `rating_numerator`/`rating_denominator`\n",
    "2. Dog breeds with toy poodle as the baseline variable\n",
    "3. Categories that the dog is presumed to belong to. This might be slightly tricky to get correctly. I will assume wherever missing, the category to be 'Unidentified'. Furthermore, I will assume that any dog *has* to belong to two categories - with the possibility of both being 'Unidentified'. This will make it difficult to scale in case we happen to find a tweet where 3 categories are identified in the future."
   ]
  },
  {
   "cell_type": "markdown",
   "metadata": {},
   "source": [
    "Here we'll transform `category` into a form that makes it better for us to manipulate for analysis."
   ]
  },
  {
   "cell_type": "code",
   "execution_count": 65,
   "metadata": {},
   "outputs": [],
   "source": [
    "# top_10_breeds.category\n",
    "for i in range(top_10_breeds.shape[0]):\n",
    "    if len(top_10_breeds.iloc[i,11]) == 1:\n",
    "        top_10_breeds.iloc[i,11].append('Unidentified')\n",
    "    else:\n",
    "        pass"
   ]
  },
  {
   "cell_type": "code",
   "execution_count": 67,
   "metadata": {},
   "outputs": [],
   "source": [
    "temp = pd.DataFrame(top_10_breeds.category.to_list(), columns=['category_1', 'category_2'])"
   ]
  },
  {
   "cell_type": "markdown",
   "metadata": {},
   "source": [
    "There might now be a whole debate about how the model needs to be indifferent to `column_1` and `column_2`. We can avert any difference in weights by randomly swapping values between the two columns. It hasn't been done in the adjoining segments but it is an option for the future. In fact, it can be argued that perhaps the value of category that comes first is more important than the one that follows (purely by observing the `text`). This is a discussion for another time though"
   ]
  },
  {
   "cell_type": "code",
   "execution_count": 68,
   "metadata": {},
   "outputs": [],
   "source": [
    "top_10_breeds['category_1'] = temp['category_1']\n",
    "top_10_breeds['category_2'] = temp['category_2']"
   ]
  },
  {
   "cell_type": "markdown",
   "metadata": {},
   "source": [
    "I can now create the necessary dummy columns and then proceed to create the model"
   ]
  },
  {
   "cell_type": "code",
   "execution_count": 69,
   "metadata": {},
   "outputs": [
    {
     "name": "stdout",
     "output_type": "stream",
     "text": [
      "<class 'pandas.core.frame.DataFrame'>\n",
      "RangeIndex: 637 entries, 0 to 636\n",
      "Data columns (total 46 columns):\n",
      " #   Column                 Non-Null Count  Dtype              \n",
      "---  ------                 --------------  -----              \n",
      " 0   level_0                637 non-null    int64              \n",
      " 1   tweet_id               637 non-null    int64              \n",
      " 2   in_reply_to_status_id  5 non-null      float64            \n",
      " 3   in_reply_to_user_id    5 non-null      float64            \n",
      " 4   timestamp              637 non-null    datetime64[ns, UTC]\n",
      " 5   source                 637 non-null    object             \n",
      " 6   text                   637 non-null    object             \n",
      " 7   expanded_urls          637 non-null    object             \n",
      " 8   rating_numerator       637 non-null    float64            \n",
      " 9   rating_denominator     637 non-null    int64              \n",
      " 10  name                   444 non-null    object             \n",
      " 11  category               637 non-null    object             \n",
      " 12  retweet_count          637 non-null    int64              \n",
      " 13  favorite_count         637 non-null    int64              \n",
      " 14  jpg_url                637 non-null    object             \n",
      " 15  img_num                637 non-null    int64              \n",
      " 16  p1                     637 non-null    object             \n",
      " 17  p1_conf                637 non-null    float64            \n",
      " 18  p1_dog                 637 non-null    bool               \n",
      " 19  p2                     637 non-null    object             \n",
      " 20  p2_conf                637 non-null    float64            \n",
      " 21  p2_dog                 637 non-null    bool               \n",
      " 22  p3                     637 non-null    object             \n",
      " 23  p3_conf                637 non-null    float64            \n",
      " 24  p3_dog                 637 non-null    bool               \n",
      " 25  Chihuahua              637 non-null    uint8              \n",
      " 26  Labrador_retriever     637 non-null    uint8              \n",
      " 27  Pembroke               637 non-null    uint8              \n",
      " 28  Pomeranian             637 non-null    uint8              \n",
      " 29  Samoyed                637 non-null    uint8              \n",
      " 30  chow                   637 non-null    uint8              \n",
      " 31  golden_retriever       637 non-null    uint8              \n",
      " 32  malamute               637 non-null    uint8              \n",
      " 33  pug                    637 non-null    uint8              \n",
      " 34  toy_poodle             637 non-null    uint8              \n",
      " 35  category_1             637 non-null    object             \n",
      " 36  category_2             637 non-null    object             \n",
      " 37  Unidentified_1         637 non-null    uint8              \n",
      " 38  pupper_1               637 non-null    uint8              \n",
      " 39  doggo_1                637 non-null    uint8              \n",
      " 40  puppo_1                637 non-null    uint8              \n",
      " 41  floofer_1              637 non-null    uint8              \n",
      " 42  Unidentified_2         637 non-null    uint8              \n",
      " 43  pupper_2               637 non-null    uint8              \n",
      " 44  puppo_2                637 non-null    uint8              \n",
      " 45  absolute_ratings       637 non-null    float64            \n",
      "dtypes: bool(3), datetime64[ns, UTC](1), float64(7), int64(6), object(11), uint8(18)\n",
      "memory usage: 137.6+ KB\n"
     ]
    }
   ],
   "source": [
    "top_10_breeds[list(top_10_breeds.category_1.value_counts().index +\"_1\")] = pd.get_dummies(top_10_breeds.category_1)\n",
    "top_10_breeds[list(top_10_breeds.category_2.value_counts().index +\"_2\")] = pd.get_dummies(top_10_breeds.category_2)\n",
    "top_10_breeds['absolute_ratings'] = top_10_breeds.rating_numerator/top_10_breeds.rating_denominator\n",
    "top_10_breeds.info()"
   ]
  },
  {
   "cell_type": "markdown",
   "metadata": {},
   "source": [
    "### 4.1) Fitting the Machine Learning Model\n",
    "<a id = 'ml'></a>\n",
    "\n",
    "I'll be fitting a simple linear regression. More complex models are obviously possible but I haven't a clue in implementing them in python. So we'll only draw very simple conclusions based on the results"
   ]
  },
  {
   "cell_type": "code",
   "execution_count": 71,
   "metadata": {},
   "outputs": [
    {
     "data": {
      "text/html": [
       "<table class=\"simpletable\">\n",
       "<caption>OLS Regression Results</caption>\n",
       "<tr>\n",
       "  <th>Dep. Variable:</th>     <td>favorite_count</td>  <th>  R-squared:         </th> <td>   0.159</td> \n",
       "</tr>\n",
       "<tr>\n",
       "  <th>Model:</th>                   <td>OLS</td>       <th>  Adj. R-squared:    </th> <td>   0.138</td> \n",
       "</tr>\n",
       "<tr>\n",
       "  <th>Method:</th>             <td>Least Squares</td>  <th>  F-statistic:       </th> <td>   7.352</td> \n",
       "</tr>\n",
       "<tr>\n",
       "  <th>Date:</th>             <td>Mon, 21 Jun 2021</td> <th>  Prob (F-statistic):</th> <td>7.24e-16</td> \n",
       "</tr>\n",
       "<tr>\n",
       "  <th>Time:</th>                 <td>16:28:09</td>     <th>  Log-Likelihood:    </th> <td> -6862.0</td> \n",
       "</tr>\n",
       "<tr>\n",
       "  <th>No. Observations:</th>      <td>   637</td>      <th>  AIC:               </th> <td>1.376e+04</td>\n",
       "</tr>\n",
       "<tr>\n",
       "  <th>Df Residuals:</th>          <td>   620</td>      <th>  BIC:               </th> <td>1.383e+04</td>\n",
       "</tr>\n",
       "<tr>\n",
       "  <th>Df Model:</th>              <td>    16</td>      <th>                     </th>     <td> </td>    \n",
       "</tr>\n",
       "<tr>\n",
       "  <th>Covariance Type:</th>      <td>nonrobust</td>    <th>                     </th>     <td> </td>    \n",
       "</tr>\n",
       "</table>\n",
       "<table class=\"simpletable\">\n",
       "<tr>\n",
       "           <td></td>             <th>coef</th>     <th>std err</th>      <th>t</th>      <th>P>|t|</th>  <th>[0.025</th>    <th>0.975]</th>  \n",
       "</tr>\n",
       "<tr>\n",
       "  <th>Chihuahua</th>          <td> 2560.9704</td> <td> 2334.648</td> <td>    1.097</td> <td> 0.273</td> <td>-2023.806</td> <td> 7145.747</td>\n",
       "</tr>\n",
       "<tr>\n",
       "  <th>Labrador_retriever</th> <td> 3723.4424</td> <td> 2281.231</td> <td>    1.632</td> <td> 0.103</td> <td> -756.434</td> <td> 8203.319</td>\n",
       "</tr>\n",
       "<tr>\n",
       "  <th>Pembroke</th>           <td> 3316.1377</td> <td> 2295.036</td> <td>    1.445</td> <td> 0.149</td> <td>-1190.848</td> <td> 7823.124</td>\n",
       "</tr>\n",
       "<tr>\n",
       "  <th>Pomeranian</th>         <td>  740.4927</td> <td> 2709.206</td> <td>    0.273</td> <td> 0.785</td> <td>-4579.840</td> <td> 6060.826</td>\n",
       "</tr>\n",
       "<tr>\n",
       "  <th>Samoyed</th>            <td> 4461.3787</td> <td> 2703.463</td> <td>    1.650</td> <td> 0.099</td> <td> -847.675</td> <td> 9770.433</td>\n",
       "</tr>\n",
       "<tr>\n",
       "  <th>chow</th>               <td> 1599.6771</td> <td> 2665.695</td> <td>    0.600</td> <td> 0.549</td> <td>-3635.208</td> <td> 6834.563</td>\n",
       "</tr>\n",
       "<tr>\n",
       "  <th>golden_retriever</th>   <td> 2857.4568</td> <td> 2184.752</td> <td>    1.308</td> <td> 0.191</td> <td>-1432.953</td> <td> 7147.867</td>\n",
       "</tr>\n",
       "<tr>\n",
       "  <th>malamute</th>           <td> 2163.8879</td> <td> 2906.585</td> <td>    0.744</td> <td> 0.457</td> <td>-3544.056</td> <td> 7871.832</td>\n",
       "</tr>\n",
       "<tr>\n",
       "  <th>pug</th>                <td> 1471.3051</td> <td> 2506.525</td> <td>    0.587</td> <td> 0.557</td> <td>-3451.002</td> <td> 6393.613</td>\n",
       "</tr>\n",
       "<tr>\n",
       "  <th>pupper_1</th>           <td> 1.181e+04</td> <td> 2768.912</td> <td>    4.266</td> <td> 0.000</td> <td> 6374.096</td> <td> 1.72e+04</td>\n",
       "</tr>\n",
       "<tr>\n",
       "  <th>doggo_1</th>            <td> 2640.6055</td> <td> 5324.957</td> <td>    0.496</td> <td> 0.620</td> <td>-7816.531</td> <td> 1.31e+04</td>\n",
       "</tr>\n",
       "<tr>\n",
       "  <th>puppo_1</th>            <td>-2509.2087</td> <td> 1480.441</td> <td>   -1.695</td> <td> 0.091</td> <td>-5416.494</td> <td>  398.077</td>\n",
       "</tr>\n",
       "<tr>\n",
       "  <th>floofer_1</th>          <td> 4395.7144</td> <td> 4472.080</td> <td>    0.983</td> <td> 0.326</td> <td>-4386.545</td> <td> 1.32e+04</td>\n",
       "</tr>\n",
       "<tr>\n",
       "  <th>pupper_2</th>           <td>-6219.9595</td> <td> 5899.288</td> <td>   -1.054</td> <td> 0.292</td> <td>-1.78e+04</td> <td> 5365.048</td>\n",
       "</tr>\n",
       "<tr>\n",
       "  <th>puppo_2</th>            <td>-1.048e+04</td> <td>  1.2e+04</td> <td>   -0.872</td> <td> 0.384</td> <td>-3.41e+04</td> <td> 1.31e+04</td>\n",
       "</tr>\n",
       "<tr>\n",
       "  <th>absolute_ratings</th>   <td> 2.251e+04</td> <td> 2718.453</td> <td>    8.280</td> <td> 0.000</td> <td> 1.72e+04</td> <td> 2.78e+04</td>\n",
       "</tr>\n",
       "<tr>\n",
       "  <th>intercept</th>          <td>-1.898e+04</td> <td> 3573.523</td> <td>   -5.311</td> <td> 0.000</td> <td> -2.6e+04</td> <td> -1.2e+04</td>\n",
       "</tr>\n",
       "</table>\n",
       "<table class=\"simpletable\">\n",
       "<tr>\n",
       "  <th>Omnibus:</th>       <td>600.486</td> <th>  Durbin-Watson:     </th> <td>   1.586</td> \n",
       "</tr>\n",
       "<tr>\n",
       "  <th>Prob(Omnibus):</th> <td> 0.000</td>  <th>  Jarque-Bera (JB):  </th> <td>30560.655</td>\n",
       "</tr>\n",
       "<tr>\n",
       "  <th>Skew:</th>          <td> 4.053</td>  <th>  Prob(JB):          </th> <td>    0.00</td> \n",
       "</tr>\n",
       "<tr>\n",
       "  <th>Kurtosis:</th>      <td>35.950</td>  <th>  Cond. No.          </th> <td>    40.5</td> \n",
       "</tr>\n",
       "</table><br/><br/>Notes:<br/>[1] Standard Errors assume that the covariance matrix of the errors is correctly specified."
      ],
      "text/plain": [
       "<class 'statsmodels.iolib.summary.Summary'>\n",
       "\"\"\"\n",
       "                            OLS Regression Results                            \n",
       "==============================================================================\n",
       "Dep. Variable:         favorite_count   R-squared:                       0.159\n",
       "Model:                            OLS   Adj. R-squared:                  0.138\n",
       "Method:                 Least Squares   F-statistic:                     7.352\n",
       "Date:                Mon, 21 Jun 2021   Prob (F-statistic):           7.24e-16\n",
       "Time:                        16:28:09   Log-Likelihood:                -6862.0\n",
       "No. Observations:                 637   AIC:                         1.376e+04\n",
       "Df Residuals:                     620   BIC:                         1.383e+04\n",
       "Df Model:                          16                                         \n",
       "Covariance Type:            nonrobust                                         \n",
       "======================================================================================\n",
       "                         coef    std err          t      P>|t|      [0.025      0.975]\n",
       "--------------------------------------------------------------------------------------\n",
       "Chihuahua           2560.9704   2334.648      1.097      0.273   -2023.806    7145.747\n",
       "Labrador_retriever  3723.4424   2281.231      1.632      0.103    -756.434    8203.319\n",
       "Pembroke            3316.1377   2295.036      1.445      0.149   -1190.848    7823.124\n",
       "Pomeranian           740.4927   2709.206      0.273      0.785   -4579.840    6060.826\n",
       "Samoyed             4461.3787   2703.463      1.650      0.099    -847.675    9770.433\n",
       "chow                1599.6771   2665.695      0.600      0.549   -3635.208    6834.563\n",
       "golden_retriever    2857.4568   2184.752      1.308      0.191   -1432.953    7147.867\n",
       "malamute            2163.8879   2906.585      0.744      0.457   -3544.056    7871.832\n",
       "pug                 1471.3051   2506.525      0.587      0.557   -3451.002    6393.613\n",
       "pupper_1            1.181e+04   2768.912      4.266      0.000    6374.096    1.72e+04\n",
       "doggo_1             2640.6055   5324.957      0.496      0.620   -7816.531    1.31e+04\n",
       "puppo_1            -2509.2087   1480.441     -1.695      0.091   -5416.494     398.077\n",
       "floofer_1           4395.7144   4472.080      0.983      0.326   -4386.545    1.32e+04\n",
       "pupper_2           -6219.9595   5899.288     -1.054      0.292   -1.78e+04    5365.048\n",
       "puppo_2            -1.048e+04    1.2e+04     -0.872      0.384   -3.41e+04    1.31e+04\n",
       "absolute_ratings    2.251e+04   2718.453      8.280      0.000    1.72e+04    2.78e+04\n",
       "intercept          -1.898e+04   3573.523     -5.311      0.000    -2.6e+04    -1.2e+04\n",
       "==============================================================================\n",
       "Omnibus:                      600.486   Durbin-Watson:                   1.586\n",
       "Prob(Omnibus):                  0.000   Jarque-Bera (JB):            30560.655\n",
       "Skew:                           4.053   Prob(JB):                         0.00\n",
       "Kurtosis:                      35.950   Cond. No.                         40.5\n",
       "==============================================================================\n",
       "\n",
       "Notes:\n",
       "[1] Standard Errors assume that the covariance matrix of the errors is correctly specified.\n",
       "\"\"\""
      ]
     },
     "execution_count": 71,
     "metadata": {},
     "output_type": "execute_result"
    }
   ],
   "source": [
    "top_10_breeds['intercept'] = 1\n",
    "params = list(top_10_breeds.iloc[:,-22:].columns)\n",
    "params = [i for i in params if i not in ['toy_poodle','category_1','category_2','Unidentified_1','Unidentified_2']]\n",
    "lm = sm.OLS(top_10_breeds['favorite_count'], top_10_breeds[params])\n",
    "results = lm.fit()\n",
    "results.summary()"
   ]
  },
  {
   "cell_type": "markdown",
   "metadata": {},
   "source": [
    "Most of the p values are above the alpha value (assumed 5% in this case). This means we cannot reject the null hypothesis that breeds other than `pug`, categories other than `Unidentified's` result in greater favorite counts. We can however roughly gauge which features are negatively and positively correlated with the dependent variable with respect to the baseline. This inabilility to draw conclusions stems from the fact that we don't have enough data "
   ]
  },
  {
   "cell_type": "markdown",
   "metadata": {},
   "source": [
    "Similarly, we can fit a regression line for `retweet_count`."
   ]
  },
  {
   "cell_type": "code",
   "execution_count": 72,
   "metadata": {},
   "outputs": [
    {
     "data": {
      "text/html": [
       "<table class=\"simpletable\">\n",
       "<caption>OLS Regression Results</caption>\n",
       "<tr>\n",
       "  <th>Dep. Variable:</th>      <td>retweet_count</td>  <th>  R-squared:         </th> <td>   0.100</td> \n",
       "</tr>\n",
       "<tr>\n",
       "  <th>Model:</th>                   <td>OLS</td>       <th>  Adj. R-squared:    </th> <td>   0.077</td> \n",
       "</tr>\n",
       "<tr>\n",
       "  <th>Method:</th>             <td>Least Squares</td>  <th>  F-statistic:       </th> <td>   4.318</td> \n",
       "</tr>\n",
       "<tr>\n",
       "  <th>Date:</th>             <td>Mon, 21 Jun 2021</td> <th>  Prob (F-statistic):</th> <td>4.51e-08</td> \n",
       "</tr>\n",
       "<tr>\n",
       "  <th>Time:</th>                 <td>16:28:47</td>     <th>  Log-Likelihood:    </th> <td> -6251.4</td> \n",
       "</tr>\n",
       "<tr>\n",
       "  <th>No. Observations:</th>      <td>   637</td>      <th>  AIC:               </th> <td>1.254e+04</td>\n",
       "</tr>\n",
       "<tr>\n",
       "  <th>Df Residuals:</th>          <td>   620</td>      <th>  BIC:               </th> <td>1.261e+04</td>\n",
       "</tr>\n",
       "<tr>\n",
       "  <th>Df Model:</th>              <td>    16</td>      <th>                     </th>     <td> </td>    \n",
       "</tr>\n",
       "<tr>\n",
       "  <th>Covariance Type:</th>      <td>nonrobust</td>    <th>                     </th>     <td> </td>    \n",
       "</tr>\n",
       "</table>\n",
       "<table class=\"simpletable\">\n",
       "<tr>\n",
       "           <td></td>             <th>coef</th>     <th>std err</th>      <th>t</th>      <th>P>|t|</th>  <th>[0.025</th>    <th>0.975]</th>  \n",
       "</tr>\n",
       "<tr>\n",
       "  <th>Chihuahua</th>          <td>  471.4157</td> <td>  895.240</td> <td>    0.527</td> <td> 0.599</td> <td>-1286.654</td> <td> 2229.485</td>\n",
       "</tr>\n",
       "<tr>\n",
       "  <th>Labrador_retriever</th> <td>  877.3844</td> <td>  874.756</td> <td>    1.003</td> <td> 0.316</td> <td> -840.460</td> <td> 2595.229</td>\n",
       "</tr>\n",
       "<tr>\n",
       "  <th>Pembroke</th>           <td>  338.7462</td> <td>  880.050</td> <td>    0.385</td> <td> 0.700</td> <td>-1389.494</td> <td> 2066.986</td>\n",
       "</tr>\n",
       "<tr>\n",
       "  <th>Pomeranian</th>         <td>   36.3127</td> <td> 1038.867</td> <td>    0.035</td> <td> 0.972</td> <td>-2003.811</td> <td> 2076.437</td>\n",
       "</tr>\n",
       "<tr>\n",
       "  <th>Samoyed</th>            <td> 1257.2360</td> <td> 1036.664</td> <td>    1.213</td> <td> 0.226</td> <td> -778.563</td> <td> 3293.035</td>\n",
       "</tr>\n",
       "<tr>\n",
       "  <th>chow</th>               <td>    9.2441</td> <td> 1022.182</td> <td>    0.009</td> <td> 0.993</td> <td>-1998.115</td> <td> 2016.603</td>\n",
       "</tr>\n",
       "<tr>\n",
       "  <th>golden_retriever</th>   <td>  300.2546</td> <td>  837.760</td> <td>    0.358</td> <td> 0.720</td> <td>-1344.937</td> <td> 1945.447</td>\n",
       "</tr>\n",
       "<tr>\n",
       "  <th>malamute</th>           <td>  204.3838</td> <td> 1114.553</td> <td>    0.183</td> <td> 0.855</td> <td>-1984.373</td> <td> 2393.140</td>\n",
       "</tr>\n",
       "<tr>\n",
       "  <th>pug</th>                <td>    7.7364</td> <td>  961.147</td> <td>    0.008</td> <td> 0.994</td> <td>-1879.762</td> <td> 1895.234</td>\n",
       "</tr>\n",
       "<tr>\n",
       "  <th>pupper_1</th>           <td> 4861.3571</td> <td> 1061.761</td> <td>    4.579</td> <td> 0.000</td> <td> 2776.273</td> <td> 6946.442</td>\n",
       "</tr>\n",
       "<tr>\n",
       "  <th>doggo_1</th>            <td> 1746.9002</td> <td> 2041.897</td> <td>    0.856</td> <td> 0.393</td> <td>-2262.972</td> <td> 5756.773</td>\n",
       "</tr>\n",
       "<tr>\n",
       "  <th>puppo_1</th>            <td> -368.7116</td> <td>  567.687</td> <td>   -0.649</td> <td> 0.516</td> <td>-1483.533</td> <td>  746.110</td>\n",
       "</tr>\n",
       "<tr>\n",
       "  <th>floofer_1</th>          <td>  197.1897</td> <td> 1714.855</td> <td>    0.115</td> <td> 0.908</td> <td>-3170.438</td> <td> 3564.817</td>\n",
       "</tr>\n",
       "<tr>\n",
       "  <th>pupper_2</th>           <td>-2893.2706</td> <td> 2262.129</td> <td>   -1.279</td> <td> 0.201</td> <td>-7335.634</td> <td> 1549.093</td>\n",
       "</tr>\n",
       "<tr>\n",
       "  <th>puppo_2</th>            <td>-5207.0652</td> <td> 4609.864</td> <td>   -1.130</td> <td> 0.259</td> <td>-1.43e+04</td> <td> 3845.774</td>\n",
       "</tr>\n",
       "<tr>\n",
       "  <th>absolute_ratings</th>   <td> 5850.1718</td> <td> 1042.412</td> <td>    5.612</td> <td> 0.000</td> <td> 3803.085</td> <td> 7897.259</td>\n",
       "</tr>\n",
       "<tr>\n",
       "  <th>intercept</th>          <td>-4431.7698</td> <td> 1370.296</td> <td>   -3.234</td> <td> 0.001</td> <td>-7122.754</td> <td>-1740.786</td>\n",
       "</tr>\n",
       "</table>\n",
       "<table class=\"simpletable\">\n",
       "<tr>\n",
       "  <th>Omnibus:</th>       <td>920.850</td> <th>  Durbin-Watson:     </th>  <td>   1.894</td> \n",
       "</tr>\n",
       "<tr>\n",
       "  <th>Prob(Omnibus):</th> <td> 0.000</td>  <th>  Jarque-Bera (JB):  </th> <td>248730.478</td>\n",
       "</tr>\n",
       "<tr>\n",
       "  <th>Skew:</th>          <td> 7.789</td>  <th>  Prob(JB):          </th>  <td>    0.00</td> \n",
       "</tr>\n",
       "<tr>\n",
       "  <th>Kurtosis:</th>      <td>98.544</td>  <th>  Cond. No.          </th>  <td>    40.5</td> \n",
       "</tr>\n",
       "</table><br/><br/>Notes:<br/>[1] Standard Errors assume that the covariance matrix of the errors is correctly specified."
      ],
      "text/plain": [
       "<class 'statsmodels.iolib.summary.Summary'>\n",
       "\"\"\"\n",
       "                            OLS Regression Results                            \n",
       "==============================================================================\n",
       "Dep. Variable:          retweet_count   R-squared:                       0.100\n",
       "Model:                            OLS   Adj. R-squared:                  0.077\n",
       "Method:                 Least Squares   F-statistic:                     4.318\n",
       "Date:                Mon, 21 Jun 2021   Prob (F-statistic):           4.51e-08\n",
       "Time:                        16:28:47   Log-Likelihood:                -6251.4\n",
       "No. Observations:                 637   AIC:                         1.254e+04\n",
       "Df Residuals:                     620   BIC:                         1.261e+04\n",
       "Df Model:                          16                                         \n",
       "Covariance Type:            nonrobust                                         \n",
       "======================================================================================\n",
       "                         coef    std err          t      P>|t|      [0.025      0.975]\n",
       "--------------------------------------------------------------------------------------\n",
       "Chihuahua            471.4157    895.240      0.527      0.599   -1286.654    2229.485\n",
       "Labrador_retriever   877.3844    874.756      1.003      0.316    -840.460    2595.229\n",
       "Pembroke             338.7462    880.050      0.385      0.700   -1389.494    2066.986\n",
       "Pomeranian            36.3127   1038.867      0.035      0.972   -2003.811    2076.437\n",
       "Samoyed             1257.2360   1036.664      1.213      0.226    -778.563    3293.035\n",
       "chow                   9.2441   1022.182      0.009      0.993   -1998.115    2016.603\n",
       "golden_retriever     300.2546    837.760      0.358      0.720   -1344.937    1945.447\n",
       "malamute             204.3838   1114.553      0.183      0.855   -1984.373    2393.140\n",
       "pug                    7.7364    961.147      0.008      0.994   -1879.762    1895.234\n",
       "pupper_1            4861.3571   1061.761      4.579      0.000    2776.273    6946.442\n",
       "doggo_1             1746.9002   2041.897      0.856      0.393   -2262.972    5756.773\n",
       "puppo_1             -368.7116    567.687     -0.649      0.516   -1483.533     746.110\n",
       "floofer_1            197.1897   1714.855      0.115      0.908   -3170.438    3564.817\n",
       "pupper_2           -2893.2706   2262.129     -1.279      0.201   -7335.634    1549.093\n",
       "puppo_2            -5207.0652   4609.864     -1.130      0.259   -1.43e+04    3845.774\n",
       "absolute_ratings    5850.1718   1042.412      5.612      0.000    3803.085    7897.259\n",
       "intercept          -4431.7698   1370.296     -3.234      0.001   -7122.754   -1740.786\n",
       "==============================================================================\n",
       "Omnibus:                      920.850   Durbin-Watson:                   1.894\n",
       "Prob(Omnibus):                  0.000   Jarque-Bera (JB):           248730.478\n",
       "Skew:                           7.789   Prob(JB):                         0.00\n",
       "Kurtosis:                      98.544   Cond. No.                         40.5\n",
       "==============================================================================\n",
       "\n",
       "Notes:\n",
       "[1] Standard Errors assume that the covariance matrix of the errors is correctly specified.\n",
       "\"\"\""
      ]
     },
     "execution_count": 72,
     "metadata": {},
     "output_type": "execute_result"
    }
   ],
   "source": [
    "lm = sm.OLS(top_10_breeds['retweet_count'], top_10_breeds[params])\n",
    "results = lm.fit()\n",
    "results.summary()"
   ]
  },
  {
   "cell_type": "markdown",
   "metadata": {},
   "source": [
    "Here again, results are not statistically significant due to the same reasons"
   ]
  },
  {
   "cell_type": "markdown",
   "metadata": {},
   "source": [
    "### Visualizing Heatmaps of Data Based on Dog Breed and Category\n",
    "<a id = 'heatmap'></a>"
   ]
  },
  {
   "cell_type": "code",
   "execution_count": 73,
   "metadata": {},
   "outputs": [
    {
     "data": {
      "image/png": "[encoded data removed]",
      "text/plain": [
       "<Figure size 720x720 with 2 Axes>"
      ]
     },
     "metadata": {
      "needs_background": "light"
     },
     "output_type": "display_data"
    }
   ],
   "source": [
    "pvt_db_cat = pd.pivot_table(top_10_breeds, values = ['favorite_count'], index = ['p1'], columns = ['category_1'], aggfunc = np.mean)\n",
    "pvt_db_cat.fillna(0, inplace = True)\n",
    "\n",
    "sns.color_palette(\"magma\")\n",
    "fig, ax = plt.subplots(figsize=(10,10))\n",
    "sns.heatmap(pvt_db_cat);\n",
    "plt.xlabel(\"Category\");\n",
    "plt.ylabel(\"Dog Breed\");\n",
    "plt.title(\"Favorite Count by Dog Breed and Category\");"
   ]
  },
  {
   "cell_type": "markdown",
   "metadata": {},
   "source": [
    "Here we can observe that `Pembroke` in the `puppo` stage receives maximum number of likes. `Labrador Retriever` in `doggo` stage receives considerable likes. The safest option to go by is the `Golden Retriever` since it receives consistent favorites throughout its stages"
   ]
  },
  {
   "cell_type": "code",
   "execution_count": 74,
   "metadata": {},
   "outputs": [
    {
     "data": {
      "image/png": "[encoded data removed]",
      "text/plain": [
       "<Figure size 720x720 with 2 Axes>"
      ]
     },
     "metadata": {
      "needs_background": "light"
     },
     "output_type": "display_data"
    }
   ],
   "source": [
    "pvt_db_cat = pd.pivot_table(top_10_breeds, values = ['retweet_count'], index = ['p1'], columns = ['category_1'], aggfunc = np.mean)\n",
    "pvt_db_cat.fillna(0, inplace = True)\n",
    "\n",
    "sns.color_palette(\"magma\")\n",
    "fig, ax = plt.subplots(figsize=(10,10))\n",
    "sns.heatmap(pvt_db_cat);\n",
    "plt.xlabel(\"Category\");\n",
    "plt.ylabel(\"Dog Breed\");\n",
    "plt.title(\"Retweet Count by Dog Breed and Category\");"
   ]
  },
  {
   "cell_type": "markdown",
   "metadata": {},
   "source": [
    "Similar stats are observed for `retweet_count` suggesting that `retweet_count` and `favorite_count` are positively correlated (pretty intuitive). Here as well `Golden Retriever` does consistently well across all its stages and `Labrador retriever` and `Pembroke` acheive high status in the `pupper` and `puppo` stages respectively. One may attribute the drop in performance of other dog breeds in specific stages to a lack of data for those breeds in those stages. This is a perfectly valid observation. "
   ]
  }
 ],
 "metadata": {
  "kernelspec": {
   "display_name": "Python 3",
   "language": "python",
   "name": "python3"
  },
  "language_info": {
   "codemirror_mode": {
    "name": "ipython",
    "version": 3
   },
   "file_extension": ".py",
   "mimetype": "text/x-python",
   "name": "python",
   "nbconvert_exporter": "python",
   "pygments_lexer": "ipython3",
   "version": "3.9.5"
  }
 },
 "nbformat": 4,
 "nbformat_minor": 2
}
