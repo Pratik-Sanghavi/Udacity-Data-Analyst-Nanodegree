{
 "cells": [
  {
   "cell_type": "markdown",
   "metadata": {},
   "source": [
    "# Module 4: Assessing dog breeds for maximum social media outreach\n",
    "\n",
    "This notebook attempts to shed light on the dog breeds most likely to attract maximum likes and retweets on twitter. For this, I have divided the notebook into **4 distinct sections**\n",
    "1. Gathering\n",
    "2. Assessing Data\n",
    "3. Cleaning data\n",
    "4. Analysis\n",
    "\n",
    "This will be used in order to predict if a dog is likely to be popular on social media or not. Enough banter! Lets get on with the project."
   ]
  },
  {
   "cell_type": "markdown",
   "metadata": {},
   "source": [
    "## Table of Contents\n",
    "\n",
    "1. [Gathering](#gathering)<br>\n",
    "    1.1 [Importing Libraries](#importing)<br>\n",
    "    1.2 [Importing Data](#data)<br>\n",
    "2. [Assessing Data](#assessing)<br>\n",
    "    2.1 [Quality](#quality)<br>\n",
    "    2.2 [Tidiness](#tidy)<br>\n",
    "3. [Cleaning Data](#cleaning)<br>\n",
    "    3.1 [Quality](#qualclean)<br>\n",
    "    3.2 [Tidiness](#tidyclean)<br>\n",
    "4. [Analysis](#analyse)<br>\n",
    "    4.1 [Fitting a Linear Model](#ml)<br>\n",
    "    4.2 [Heatmaps for data](#heatmap)<br>"
   ]
  },
  {
   "cell_type": "markdown",
   "metadata": {},
   "source": [
    "### 1. Gathering:-\n",
    "<a id = \"gathering\"></a>\n",
    "Data will be gathered via the following sources:-\n",
    "1. From the `twitter_archive_enhanced.csv` file provided to us   \n",
    "2. From `image_predictions.tsv` available to download\n",
    "3. Using Tweepy to retrieve data about the likes, retweet count for a particular tweet id"
   ]
  },
  {
   "cell_type": "markdown",
   "metadata": {},
   "source": [
    "#### 1.1) Import the essential libraries:\n",
    "<a id=\"importing\"></a>"
   ]
  },
  {
   "cell_type": "code",
   "execution_count": 1,
   "metadata": {},
   "outputs": [],
   "source": [
    "import re\n",
    "import numpy as np\n",
    "import pandas as pd\n",
    "from tqdm import tqdm\n",
    "import requests\n",
    "import os\n",
    "import tweepy\n",
    "import json\n",
    "import statsmodels.api as sm\n",
    "import matplotlib.pyplot as plt\n",
    "import seaborn as sns\n",
    "%matplotlib inline"
   ]
  },
  {
   "cell_type": "markdown",
   "metadata": {},
   "source": [
    "#### 1.2) Importing data:\n",
    "<a id = \"data\"></a>"
   ]
  },
  {
   "cell_type": "markdown",
   "metadata": {},
   "source": [
    "a) Loading data from the `twitter-archive-enhanced.csv` file"
   ]
  },
  {
   "cell_type": "code",
   "execution_count": 2,
   "metadata": {},
   "outputs": [],
   "source": [
    "dogs_df = pd.read_csv('twitter-archive-enhanced.csv')"
   ]
  },
  {
   "cell_type": "markdown",
   "metadata": {},
   "source": [
    "b) Downloading and storing data for `image_predictions.tsv`"
   ]
  },
  {
   "cell_type": "code",
   "execution_count": 3,
   "metadata": {
    "scrolled": true
   },
   "outputs": [
    {
     "data": {
      "text/html": [
       "<div>\n",
       "<style scoped>\n",
       "    .dataframe tbody tr th:only-of-type {\n",
       "        vertical-align: middle;\n",
       "    }\n",
       "\n",
       "    .dataframe tbody tr th {\n",
       "        vertical-align: top;\n",
       "    }\n",
       "\n",
       "    .dataframe thead th {\n",
       "        text-align: right;\n",
       "    }\n",
       "</style>\n",
       "<table border=\"1\" class=\"dataframe\">\n",
       "  <thead>\n",
       "    <tr style=\"text-align: right;\">\n",
       "      <th></th>\n",
       "      <th>tweet_id</th>\n",
       "      <th>jpg_url</th>\n",
       "      <th>img_num</th>\n",
       "      <th>p1</th>\n",
       "      <th>p1_conf</th>\n",
       "      <th>p1_dog</th>\n",
       "      <th>p2</th>\n",
       "      <th>p2_conf</th>\n",
       "      <th>p2_dog</th>\n",
       "      <th>p3</th>\n",
       "      <th>p3_conf</th>\n",
       "      <th>p3_dog</th>\n",
       "    </tr>\n",
       "  </thead>\n",
       "  <tbody>\n",
       "    <tr>\n",
       "      <th>0</th>\n",
       "      <td>666020888022790149</td>\n",
       "      <td>https://pbs.twimg.com/media/CT4udn0WwAA0aMy.jpg</td>\n",
       "      <td>1</td>\n",
       "      <td>Welsh_springer_spaniel</td>\n",
       "      <td>0.465074</td>\n",
       "      <td>True</td>\n",
       "      <td>collie</td>\n",
       "      <td>0.156665</td>\n",
       "      <td>True</td>\n",
       "      <td>Shetland_sheepdog</td>\n",
       "      <td>0.061428</td>\n",
       "      <td>True</td>\n",
       "    </tr>\n",
       "    <tr>\n",
       "      <th>1</th>\n",
       "      <td>666029285002620928</td>\n",
       "      <td>https://pbs.twimg.com/media/CT42GRgUYAA5iDo.jpg</td>\n",
       "      <td>1</td>\n",
       "      <td>redbone</td>\n",
       "      <td>0.506826</td>\n",
       "      <td>True</td>\n",
       "      <td>miniature_pinscher</td>\n",
       "      <td>0.074192</td>\n",
       "      <td>True</td>\n",
       "      <td>Rhodesian_ridgeback</td>\n",
       "      <td>0.072010</td>\n",
       "      <td>True</td>\n",
       "    </tr>\n",
       "    <tr>\n",
       "      <th>2</th>\n",
       "      <td>666033412701032449</td>\n",
       "      <td>https://pbs.twimg.com/media/CT4521TWwAEvMyu.jpg</td>\n",
       "      <td>1</td>\n",
       "      <td>German_shepherd</td>\n",
       "      <td>0.596461</td>\n",
       "      <td>True</td>\n",
       "      <td>malinois</td>\n",
       "      <td>0.138584</td>\n",
       "      <td>True</td>\n",
       "      <td>bloodhound</td>\n",
       "      <td>0.116197</td>\n",
       "      <td>True</td>\n",
       "    </tr>\n",
       "    <tr>\n",
       "      <th>3</th>\n",
       "      <td>666044226329800704</td>\n",
       "      <td>https://pbs.twimg.com/media/CT5Dr8HUEAA-lEu.jpg</td>\n",
       "      <td>1</td>\n",
       "      <td>Rhodesian_ridgeback</td>\n",
       "      <td>0.408143</td>\n",
       "      <td>True</td>\n",
       "      <td>redbone</td>\n",
       "      <td>0.360687</td>\n",
       "      <td>True</td>\n",
       "      <td>miniature_pinscher</td>\n",
       "      <td>0.222752</td>\n",
       "      <td>True</td>\n",
       "    </tr>\n",
       "    <tr>\n",
       "      <th>4</th>\n",
       "      <td>666049248165822465</td>\n",
       "      <td>https://pbs.twimg.com/media/CT5IQmsXIAAKY4A.jpg</td>\n",
       "      <td>1</td>\n",
       "      <td>miniature_pinscher</td>\n",
       "      <td>0.560311</td>\n",
       "      <td>True</td>\n",
       "      <td>Rottweiler</td>\n",
       "      <td>0.243682</td>\n",
       "      <td>True</td>\n",
       "      <td>Doberman</td>\n",
       "      <td>0.154629</td>\n",
       "      <td>True</td>\n",
       "    </tr>\n",
       "  </tbody>\n",
       "</table>\n",
       "</div>"
      ],
      "text/plain": [
       "             tweet_id                                          jpg_url  \\\n",
       "0  666020888022790149  https://pbs.twimg.com/media/CT4udn0WwAA0aMy.jpg   \n",
       "1  666029285002620928  https://pbs.twimg.com/media/CT42GRgUYAA5iDo.jpg   \n",
       "2  666033412701032449  https://pbs.twimg.com/media/CT4521TWwAEvMyu.jpg   \n",
       "3  666044226329800704  https://pbs.twimg.com/media/CT5Dr8HUEAA-lEu.jpg   \n",
       "4  666049248165822465  https://pbs.twimg.com/media/CT5IQmsXIAAKY4A.jpg   \n",
       "\n",
       "   img_num                      p1   p1_conf  p1_dog                  p2  \\\n",
       "0        1  Welsh_springer_spaniel  0.465074    True              collie   \n",
       "1        1                 redbone  0.506826    True  miniature_pinscher   \n",
       "2        1         German_shepherd  0.596461    True            malinois   \n",
       "3        1     Rhodesian_ridgeback  0.408143    True             redbone   \n",
       "4        1      miniature_pinscher  0.560311    True          Rottweiler   \n",
       "\n",
       "    p2_conf  p2_dog                   p3   p3_conf  p3_dog  \n",
       "0  0.156665    True    Shetland_sheepdog  0.061428    True  \n",
       "1  0.074192    True  Rhodesian_ridgeback  0.072010    True  \n",
       "2  0.138584    True           bloodhound  0.116197    True  \n",
       "3  0.360687    True   miniature_pinscher  0.222752    True  \n",
       "4  0.243682    True             Doberman  0.154629    True  "
      ]
     },
     "execution_count": 3,
     "metadata": {},
     "output_type": "execute_result"
    }
   ],
   "source": [
    "# Step 1: Downloading data\n",
    "folder_name = 'Data_Files'\n",
    "if not os.path.exists(folder_name):\n",
    "    os.makedirs(folder_name)\n",
    "url = 'https://d17h27t6h515a5.cloudfront.net/topher/2017/August/599fd2ad_image-predictions/image-predictions.tsv'\n",
    "response = requests.get(url)\n",
    "with open(os.path.join(folder_name,url.split('/')[-1]), mode = 'wb') as file:\n",
    "    file.write(response.content)\n",
    "\n",
    "# Step 2: Reading data onto a dataframe\n",
    "image_predictions = pd.read_csv('Data_Files/image-predictions.tsv', sep = '\\t')\n",
    "image_predictions.head()"
   ]
  },
  {
   "cell_type": "markdown",
   "metadata": {},
   "source": [
    "c) Using Tweepy for getting metadata on the tweets if available <br>\n",
    "The information will be stored in `tweet_json.txt` present in the `Data_Files` directory from where the relevant fields can be read into a dataframe"
   ]
  },
  {
   "cell_type": "code",
   "execution_count": 13,
   "metadata": {},
   "outputs": [
    {
     "name": "stderr",
     "output_type": "stream",
     "text": [
      "100%|██████████████████████████████████████████████████████████████████████████████| 2356/2356 [36:23<00:00,  1.08it/s]\n"
     ]
    }
   ],
   "source": [
    "# Retrieving data from twitter and storing in tweet_json.txt\n",
    "consumer_key = 'HIDDEN'\n",
    "consumer_secret = 'HIDDEN'\n",
    "\n",
    "access_token = 'HIDDEN'\n",
    "access_secret = 'HIDDEN'\n",
    "\n",
    "auth = tweepy.OAuthHandler(consumer_key,consumer_secret)\n",
    "auth.set_access_token(access_token, access_secret)\n",
    "\n",
    "api = tweepy.API(auth,wait_on_rate_limit = True)\n",
    "\n",
    "for tweet_id in tqdm(list(dogs_df.tweet_id)):\n",
    "    try:\n",
    "        json_format = api.get_status(tweet_id, tweet_mode = 'extended')._json\n",
    "        json_format['tweet_id'] = tweet_id # although the json object contains an 'id' field, I added this to make referencing simpler for me\n",
    "#         print(json_format['tweet_id'])\n",
    "        with open(\"Data_Files/tweet_json.txt\",\"a\") as file:\n",
    "            file.write(json.dumps(json_format))\n",
    "            file.write(\"\\n\")\n",
    "    except:\n",
    "        pass"
   ]
  },
  {
   "cell_type": "code",
   "execution_count": 4,
   "metadata": {},
   "outputs": [
    {
     "name": "stdout",
     "output_type": "stream",
     "text": [
      "<class 'pandas.core.frame.DataFrame'>\n",
      "RangeIndex: 2331 entries, 0 to 2330\n",
      "Data columns (total 33 columns):\n",
      " #   Column                         Non-Null Count  Dtype  \n",
      "---  ------                         --------------  -----  \n",
      " 0   created_at                     2331 non-null   object \n",
      " 1   id                             2331 non-null   int64  \n",
      " 2   id_str                         2331 non-null   object \n",
      " 3   full_text                      2331 non-null   object \n",
      " 4   truncated                      2331 non-null   bool   \n",
      " 5   display_text_range             2331 non-null   object \n",
      " 6   entities                       2331 non-null   object \n",
      " 7   extended_entities              2059 non-null   object \n",
      " 8   source                         2331 non-null   object \n",
      " 9   in_reply_to_status_id          77 non-null     float64\n",
      " 10  in_reply_to_status_id_str      77 non-null     object \n",
      " 11  in_reply_to_user_id            77 non-null     float64\n",
      " 12  in_reply_to_user_id_str        77 non-null     object \n",
      " 13  in_reply_to_screen_name        77 non-null     object \n",
      " 14  user                           2331 non-null   object \n",
      " 15  geo                            0 non-null      object \n",
      " 16  coordinates                    0 non-null      object \n",
      " 17  place                          1 non-null      object \n",
      " 18  contributors                   0 non-null      object \n",
      " 19  is_quote_status                2331 non-null   bool   \n",
      " 20  retweet_count                  2331 non-null   int64  \n",
      " 21  favorite_count                 2331 non-null   int64  \n",
      " 22  favorited                      2331 non-null   bool   \n",
      " 23  retweeted                      2331 non-null   bool   \n",
      " 24  possibly_sensitive             2197 non-null   object \n",
      " 25  possibly_sensitive_appealable  2197 non-null   object \n",
      " 26  lang                           2331 non-null   object \n",
      " 27  tweet_id                       2331 non-null   int64  \n",
      " 28  retweeted_status               163 non-null    object \n",
      " 29  quoted_status_id               26 non-null     float64\n",
      " 30  quoted_status_id_str           26 non-null     object \n",
      " 31  quoted_status_permalink        26 non-null     object \n",
      " 32  quoted_status                  24 non-null     object \n",
      "dtypes: bool(4), float64(3), int64(4), object(22)\n",
      "memory usage: 537.3+ KB\n"
     ]
    }
   ],
   "source": [
    "# # Loading relevant fields from twet_json.txt and storing into a dataframe\n",
    "# df_list = {'tweet_id': [], 'retweet_count':[],'favorite_count':[]}\n",
    "df_list = []\n",
    "with open(\"Data_Files/tweet_json.txt\",\"r\") as file:\n",
    "    while True:\n",
    "        json_string = file.readline()\n",
    "        if len(json_string)!=0:\n",
    "            df_list.append(json.loads(json_string))\n",
    "        else:\n",
    "            break\n",
    "\n",
    "twitter_data = pd.DataFrame(df_list)\n",
    "twitter_data.info()"
   ]
  },
  {
   "cell_type": "markdown",
   "metadata": {},
   "source": [
    "### 2. Assessing Data:-\n",
    "<a id=\"assessing\"></a>"
   ]
  },
  {
   "cell_type": "markdown",
   "metadata": {},
   "source": [
    "The rubric needs 8 quality issues and 2 tidiness issues to be documented. In this section, I will proceed to identify as many quality/tidiness issues that would be crucial to solve before analysis. <br>\n",
    "Before proceeding with the assessment of data, I want to list the dataframes created so far and the information they capture\n",
    "1. `dogs_df` which contains the basic information about the dogs in the dataframe - including but not limited to tweet id, rating, category, name, description,urls and so on\n",
    "2. `image_prediction` which contains the top 3 predictions for the breed of the dog with the confidence of prediction\n",
    "3. `twitter_data` which contains the retweets and likes garnered by the tweet."
   ]
  },
  {
   "cell_type": "markdown",
   "metadata": {},
   "source": [
    "Next I will create the common segment where the quality and tidiness issues will be stacked. This will be the single place we'll be returning to in case we want to refer issues later on."
   ]
  },
  {
   "cell_type": "markdown",
   "metadata": {},
   "source": [
    "##### Quality\n",
    "<a id = 'quality'></a>\n",
    "I) `dogs_df`\n",
    "- [x] Some of the observations are retweets so need to be discarded. Filter out only those tweets that have an image url\n",
    "- [x] `timestamp`, `retweeted_status_timestamp` columns should be of datatype `datetime`\n",
    "- [x] We need to replace all `None` occurences with NaN to make the dataframe easy to work with\n",
    "- [x] ~~`in_reply_to_status_id`,`in_reply_to_user_id` and the retweeted categories have a lot of missing values - can be retreived from the `tweet_json.txt` file if present~~\n",
    "- [x] The ratings (`rating_numerator`) are indicated to be incorrect a lot of times. This can be corrected for.\n",
    "- [x] Dog stages too are sometimes missing/sometimes incorrect and need to be corrected\n",
    "- [x] ~~Dog names too can be looked at for inconsistencies (although we might need to examine the feasibility of this since this can be a pretty complex endeavour)~~ Can't be done with current knowledge (might need NLP knowledge)\n",
    "- [x] Dog names are incorrectly identified (bizarre name \"such\" at index 23, or the name \"quite\", \"an\", \"not\", \"one\", \"very\", \"O\",\"just\",\"old\",\"life\",\"officially\", \"space\",\"light\")\n",
    "\n",
    "II) `image_prediction`\n",
    "- [x] ~~Need to check for duplicate tweet id rows and consider the prediction confidence to choose which one to keep~~\n",
    "\n",
    "III) `twitter_data`\n",
    "- [x] ~~Need to check if any other columns can be added to the dataframe (Not a data cleaning task but rather a gathering task. Gather-Assess-Clean can be iterative!!!).~~ "
   ]
  },
  {
   "cell_type": "markdown",
   "metadata": {},
   "source": [
    "##### Tidiness\n",
    "<a id=\"tidy\"></a>\n",
    "I) `dogs_df`\n",
    "- [x] `doggo`,`floofer`,`pupper` and `puppo` should be under a single column `category`. One thing to note here that a single dog may be identified to belong to several categories\n",
    "- [x] `text` column has information pertinent to other features too and needs to be cleaned as per rule - every variable should be in a new column\n",
    "\n",
    "\n",
    "II) `image_prediction`\n",
    "- [x] ~~Need this be a separate table? This upon examination does satisfy the condition for tidiness - each type of observational unit must be a table~~ This does not need to be a separate table\n",
    "\n",
    "\n",
    "III) `twitter_data`\n",
    "- [x] ~~Need this be a separate table? This needs to examined since maybe this may not satisfy the condition for tidiness - each type of observational unit must be a table~~ This does not need to be a separate table."
   ]
  },
  {
   "cell_type": "code",
   "execution_count": 5,
   "metadata": {},
   "outputs": [
    {
     "name": "stdout",
     "output_type": "stream",
     "text": [
      "<class 'pandas.core.frame.DataFrame'>\n",
      "RangeIndex: 2356 entries, 0 to 2355\n",
      "Data columns (total 17 columns):\n",
      " #   Column                      Non-Null Count  Dtype  \n",
      "---  ------                      --------------  -----  \n",
      " 0   tweet_id                    2356 non-null   int64  \n",
      " 1   in_reply_to_status_id       78 non-null     float64\n",
      " 2   in_reply_to_user_id         78 non-null     float64\n",
      " 3   timestamp                   2356 non-null   object \n",
      " 4   source                      2356 non-null   object \n",
      " 5   text                        2356 non-null   object \n",
      " 6   retweeted_status_id         181 non-null    float64\n",
      " 7   retweeted_status_user_id    181 non-null    float64\n",
      " 8   retweeted_status_timestamp  181 non-null    object \n",
      " 9   expanded_urls               2297 non-null   object \n",
      " 10  rating_numerator            2356 non-null   int64  \n",
      " 11  rating_denominator          2356 non-null   int64  \n",
      " 12  name                        2356 non-null   object \n",
      " 13  doggo                       2356 non-null   object \n",
      " 14  floofer                     2356 non-null   object \n",
      " 15  pupper                      2356 non-null   object \n",
      " 16  puppo                       2356 non-null   object \n",
      "dtypes: float64(4), int64(3), object(10)\n",
      "memory usage: 313.0+ KB\n"
     ]
    }
   ],
   "source": [
    "# Incorrect datatype for datetime related information. \n",
    "# Categories split into multiple columns\n",
    "\n",
    "dogs_df.info()"
   ]
  },
  {
   "cell_type": "code",
   "execution_count": 6,
   "metadata": {},
   "outputs": [
    {
     "name": "stdout",
     "output_type": "stream",
     "text": [
      "Number of retweets: 181\n",
      "All replies by WeRateDogs. We will retain these\n"
     ]
    }
   ],
   "source": [
    "# Check for retweets\n",
    "print(\"Number of retweets: {}\".format(dogs_df[dogs_df.retweeted_status_id.notnull()].shape[0]))\n",
    "\n",
    "# Check for replies\n",
    "temp = twitter_data[twitter_data.tweet_id.isin(dogs_df[dogs_df.in_reply_to_user_id.notnull()].tweet_id)].user\n",
    "flag = 0\n",
    "for i in range(temp.shape[0]):\n",
    "    if re.search(r'WeRateDogs',temp.iloc[i]['name']):\n",
    "        pass\n",
    "    else:\n",
    "        flag = 1\n",
    "        print(temp.iloc[i]['name'])\n",
    "        \n",
    "if flag ==0:\n",
    "    print(\"All replies by WeRateDogs. We will retain these\")"
   ]
  },
  {
   "cell_type": "code",
   "execution_count": 7,
   "metadata": {},
   "outputs": [
    {
     "data": {
      "text/plain": [
       "0                                                         This is Phineas. He's a mystical boy. Only ever appears in the hole of a donut. 13/10 https://t.co/MgUWQ76dJU\n",
       "1    This is Tilly. She's just checking pup on you. Hopes you're doing ok. If not, she's available for pats, snugs, boops, the whole bit. 13/10 https://t.co/0Xxu71qeIV\n",
       "2                     This is Archie. He is a rare Norwegian Pouncing Corgo. Lives in the tall grass. You never know when one may strike. 12/10 https://t.co/wUnZnhtVJB\n",
       "3                                                               This is Darla. She commenced a snooze mid meal. 13/10 happens to the best of us https://t.co/tD36da7qLQ\n",
       "4    This is Franklin. He would like you to stop calling him \"cute.\" He is a very fierce shark and should be respected as such. 12/10 #BarkWeek https://t.co/AtUZn91f7f\n",
       "Name: text, dtype: object"
      ]
     },
     "execution_count": 7,
     "metadata": {},
     "output_type": "execute_result"
    }
   ],
   "source": [
    "# Other column information also present in text column\n",
    "\n",
    "pd.set_option('display.max_colwidth', None)\n",
    "dogs_df.text.head()"
   ]
  },
  {
   "cell_type": "code",
   "execution_count": 8,
   "metadata": {},
   "outputs": [
    {
     "name": "stdout",
     "output_type": "stream",
     "text": [
      "Number of duplicated records in dogs dataframe: 0\n"
     ]
    }
   ],
   "source": [
    "# No duplicate tweet ids present\n",
    "print(\"Number of duplicated records in dogs dataframe: {}\".format(dogs_df.tweet_id.duplicated().sum()))"
   ]
  },
  {
   "cell_type": "code",
   "execution_count": 9,
   "metadata": {},
   "outputs": [
    {
     "name": "stdout",
     "output_type": "stream",
     "text": [
      "Number of rating mismatches: 6\n",
      "Number of metric mismatches: 0\n"
     ]
    }
   ],
   "source": [
    "# Checking for rating mismatches\n",
    "\n",
    "temp = dogs_df.text.str.extract(r'(((\\d+\\.\\d+)|\\d+)/((\\d+\\.\\d+)|\\d+))')[0].astype('str').str.split('/')\n",
    "temp = pd.DataFrame(temp.to_list(), columns=['rating_numerator', 'rating_denominator'])\n",
    "temp['rating_numerator'] = temp['rating_numerator'].astype('float')\n",
    "temp['rating_denominator'] = temp['rating_denominator'].astype('float')\n",
    "pd.set_option('display.max_colwidth', None)\n",
    "temp[dogs_df['rating_numerator'] != temp['rating_numerator']]\n",
    "print(\"Number of rating mismatches: {}\".format(dogs_df[dogs_df['rating_numerator'] != temp['rating_numerator']].tweet_id.count()))\n",
    "print(\"Number of metric mismatches: {}\".format(dogs_df[dogs_df['rating_denominator'] != temp['rating_denominator']].tweet_id.count()))"
   ]
  },
  {
   "cell_type": "code",
   "execution_count": 10,
   "metadata": {},
   "outputs": [
    {
     "name": "stdout",
     "output_type": "stream",
     "text": [
      "Number of doggo misses: 10\n",
      "Number of floofer misses: 0\n",
      "Number of pupper misses: 26\n",
      "Number of puppo misses: 8\n"
     ]
    }
   ],
   "source": [
    "# Checking for category mismatches\n",
    "\n",
    "category_df = pd.DataFrame()\n",
    "categories = ['doggo','floofer','pupper','puppo']\n",
    "for category in categories:\n",
    "    category_df[category] = dogs_df.text.str.lower().str.extract(r'({})'.format(category))[0]\n",
    "# identify those columns where category is missed or does not match\n",
    "print(\"Number of doggo misses: {}\".format(dogs_df[(dogs_df.replace('None', '').doggo != category_df.fillna('').doggo)].tweet_id.count()))\n",
    "print(\"Number of floofer misses: {}\".format(dogs_df[(dogs_df.replace('None', '').floofer != category_df.fillna('').floofer)].tweet_id.count()))\n",
    "print(\"Number of pupper misses: {}\".format(dogs_df[(dogs_df.replace('None', '').pupper != category_df.fillna('').pupper)].tweet_id.count()))\n",
    "print(\"Number of puppo misses: {}\".format(dogs_df[(dogs_df.replace('None', '').puppo != category_df.fillna('').puppo)].tweet_id.count()))"
   ]
  },
  {
   "cell_type": "code",
   "execution_count": 11,
   "metadata": {},
   "outputs": [
    {
     "name": "stdout",
     "output_type": "stream",
     "text": [
      "Number of dogs for which name can be corrected: 109\n"
     ]
    }
   ],
   "source": [
    "# dogs_df.name.unique() an, not, one, very, O,just,old,life,officially, space,light - a common theme all of these have only small letters\n",
    "print(\"Number of dogs for which name can be corrected: {}\".format(dogs_df[dogs_df.name.str[0].str.isupper() == False].shape[0]))"
   ]
  },
  {
   "cell_type": "code",
   "execution_count": 12,
   "metadata": {},
   "outputs": [
    {
     "name": "stdout",
     "output_type": "stream",
     "text": [
      "Number of duplicated records in image predictions: 0\n"
     ]
    }
   ],
   "source": [
    "# Checking for duplicate records\n",
    "\n",
    "print(\"Number of duplicated records in image predictions: {}\".format(image_predictions.tweet_id.duplicated().sum()))"
   ]
  },
  {
   "cell_type": "code",
   "execution_count": 13,
   "metadata": {},
   "outputs": [
    {
     "name": "stdout",
     "output_type": "stream",
     "text": [
      "<class 'pandas.core.frame.DataFrame'>\n",
      "RangeIndex: 2331 entries, 0 to 2330\n",
      "Data columns (total 33 columns):\n",
      " #   Column                         Non-Null Count  Dtype  \n",
      "---  ------                         --------------  -----  \n",
      " 0   created_at                     2331 non-null   object \n",
      " 1   id                             2331 non-null   int64  \n",
      " 2   id_str                         2331 non-null   object \n",
      " 3   full_text                      2331 non-null   object \n",
      " 4   truncated                      2331 non-null   bool   \n",
      " 5   display_text_range             2331 non-null   object \n",
      " 6   entities                       2331 non-null   object \n",
      " 7   extended_entities              2059 non-null   object \n",
      " 8   source                         2331 non-null   object \n",
      " 9   in_reply_to_status_id          77 non-null     float64\n",
      " 10  in_reply_to_status_id_str      77 non-null     object \n",
      " 11  in_reply_to_user_id            77 non-null     float64\n",
      " 12  in_reply_to_user_id_str        77 non-null     object \n",
      " 13  in_reply_to_screen_name        77 non-null     object \n",
      " 14  user                           2331 non-null   object \n",
      " 15  geo                            0 non-null      object \n",
      " 16  coordinates                    0 non-null      object \n",
      " 17  place                          1 non-null      object \n",
      " 18  contributors                   0 non-null      object \n",
      " 19  is_quote_status                2331 non-null   bool   \n",
      " 20  retweet_count                  2331 non-null   int64  \n",
      " 21  favorite_count                 2331 non-null   int64  \n",
      " 22  favorited                      2331 non-null   bool   \n",
      " 23  retweeted                      2331 non-null   bool   \n",
      " 24  possibly_sensitive             2197 non-null   object \n",
      " 25  possibly_sensitive_appealable  2197 non-null   object \n",
      " 26  lang                           2331 non-null   object \n",
      " 27  tweet_id                       2331 non-null   int64  \n",
      " 28  retweeted_status               163 non-null    object \n",
      " 29  quoted_status_id               26 non-null     float64\n",
      " 30  quoted_status_id_str           26 non-null     object \n",
      " 31  quoted_status_permalink        26 non-null     object \n",
      " 32  quoted_status                  24 non-null     object \n",
      "dtypes: bool(4), float64(3), int64(4), object(22)\n",
      "memory usage: 537.3+ KB\n"
     ]
    }
   ],
   "source": [
    "# Checking for features that might be useful for analysis\n",
    "\n",
    "twitter_data.info()"
   ]
  },
  {
   "cell_type": "markdown",
   "metadata": {},
   "source": [
    "Columns that can be identified to be useful for analysis:-\n",
    "1. `retweet_count`\n",
    "2. `favorite_count`"
   ]
  },
  {
   "cell_type": "markdown",
   "metadata": {},
   "source": [
    "For considering whether or not the `image_predictions` dataframe can be a separate table, we can examine the features it seeks to capture"
   ]
  },
  {
   "cell_type": "code",
   "execution_count": 14,
   "metadata": {},
   "outputs": [
    {
     "name": "stdout",
     "output_type": "stream",
     "text": [
      "<class 'pandas.core.frame.DataFrame'>\n",
      "RangeIndex: 2075 entries, 0 to 2074\n",
      "Data columns (total 12 columns):\n",
      " #   Column    Non-Null Count  Dtype  \n",
      "---  ------    --------------  -----  \n",
      " 0   tweet_id  2075 non-null   int64  \n",
      " 1   jpg_url   2075 non-null   object \n",
      " 2   img_num   2075 non-null   int64  \n",
      " 3   p1        2075 non-null   object \n",
      " 4   p1_conf   2075 non-null   float64\n",
      " 5   p1_dog    2075 non-null   bool   \n",
      " 6   p2        2075 non-null   object \n",
      " 7   p2_conf   2075 non-null   float64\n",
      " 8   p2_dog    2075 non-null   bool   \n",
      " 9   p3        2075 non-null   object \n",
      " 10  p3_conf   2075 non-null   float64\n",
      " 11  p3_dog    2075 non-null   bool   \n",
      "dtypes: bool(3), float64(3), int64(2), object(4)\n",
      "memory usage: 152.1+ KB\n"
     ]
    }
   ],
   "source": [
    "# Checking for whether image predictions needs to be a separate table\n",
    "\n",
    "image_predictions.info()"
   ]
  },
  {
   "cell_type": "markdown",
   "metadata": {},
   "source": [
    "Here, we can clearly see that aside from the primary key identifying the prediction with the image from a particular tweet, we have the the predictions and confidence level themselves of the top 3 predictions. We can thus conclude that the table should not stand by itself."
   ]
  },
  {
   "cell_type": "code",
   "execution_count": 15,
   "metadata": {},
   "outputs": [
    {
     "name": "stdout",
     "output_type": "stream",
     "text": [
      "<class 'pandas.core.frame.DataFrame'>\n",
      "RangeIndex: 2331 entries, 0 to 2330\n",
      "Data columns (total 33 columns):\n",
      " #   Column                         Non-Null Count  Dtype  \n",
      "---  ------                         --------------  -----  \n",
      " 0   created_at                     2331 non-null   object \n",
      " 1   id                             2331 non-null   int64  \n",
      " 2   id_str                         2331 non-null   object \n",
      " 3   full_text                      2331 non-null   object \n",
      " 4   truncated                      2331 non-null   bool   \n",
      " 5   display_text_range             2331 non-null   object \n",
      " 6   entities                       2331 non-null   object \n",
      " 7   extended_entities              2059 non-null   object \n",
      " 8   source                         2331 non-null   object \n",
      " 9   in_reply_to_status_id          77 non-null     float64\n",
      " 10  in_reply_to_status_id_str      77 non-null     object \n",
      " 11  in_reply_to_user_id            77 non-null     float64\n",
      " 12  in_reply_to_user_id_str        77 non-null     object \n",
      " 13  in_reply_to_screen_name        77 non-null     object \n",
      " 14  user                           2331 non-null   object \n",
      " 15  geo                            0 non-null      object \n",
      " 16  coordinates                    0 non-null      object \n",
      " 17  place                          1 non-null      object \n",
      " 18  contributors                   0 non-null      object \n",
      " 19  is_quote_status                2331 non-null   bool   \n",
      " 20  retweet_count                  2331 non-null   int64  \n",
      " 21  favorite_count                 2331 non-null   int64  \n",
      " 22  favorited                      2331 non-null   bool   \n",
      " 23  retweeted                      2331 non-null   bool   \n",
      " 24  possibly_sensitive             2197 non-null   object \n",
      " 25  possibly_sensitive_appealable  2197 non-null   object \n",
      " 26  lang                           2331 non-null   object \n",
      " 27  tweet_id                       2331 non-null   int64  \n",
      " 28  retweeted_status               163 non-null    object \n",
      " 29  quoted_status_id               26 non-null     float64\n",
      " 30  quoted_status_id_str           26 non-null     object \n",
      " 31  quoted_status_permalink        26 non-null     object \n",
      " 32  quoted_status                  24 non-null     object \n",
      "dtypes: bool(4), float64(3), int64(4), object(22)\n",
      "memory usage: 537.3+ KB\n"
     ]
    }
   ],
   "source": [
    "# Checking for whether twitter data needs to be a separate table\n",
    "\n",
    "twitter_data.info()"
   ]
  },
  {
   "cell_type": "markdown",
   "metadata": {},
   "source": [
    "Here we notice that this is the data from `dogs_df` itself with a few more features. So it can be safely merged with the `dogs_df` with the addition of our features of interest since it contains attributes of the tweets themselves (in perfect harmony with what `dogs_df` seeks to capture)."
   ]
  },
  {
   "cell_type": "markdown",
   "metadata": {},
   "source": [
    "### 3. Cleaning Data:-\n",
    "<a id = \"cleaning\"></a>"
   ]
  },
  {
   "cell_type": "markdown",
   "metadata": {},
   "source": [
    "### 3.1) Quality\n",
    "<a id='qualclean'></a>\n",
    "Quality issues in data are resolved in this section"
   ]
  },
  {
   "cell_type": "markdown",
   "metadata": {},
   "source": [
    "**Define** <br>\n",
    "Retweets are to be removed. For this we can check `retweeted_status_id` columns and remove if not null. <br>\n",
    "As already stated earlier, the replies are all from WeRateDogs and hence will be retained for analysis. <br>\n",
    "I will also drop the 3 columns that captures retweet information since that is no longer required."
   ]
  },
  {
   "cell_type": "markdown",
   "metadata": {},
   "source": [
    "**Clean**"
   ]
  },
  {
   "cell_type": "code",
   "execution_count": 16,
   "metadata": {},
   "outputs": [],
   "source": [
    "dogs_cleaned_df = dogs_df.copy()\n",
    "dogs_cleaned_df = dogs_cleaned_df[dogs_cleaned_df.retweeted_status_id.isnull()].reset_index()"
   ]
  },
  {
   "cell_type": "markdown",
   "metadata": {},
   "source": [
    "**Test**"
   ]
  },
  {
   "cell_type": "code",
   "execution_count": 17,
   "metadata": {},
   "outputs": [
    {
     "name": "stdout",
     "output_type": "stream",
     "text": [
      "Number of retweets in the cleaned dataframe: 0\n",
      "<class 'pandas.core.frame.DataFrame'>\n",
      "RangeIndex: 2175 entries, 0 to 2174\n",
      "Data columns (total 15 columns):\n",
      " #   Column                 Non-Null Count  Dtype  \n",
      "---  ------                 --------------  -----  \n",
      " 0   index                  2175 non-null   int64  \n",
      " 1   tweet_id               2175 non-null   int64  \n",
      " 2   in_reply_to_status_id  78 non-null     float64\n",
      " 3   in_reply_to_user_id    78 non-null     float64\n",
      " 4   timestamp              2175 non-null   object \n",
      " 5   source                 2175 non-null   object \n",
      " 6   text                   2175 non-null   object \n",
      " 7   expanded_urls          2117 non-null   object \n",
      " 8   rating_numerator       2175 non-null   int64  \n",
      " 9   rating_denominator     2175 non-null   int64  \n",
      " 10  name                   2175 non-null   object \n",
      " 11  doggo                  2175 non-null   object \n",
      " 12  floofer                2175 non-null   object \n",
      " 13  pupper                 2175 non-null   object \n",
      " 14  puppo                  2175 non-null   object \n",
      "dtypes: float64(2), int64(4), object(9)\n",
      "memory usage: 255.0+ KB\n"
     ]
    }
   ],
   "source": [
    "print(\"Number of retweets in the cleaned dataframe: {}\".format(dogs_cleaned_df.retweeted_status_id.notnull().sum()))\n",
    "dogs_cleaned_df.drop(['retweeted_status_id','retweeted_status_user_id','retweeted_status_timestamp'], axis = 1, inplace=True)\n",
    "dogs_cleaned_df.info()"
   ]
  },
  {
   "cell_type": "markdown",
   "metadata": {},
   "source": [
    "**Define** <br>\n",
    "The `timestamp` column should be of datatype `datetime`"
   ]
  },
  {
   "cell_type": "markdown",
   "metadata": {},
   "source": [
    "**Code**"
   ]
  },
  {
   "cell_type": "code",
   "execution_count": 18,
   "metadata": {},
   "outputs": [],
   "source": [
    "dogs_cleaned_df['timestamp'] = pd.to_datetime(dogs_cleaned_df['timestamp'])"
   ]
  },
  {
   "cell_type": "markdown",
   "metadata": {},
   "source": [
    "**Test**"
   ]
  },
  {
   "cell_type": "code",
   "execution_count": 19,
   "metadata": {},
   "outputs": [
    {
     "name": "stdout",
     "output_type": "stream",
     "text": [
      "<class 'pandas.core.frame.DataFrame'>\n",
      "RangeIndex: 2175 entries, 0 to 2174\n",
      "Data columns (total 15 columns):\n",
      " #   Column                 Non-Null Count  Dtype              \n",
      "---  ------                 --------------  -----              \n",
      " 0   index                  2175 non-null   int64              \n",
      " 1   tweet_id               2175 non-null   int64              \n",
      " 2   in_reply_to_status_id  78 non-null     float64            \n",
      " 3   in_reply_to_user_id    78 non-null     float64            \n",
      " 4   timestamp              2175 non-null   datetime64[ns, UTC]\n",
      " 5   source                 2175 non-null   object             \n",
      " 6   text                   2175 non-null   object             \n",
      " 7   expanded_urls          2117 non-null   object             \n",
      " 8   rating_numerator       2175 non-null   int64              \n",
      " 9   rating_denominator     2175 non-null   int64              \n",
      " 10  name                   2175 non-null   object             \n",
      " 11  doggo                  2175 non-null   object             \n",
      " 12  floofer                2175 non-null   object             \n",
      " 13  pupper                 2175 non-null   object             \n",
      " 14  puppo                  2175 non-null   object             \n",
      "dtypes: datetime64[ns, UTC](1), float64(2), int64(4), object(8)\n",
      "memory usage: 255.0+ KB\n"
     ]
    }
   ],
   "source": [
    "dogs_cleaned_df.info()"
   ]
  },
  {
   "cell_type": "markdown",
   "metadata": {},
   "source": [
    "**Define** <br>\n",
    "Replace the null occurences with NaN. This will make it easier for us to work with the data in the later stages."
   ]
  },
  {
   "cell_type": "markdown",
   "metadata": {},
   "source": [
    "**Code**"
   ]
  },
  {
   "cell_type": "code",
   "execution_count": 20,
   "metadata": {},
   "outputs": [],
   "source": [
    "dogs_cleaned_df = dogs_cleaned_df.replace('None',np.nan)"
   ]
  },
  {
   "cell_type": "markdown",
   "metadata": {},
   "source": [
    "**Test**"
   ]
  },
  {
   "cell_type": "code",
   "execution_count": 21,
   "metadata": {},
   "outputs": [
    {
     "name": "stdout",
     "output_type": "stream",
     "text": [
      "<class 'pandas.core.frame.DataFrame'>\n",
      "RangeIndex: 2175 entries, 0 to 2174\n",
      "Data columns (total 15 columns):\n",
      " #   Column                 Non-Null Count  Dtype              \n",
      "---  ------                 --------------  -----              \n",
      " 0   index                  2175 non-null   int64              \n",
      " 1   tweet_id               2175 non-null   int64              \n",
      " 2   in_reply_to_status_id  78 non-null     float64            \n",
      " 3   in_reply_to_user_id    78 non-null     float64            \n",
      " 4   timestamp              2175 non-null   datetime64[ns, UTC]\n",
      " 5   source                 2175 non-null   object             \n",
      " 6   text                   2175 non-null   object             \n",
      " 7   expanded_urls          2117 non-null   object             \n",
      " 8   rating_numerator       2175 non-null   int64              \n",
      " 9   rating_denominator     2175 non-null   int64              \n",
      " 10  name                   1495 non-null   object             \n",
      " 11  doggo                  87 non-null     object             \n",
      " 12  floofer                10 non-null     object             \n",
      " 13  pupper                 234 non-null    object             \n",
      " 14  puppo                  25 non-null     object             \n",
      "dtypes: datetime64[ns, UTC](1), float64(2), int64(4), object(8)\n",
      "memory usage: 255.0+ KB\n"
     ]
    }
   ],
   "source": [
    "dogs_cleaned_df.info()"
   ]
  },
  {
   "cell_type": "markdown",
   "metadata": {},
   "source": [
    "**Define** <br>\n",
    "The ratings numerator and denominator needs to be corrected. This can be achieved by extracting the correct values from the cleaned dataframe. We will follow a similar process as one used in identifying that the rating values were incorrect. From the earlier analysis, we had concluded that there were 6 mismatches. However, it can be possible that this time around we may not have as many ratings mismatches in the cleaned dataframe as some rows have been dropped."
   ]
  },
  {
   "cell_type": "markdown",
   "metadata": {},
   "source": [
    "**Code**"
   ]
  },
  {
   "cell_type": "code",
   "execution_count": 22,
   "metadata": {},
   "outputs": [
    {
     "name": "stdout",
     "output_type": "stream",
     "text": [
      "Number of rating mismatches: 5\n",
      "Number of metric mismatches: 0\n"
     ]
    }
   ],
   "source": [
    "temp = dogs_cleaned_df.text.str.extract(r'(((\\d+\\.\\d+)|\\d+)/((\\d+\\.\\d+)|\\d+))')[0].astype('str').str.split('/')\n",
    "temp = pd.DataFrame(temp.to_list(), columns=['rating_numerator', 'rating_denominator'])\n",
    "temp['rating_numerator'] = temp['rating_numerator'].astype('float')\n",
    "temp['rating_denominator'] = temp['rating_denominator'].astype('float')\n",
    "print(\"Number of rating mismatches: {}\".format((dogs_cleaned_df.rating_numerator != temp.rating_numerator).sum()))\n",
    "print(\"Number of metric mismatches: {}\".format(dogs_cleaned_df[dogs_cleaned_df['rating_denominator'] != temp['rating_denominator']].tweet_id.count()))"
   ]
  },
  {
   "cell_type": "markdown",
   "metadata": {},
   "source": [
    "As can be seen, number of mismatched ratings have reduced in the cleaned dataframe as one column that was overlapping in retweets and incorrect ratings is dropped. We can simply set the `rating_numerator` column in `dogs_cleaned_df` equal to `rating_numerator` column in `temp`"
   ]
  },
  {
   "cell_type": "code",
   "execution_count": 23,
   "metadata": {},
   "outputs": [],
   "source": [
    "dogs_cleaned_df['rating_numerator'] = temp['rating_numerator']"
   ]
  },
  {
   "cell_type": "markdown",
   "metadata": {},
   "source": [
    "**Test**"
   ]
  },
  {
   "cell_type": "code",
   "execution_count": 24,
   "metadata": {},
   "outputs": [
    {
     "name": "stdout",
     "output_type": "stream",
     "text": [
      "<class 'pandas.core.frame.DataFrame'>\n",
      "RangeIndex: 2175 entries, 0 to 2174\n",
      "Data columns (total 15 columns):\n",
      " #   Column                 Non-Null Count  Dtype              \n",
      "---  ------                 --------------  -----              \n",
      " 0   index                  2175 non-null   int64              \n",
      " 1   tweet_id               2175 non-null   int64              \n",
      " 2   in_reply_to_status_id  78 non-null     float64            \n",
      " 3   in_reply_to_user_id    78 non-null     float64            \n",
      " 4   timestamp              2175 non-null   datetime64[ns, UTC]\n",
      " 5   source                 2175 non-null   object             \n",
      " 6   text                   2175 non-null   object             \n",
      " 7   expanded_urls          2117 non-null   object             \n",
      " 8   rating_numerator       2175 non-null   float64            \n",
      " 9   rating_denominator     2175 non-null   int64              \n",
      " 10  name                   1495 non-null   object             \n",
      " 11  doggo                  87 non-null     object             \n",
      " 12  floofer                10 non-null     object             \n",
      " 13  pupper                 234 non-null    object             \n",
      " 14  puppo                  25 non-null     object             \n",
      "dtypes: datetime64[ns, UTC](1), float64(3), int64(3), object(8)\n",
      "memory usage: 255.0+ KB\n"
     ]
    }
   ],
   "source": [
    "dogs_cleaned_df.info()"
   ]
  },
  {
   "cell_type": "markdown",
   "metadata": {},
   "source": [
    "**Define** <br>\n",
    "Missing values for dog stages. This can be resolved by using the same regex expression as the one used in cleaning. However, we expect to observe some differences due to some rows being dropped in the earlier stages of the cleaning process"
   ]
  },
  {
   "cell_type": "markdown",
   "metadata": {},
   "source": [
    "**Code**"
   ]
  },
  {
   "cell_type": "code",
   "execution_count": 25,
   "metadata": {},
   "outputs": [
    {
     "name": "stdout",
     "output_type": "stream",
     "text": [
      "Number of doggo misses: 8\n",
      "Number of floofer misses: 0\n",
      "Number of pupper misses: 26\n",
      "Number of puppo misses: 8\n"
     ]
    }
   ],
   "source": [
    "category_df = pd.DataFrame()\n",
    "categories = ['doggo','floofer','pupper','puppo']\n",
    "for category in categories:\n",
    "    category_df[category] = dogs_cleaned_df.text.str.lower().str.extract(r'({})'.format(category))[0]\n",
    "# identify those columns where category is missed or does not match\n",
    "print(\"Number of doggo misses: {}\".format(dogs_cleaned_df[(dogs_cleaned_df.doggo.fillna('') != category_df.doggo.fillna(''))].tweet_id.count()))\n",
    "print(\"Number of floofer misses: {}\".format(dogs_cleaned_df[(dogs_cleaned_df.floofer.fillna('') != category_df.floofer.fillna(''))].tweet_id.count()))\n",
    "print(\"Number of pupper misses: {}\".format(dogs_cleaned_df[(dogs_cleaned_df.pupper.fillna('') != category_df.pupper.fillna(''))].tweet_id.count()))\n",
    "print(\"Number of puppo misses: {}\".format(dogs_cleaned_df[(dogs_cleaned_df.puppo.fillna('') != category_df.puppo.fillna(''))].tweet_id.count()))"
   ]
  },
  {
   "cell_type": "markdown",
   "metadata": {},
   "source": [
    "It can be seen that the number of misses in `doggo` has reduced resulting from dropping rows during the earlier stages of cleaning to mitigate retweets from skewing our analysis. To correct for this we can simply update the `doggo`,`floofer` (although no misses but for the sake of completeness we can carry this one over), `pupper` and `puppo`"
   ]
  },
  {
   "cell_type": "code",
   "execution_count": 26,
   "metadata": {},
   "outputs": [],
   "source": [
    "for category in categories:\n",
    "    dogs_cleaned_df[category] = category_df[category]"
   ]
  },
  {
   "cell_type": "markdown",
   "metadata": {},
   "source": [
    "**Test**"
   ]
  },
  {
   "cell_type": "code",
   "execution_count": 27,
   "metadata": {},
   "outputs": [
    {
     "name": "stdout",
     "output_type": "stream",
     "text": [
      "Number of doggo misses: 0\n",
      "Number of floofer misses: 0\n",
      "Number of pupper misses: 0\n",
      "Number of puppo misses: 0\n"
     ]
    }
   ],
   "source": [
    "print(\"Number of doggo misses: {}\".format(dogs_cleaned_df[(dogs_cleaned_df.doggo.fillna('') != category_df.doggo.fillna(''))].tweet_id.count()))\n",
    "print(\"Number of floofer misses: {}\".format(dogs_cleaned_df[(dogs_cleaned_df.floofer.fillna('') != category_df.floofer.fillna(''))].tweet_id.count()))\n",
    "print(\"Number of pupper misses: {}\".format(dogs_cleaned_df[(dogs_cleaned_df.pupper.fillna('') != category_df.pupper.fillna(''))].tweet_id.count()))\n",
    "print(\"Number of puppo misses: {}\".format(dogs_cleaned_df[(dogs_cleaned_df.puppo.fillna('') != category_df.puppo.fillna(''))].tweet_id.count()))"
   ]
  },
  {
   "cell_type": "markdown",
   "metadata": {},
   "source": [
    "**Define** <br>\n",
    "The names of some dogs have been incorrectly identified. We can set these names to NaN (we could have tried some NLP library for NER but since currently I don't have the requisite knowledge, we will try this in a future iteration)"
   ]
  },
  {
   "cell_type": "markdown",
   "metadata": {},
   "source": [
    "**Code**"
   ]
  },
  {
   "cell_type": "code",
   "execution_count": 28,
   "metadata": {},
   "outputs": [
    {
     "name": "stdout",
     "output_type": "stream",
     "text": [
      "Incorrectly identified names: ['such', 'a', 'quite', 'not', 'one', 'incredibly', 'very', 'my', 'his', 'an', 'actually', 'just', 'getting', 'mad', 'this', 'unacceptable', 'all', 'old', 'infuriating', 'the', 'by', 'officially', 'life', 'light', 'space']\n"
     ]
    }
   ],
   "source": [
    "inc_names = list(dogs_cleaned_df[dogs_cleaned_df.name.str[0].str.isupper() == False].name.unique())\n",
    "print(\"Incorrectly identified names: {}\".format(inc_names))"
   ]
  },
  {
   "cell_type": "code",
   "execution_count": 29,
   "metadata": {},
   "outputs": [],
   "source": [
    "mask = dogs_cleaned_df['name'].isin(inc_names)\n",
    "dogs_cleaned_df.loc[mask,'name'] = np.nan"
   ]
  },
  {
   "cell_type": "markdown",
   "metadata": {},
   "source": [
    "**Test**"
   ]
  },
  {
   "cell_type": "code",
   "execution_count": 30,
   "metadata": {},
   "outputs": [
    {
     "name": "stdout",
     "output_type": "stream",
     "text": [
      "Incorrectly identified names: []\n"
     ]
    }
   ],
   "source": [
    "print(\"Incorrectly identified names: {}\".format(list(dogs_cleaned_df[dogs_cleaned_df.name.str[0].str.isupper() == False].name.unique())))"
   ]
  },
  {
   "cell_type": "markdown",
   "metadata": {},
   "source": [
    "Thus we have removed incorrect names from the cleaned dataframe."
   ]
  },
  {
   "cell_type": "markdown",
   "metadata": {},
   "source": [
    "### 3.2) Tidiness\n",
    "<a id='tidyclean'></a>\n",
    "Tidiness issues have been resolved in this section."
   ]
  },
  {
   "cell_type": "markdown",
   "metadata": {},
   "source": [
    "**Define** <br>\n",
    "`doggo`,`floofer`,`pupper` and `puppo` should be under a single column category. One thing to note here that a single dog may be identified to belong to several categories. We will create another column `category` to capture this information and drop the other columns. This might not be the most elegant solution (Duh! It runs in O($n^2$)) but it works (the .melt function was driving me nuts). Note that here we're putting back 'Unidentified' in place of NaN. This is so as to maintain some consistency in datatype of the column"
   ]
  },
  {
   "cell_type": "markdown",
   "metadata": {},
   "source": [
    "**Code**"
   ]
  },
  {
   "cell_type": "code",
   "execution_count": 31,
   "metadata": {},
   "outputs": [],
   "source": [
    "category_list = []\n",
    "for i in range(dogs_cleaned_df.shape[0]):\n",
    "    temp_list = dogs_cleaned_df.iloc[i,-4:]\n",
    "    cat_row = []\n",
    "    for j in temp_list:\n",
    "        if pd.isna(j) == False:\n",
    "            cat_row.append(j)\n",
    "    if len(cat_row)==0:\n",
    "        category_list.append(['Unidentified'])\n",
    "    else:\n",
    "        category_list.append(cat_row)"
   ]
  },
  {
   "cell_type": "code",
   "execution_count": 32,
   "metadata": {},
   "outputs": [],
   "source": [
    "dogs_cleaned_df['category'] = category_list\n",
    "dogs_cleaned_tidied = dogs_cleaned_df.drop(categories, axis = 1)"
   ]
  },
  {
   "cell_type": "markdown",
   "metadata": {},
   "source": [
    "**Test**"
   ]
  },
  {
   "cell_type": "code",
   "execution_count": 33,
   "metadata": {},
   "outputs": [
    {
     "name": "stdout",
     "output_type": "stream",
     "text": [
      "[[Unidentified],[pupper],[doggo],[puppo],[doggo,puppo],[floofer],[doggo, puppo],[doggo,floofer]]:\n",
      "[1790, 250, 82, 31, 10, 9, 2, 1]\n"
     ]
    }
   ],
   "source": [
    "print(\"[[Unidentified],[pupper],[doggo],[puppo],[doggo,puppo],[floofer],[doggo, puppo],[doggo,floofer]]:\\n{}\".format(list(dogs_cleaned_tidied.category.value_counts())))"
   ]
  },
  {
   "cell_type": "markdown",
   "metadata": {},
   "source": [
    "**Define** <br>\n",
    "`text` column in `dogs_df` has information pertinent to other features too and needs to be cleaned as per rule - every variable should be in a new column. Since there's two parts - one the rating and two the link, both of which will not appear as discrete words (ie not have spaces) and both contain numbers, we can simply filter for the segments that do not contain numeric characters. This may however lead to some loss of context and incomplete sentences since a lot of places ratings are included as parts of a sentence.\n",
    "This might however be unavoidable."
   ]
  },
  {
   "cell_type": "markdown",
   "metadata": {},
   "source": [
    "**Code**"
   ]
  },
  {
   "cell_type": "code",
   "execution_count": 34,
   "metadata": {},
   "outputs": [],
   "source": [
    "dogs_cleaned_tidied.text = dogs_cleaned_tidied.text.str.extract(r'(\\D+)')"
   ]
  },
  {
   "cell_type": "markdown",
   "metadata": {},
   "source": [
    "**Test**"
   ]
  },
  {
   "cell_type": "code",
   "execution_count": 35,
   "metadata": {},
   "outputs": [
    {
     "data": {
      "text/html": [
       "<div>\n",
       "<style scoped>\n",
       "    .dataframe tbody tr th:only-of-type {\n",
       "        vertical-align: middle;\n",
       "    }\n",
       "\n",
       "    .dataframe tbody tr th {\n",
       "        vertical-align: top;\n",
       "    }\n",
       "\n",
       "    .dataframe thead th {\n",
       "        text-align: right;\n",
       "    }\n",
       "</style>\n",
       "<table border=\"1\" class=\"dataframe\">\n",
       "  <thead>\n",
       "    <tr style=\"text-align: right;\">\n",
       "      <th></th>\n",
       "      <th>index</th>\n",
       "      <th>tweet_id</th>\n",
       "      <th>in_reply_to_status_id</th>\n",
       "      <th>in_reply_to_user_id</th>\n",
       "      <th>timestamp</th>\n",
       "      <th>source</th>\n",
       "      <th>text</th>\n",
       "      <th>expanded_urls</th>\n",
       "      <th>rating_numerator</th>\n",
       "      <th>rating_denominator</th>\n",
       "      <th>name</th>\n",
       "      <th>category</th>\n",
       "    </tr>\n",
       "  </thead>\n",
       "  <tbody>\n",
       "    <tr>\n",
       "      <th>0</th>\n",
       "      <td>0</td>\n",
       "      <td>892420643555336193</td>\n",
       "      <td>NaN</td>\n",
       "      <td>NaN</td>\n",
       "      <td>2017-08-01 16:23:56+00:00</td>\n",
       "      <td>&lt;a href=\"http://twitter.com/download/iphone\" rel=\"nofollow\"&gt;Twitter for iPhone&lt;/a&gt;</td>\n",
       "      <td>This is Phineas. He's a mystical boy. Only ever appears in the hole of a donut.</td>\n",
       "      <td>https://twitter.com/dog_rates/status/892420643555336193/photo/1</td>\n",
       "      <td>13.0</td>\n",
       "      <td>10</td>\n",
       "      <td>Phineas</td>\n",
       "      <td>[Unidentified]</td>\n",
       "    </tr>\n",
       "    <tr>\n",
       "      <th>1</th>\n",
       "      <td>1</td>\n",
       "      <td>892177421306343426</td>\n",
       "      <td>NaN</td>\n",
       "      <td>NaN</td>\n",
       "      <td>2017-08-01 00:17:27+00:00</td>\n",
       "      <td>&lt;a href=\"http://twitter.com/download/iphone\" rel=\"nofollow\"&gt;Twitter for iPhone&lt;/a&gt;</td>\n",
       "      <td>This is Tilly. She's just checking pup on you. Hopes you're doing ok. If not, she's available for pats, snugs, boops, the whole bit.</td>\n",
       "      <td>https://twitter.com/dog_rates/status/892177421306343426/photo/1</td>\n",
       "      <td>13.0</td>\n",
       "      <td>10</td>\n",
       "      <td>Tilly</td>\n",
       "      <td>[Unidentified]</td>\n",
       "    </tr>\n",
       "    <tr>\n",
       "      <th>2</th>\n",
       "      <td>2</td>\n",
       "      <td>891815181378084864</td>\n",
       "      <td>NaN</td>\n",
       "      <td>NaN</td>\n",
       "      <td>2017-07-31 00:18:03+00:00</td>\n",
       "      <td>&lt;a href=\"http://twitter.com/download/iphone\" rel=\"nofollow\"&gt;Twitter for iPhone&lt;/a&gt;</td>\n",
       "      <td>This is Archie. He is a rare Norwegian Pouncing Corgo. Lives in the tall grass. You never know when one may strike.</td>\n",
       "      <td>https://twitter.com/dog_rates/status/891815181378084864/photo/1</td>\n",
       "      <td>12.0</td>\n",
       "      <td>10</td>\n",
       "      <td>Archie</td>\n",
       "      <td>[Unidentified]</td>\n",
       "    </tr>\n",
       "    <tr>\n",
       "      <th>3</th>\n",
       "      <td>3</td>\n",
       "      <td>891689557279858688</td>\n",
       "      <td>NaN</td>\n",
       "      <td>NaN</td>\n",
       "      <td>2017-07-30 15:58:51+00:00</td>\n",
       "      <td>&lt;a href=\"http://twitter.com/download/iphone\" rel=\"nofollow\"&gt;Twitter for iPhone&lt;/a&gt;</td>\n",
       "      <td>This is Darla. She commenced a snooze mid meal.</td>\n",
       "      <td>https://twitter.com/dog_rates/status/891689557279858688/photo/1</td>\n",
       "      <td>13.0</td>\n",
       "      <td>10</td>\n",
       "      <td>Darla</td>\n",
       "      <td>[Unidentified]</td>\n",
       "    </tr>\n",
       "    <tr>\n",
       "      <th>4</th>\n",
       "      <td>4</td>\n",
       "      <td>891327558926688256</td>\n",
       "      <td>NaN</td>\n",
       "      <td>NaN</td>\n",
       "      <td>2017-07-29 16:00:24+00:00</td>\n",
       "      <td>&lt;a href=\"http://twitter.com/download/iphone\" rel=\"nofollow\"&gt;Twitter for iPhone&lt;/a&gt;</td>\n",
       "      <td>This is Franklin. He would like you to stop calling him \"cute.\" He is a very fierce shark and should be respected as such.</td>\n",
       "      <td>https://twitter.com/dog_rates/status/891327558926688256/photo/1,https://twitter.com/dog_rates/status/891327558926688256/photo/1</td>\n",
       "      <td>12.0</td>\n",
       "      <td>10</td>\n",
       "      <td>Franklin</td>\n",
       "      <td>[Unidentified]</td>\n",
       "    </tr>\n",
       "    <tr>\n",
       "      <th>...</th>\n",
       "      <td>...</td>\n",
       "      <td>...</td>\n",
       "      <td>...</td>\n",
       "      <td>...</td>\n",
       "      <td>...</td>\n",
       "      <td>...</td>\n",
       "      <td>...</td>\n",
       "      <td>...</td>\n",
       "      <td>...</td>\n",
       "      <td>...</td>\n",
       "      <td>...</td>\n",
       "      <td>...</td>\n",
       "    </tr>\n",
       "    <tr>\n",
       "      <th>2170</th>\n",
       "      <td>2351</td>\n",
       "      <td>666049248165822465</td>\n",
       "      <td>NaN</td>\n",
       "      <td>NaN</td>\n",
       "      <td>2015-11-16 00:24:50+00:00</td>\n",
       "      <td>&lt;a href=\"http://twitter.com/download/iphone\" rel=\"nofollow\"&gt;Twitter for iPhone&lt;/a&gt;</td>\n",
       "      <td>Here we have a</td>\n",
       "      <td>https://twitter.com/dog_rates/status/666049248165822465/photo/1</td>\n",
       "      <td>5.0</td>\n",
       "      <td>10</td>\n",
       "      <td>NaN</td>\n",
       "      <td>[Unidentified]</td>\n",
       "    </tr>\n",
       "    <tr>\n",
       "      <th>2171</th>\n",
       "      <td>2352</td>\n",
       "      <td>666044226329800704</td>\n",
       "      <td>NaN</td>\n",
       "      <td>NaN</td>\n",
       "      <td>2015-11-16 00:04:52+00:00</td>\n",
       "      <td>&lt;a href=\"http://twitter.com/download/iphone\" rel=\"nofollow\"&gt;Twitter for iPhone&lt;/a&gt;</td>\n",
       "      <td>This is a purebred Piers Morgan. Loves to Netflix and chill. Always looks like he forgot to unplug the iron.</td>\n",
       "      <td>https://twitter.com/dog_rates/status/666044226329800704/photo/1</td>\n",
       "      <td>6.0</td>\n",
       "      <td>10</td>\n",
       "      <td>NaN</td>\n",
       "      <td>[Unidentified]</td>\n",
       "    </tr>\n",
       "    <tr>\n",
       "      <th>2172</th>\n",
       "      <td>2353</td>\n",
       "      <td>666033412701032449</td>\n",
       "      <td>NaN</td>\n",
       "      <td>NaN</td>\n",
       "      <td>2015-11-15 23:21:54+00:00</td>\n",
       "      <td>&lt;a href=\"http://twitter.com/download/iphone\" rel=\"nofollow\"&gt;Twitter for iPhone&lt;/a&gt;</td>\n",
       "      <td>Here is a very happy pup. Big fan of well-maintained decks. Just look at that tongue.</td>\n",
       "      <td>https://twitter.com/dog_rates/status/666033412701032449/photo/1</td>\n",
       "      <td>9.0</td>\n",
       "      <td>10</td>\n",
       "      <td>NaN</td>\n",
       "      <td>[Unidentified]</td>\n",
       "    </tr>\n",
       "    <tr>\n",
       "      <th>2173</th>\n",
       "      <td>2354</td>\n",
       "      <td>666029285002620928</td>\n",
       "      <td>NaN</td>\n",
       "      <td>NaN</td>\n",
       "      <td>2015-11-15 23:05:30+00:00</td>\n",
       "      <td>&lt;a href=\"http://twitter.com/download/iphone\" rel=\"nofollow\"&gt;Twitter for iPhone&lt;/a&gt;</td>\n",
       "      <td>This is a western brown Mitsubishi terrier. Upset about leaf. Actually</td>\n",
       "      <td>https://twitter.com/dog_rates/status/666029285002620928/photo/1</td>\n",
       "      <td>7.0</td>\n",
       "      <td>10</td>\n",
       "      <td>NaN</td>\n",
       "      <td>[Unidentified]</td>\n",
       "    </tr>\n",
       "    <tr>\n",
       "      <th>2174</th>\n",
       "      <td>2355</td>\n",
       "      <td>666020888022790149</td>\n",
       "      <td>NaN</td>\n",
       "      <td>NaN</td>\n",
       "      <td>2015-11-15 22:32:08+00:00</td>\n",
       "      <td>&lt;a href=\"http://twitter.com/download/iphone\" rel=\"nofollow\"&gt;Twitter for iPhone&lt;/a&gt;</td>\n",
       "      <td>Here we have a Japanese Irish Setter. Lost eye in Vietnam (?). Big fan of relaxing on stair.</td>\n",
       "      <td>https://twitter.com/dog_rates/status/666020888022790149/photo/1</td>\n",
       "      <td>8.0</td>\n",
       "      <td>10</td>\n",
       "      <td>NaN</td>\n",
       "      <td>[Unidentified]</td>\n",
       "    </tr>\n",
       "  </tbody>\n",
       "</table>\n",
       "<p>2175 rows × 12 columns</p>\n",
       "</div>"
      ],
      "text/plain": [
       "      index            tweet_id  in_reply_to_status_id  in_reply_to_user_id  \\\n",
       "0         0  892420643555336193                    NaN                  NaN   \n",
       "1         1  892177421306343426                    NaN                  NaN   \n",
       "2         2  891815181378084864                    NaN                  NaN   \n",
       "3         3  891689557279858688                    NaN                  NaN   \n",
       "4         4  891327558926688256                    NaN                  NaN   \n",
       "...     ...                 ...                    ...                  ...   \n",
       "2170   2351  666049248165822465                    NaN                  NaN   \n",
       "2171   2352  666044226329800704                    NaN                  NaN   \n",
       "2172   2353  666033412701032449                    NaN                  NaN   \n",
       "2173   2354  666029285002620928                    NaN                  NaN   \n",
       "2174   2355  666020888022790149                    NaN                  NaN   \n",
       "\n",
       "                     timestamp  \\\n",
       "0    2017-08-01 16:23:56+00:00   \n",
       "1    2017-08-01 00:17:27+00:00   \n",
       "2    2017-07-31 00:18:03+00:00   \n",
       "3    2017-07-30 15:58:51+00:00   \n",
       "4    2017-07-29 16:00:24+00:00   \n",
       "...                        ...   \n",
       "2170 2015-11-16 00:24:50+00:00   \n",
       "2171 2015-11-16 00:04:52+00:00   \n",
       "2172 2015-11-15 23:21:54+00:00   \n",
       "2173 2015-11-15 23:05:30+00:00   \n",
       "2174 2015-11-15 22:32:08+00:00   \n",
       "\n",
       "                                                                                  source  \\\n",
       "0     <a href=\"http://twitter.com/download/iphone\" rel=\"nofollow\">Twitter for iPhone</a>   \n",
       "1     <a href=\"http://twitter.com/download/iphone\" rel=\"nofollow\">Twitter for iPhone</a>   \n",
       "2     <a href=\"http://twitter.com/download/iphone\" rel=\"nofollow\">Twitter for iPhone</a>   \n",
       "3     <a href=\"http://twitter.com/download/iphone\" rel=\"nofollow\">Twitter for iPhone</a>   \n",
       "4     <a href=\"http://twitter.com/download/iphone\" rel=\"nofollow\">Twitter for iPhone</a>   \n",
       "...                                                                                  ...   \n",
       "2170  <a href=\"http://twitter.com/download/iphone\" rel=\"nofollow\">Twitter for iPhone</a>   \n",
       "2171  <a href=\"http://twitter.com/download/iphone\" rel=\"nofollow\">Twitter for iPhone</a>   \n",
       "2172  <a href=\"http://twitter.com/download/iphone\" rel=\"nofollow\">Twitter for iPhone</a>   \n",
       "2173  <a href=\"http://twitter.com/download/iphone\" rel=\"nofollow\">Twitter for iPhone</a>   \n",
       "2174  <a href=\"http://twitter.com/download/iphone\" rel=\"nofollow\">Twitter for iPhone</a>   \n",
       "\n",
       "                                                                                                                                       text  \\\n",
       "0                                                          This is Phineas. He's a mystical boy. Only ever appears in the hole of a donut.    \n",
       "1     This is Tilly. She's just checking pup on you. Hopes you're doing ok. If not, she's available for pats, snugs, boops, the whole bit.    \n",
       "2                      This is Archie. He is a rare Norwegian Pouncing Corgo. Lives in the tall grass. You never know when one may strike.    \n",
       "3                                                                                          This is Darla. She commenced a snooze mid meal.    \n",
       "4               This is Franklin. He would like you to stop calling him \"cute.\" He is a very fierce shark and should be respected as such.    \n",
       "...                                                                                                                                     ...   \n",
       "2170                                                                                                                        Here we have a    \n",
       "2171                          This is a purebred Piers Morgan. Loves to Netflix and chill. Always looks like he forgot to unplug the iron.    \n",
       "2172                                                 Here is a very happy pup. Big fan of well-maintained decks. Just look at that tongue.    \n",
       "2173                                                                This is a western brown Mitsubishi terrier. Upset about leaf. Actually    \n",
       "2174                                          Here we have a Japanese Irish Setter. Lost eye in Vietnam (?). Big fan of relaxing on stair.    \n",
       "\n",
       "                                                                                                                        expanded_urls  \\\n",
       "0                                                                     https://twitter.com/dog_rates/status/892420643555336193/photo/1   \n",
       "1                                                                     https://twitter.com/dog_rates/status/892177421306343426/photo/1   \n",
       "2                                                                     https://twitter.com/dog_rates/status/891815181378084864/photo/1   \n",
       "3                                                                     https://twitter.com/dog_rates/status/891689557279858688/photo/1   \n",
       "4     https://twitter.com/dog_rates/status/891327558926688256/photo/1,https://twitter.com/dog_rates/status/891327558926688256/photo/1   \n",
       "...                                                                                                                               ...   \n",
       "2170                                                                  https://twitter.com/dog_rates/status/666049248165822465/photo/1   \n",
       "2171                                                                  https://twitter.com/dog_rates/status/666044226329800704/photo/1   \n",
       "2172                                                                  https://twitter.com/dog_rates/status/666033412701032449/photo/1   \n",
       "2173                                                                  https://twitter.com/dog_rates/status/666029285002620928/photo/1   \n",
       "2174                                                                  https://twitter.com/dog_rates/status/666020888022790149/photo/1   \n",
       "\n",
       "      rating_numerator  rating_denominator      name        category  \n",
       "0                 13.0                  10   Phineas  [Unidentified]  \n",
       "1                 13.0                  10     Tilly  [Unidentified]  \n",
       "2                 12.0                  10    Archie  [Unidentified]  \n",
       "3                 13.0                  10     Darla  [Unidentified]  \n",
       "4                 12.0                  10  Franklin  [Unidentified]  \n",
       "...                ...                 ...       ...             ...  \n",
       "2170               5.0                  10       NaN  [Unidentified]  \n",
       "2171               6.0                  10       NaN  [Unidentified]  \n",
       "2172               9.0                  10       NaN  [Unidentified]  \n",
       "2173               7.0                  10       NaN  [Unidentified]  \n",
       "2174               8.0                  10       NaN  [Unidentified]  \n",
       "\n",
       "[2175 rows x 12 columns]"
      ]
     },
     "execution_count": 35,
     "metadata": {},
     "output_type": "execute_result"
    }
   ],
   "source": [
    "dogs_cleaned_tidied"
   ]
  },
  {
   "cell_type": "markdown",
   "metadata": {},
   "source": [
    "**Define** <br>\n",
    "`twitter_data` does not need to be a separate table since it contains information and metadata of the tweets which is precisely what `dogs_df` seeks to capture. We'll be using the merge function to join the columns we are interested in - `favorite_count` and `retweet_count`. We will also merge `image_predictions` table with the resultant quantity."
   ]
  },
  {
   "cell_type": "markdown",
   "metadata": {},
   "source": [
    "**Code**"
   ]
  },
  {
   "cell_type": "code",
   "execution_count": 36,
   "metadata": {},
   "outputs": [],
   "source": [
    "metadata_twitter_data = twitter_data[['tweet_id','retweet_count','favorite_count']].copy()\n",
    "dogs_cleaned_tidied = dogs_cleaned_tidied.merge(metadata_twitter_data, how = \"inner\",on = \"tweet_id\")\n",
    "dogs_cleaned_tidied = dogs_cleaned_tidied.merge(image_predictions, how = 'inner', on = 'tweet_id')"
   ]
  },
  {
   "cell_type": "markdown",
   "metadata": {},
   "source": [
    "**Test**"
   ]
  },
  {
   "cell_type": "code",
   "execution_count": 37,
   "metadata": {},
   "outputs": [
    {
     "name": "stdout",
     "output_type": "stream",
     "text": [
      "<class 'pandas.core.frame.DataFrame'>\n",
      "Int64Index: 1987 entries, 0 to 1986\n",
      "Data columns (total 25 columns):\n",
      " #   Column                 Non-Null Count  Dtype              \n",
      "---  ------                 --------------  -----              \n",
      " 0   index                  1987 non-null   int64              \n",
      " 1   tweet_id               1987 non-null   int64              \n",
      " 2   in_reply_to_status_id  23 non-null     float64            \n",
      " 3   in_reply_to_user_id    23 non-null     float64            \n",
      " 4   timestamp              1987 non-null   datetime64[ns, UTC]\n",
      " 5   source                 1987 non-null   object             \n",
      " 6   text                   1987 non-null   object             \n",
      " 7   expanded_urls          1987 non-null   object             \n",
      " 8   rating_numerator       1987 non-null   float64            \n",
      " 9   rating_denominator     1987 non-null   int64              \n",
      " 10  name                   1343 non-null   object             \n",
      " 11  category               1987 non-null   object             \n",
      " 12  retweet_count          1987 non-null   int64              \n",
      " 13  favorite_count         1987 non-null   int64              \n",
      " 14  jpg_url                1987 non-null   object             \n",
      " 15  img_num                1987 non-null   int64              \n",
      " 16  p1                     1987 non-null   object             \n",
      " 17  p1_conf                1987 non-null   float64            \n",
      " 18  p1_dog                 1987 non-null   bool               \n",
      " 19  p2                     1987 non-null   object             \n",
      " 20  p2_conf                1987 non-null   float64            \n",
      " 21  p2_dog                 1987 non-null   bool               \n",
      " 22  p3                     1987 non-null   object             \n",
      " 23  p3_conf                1987 non-null   float64            \n",
      " 24  p3_dog                 1987 non-null   bool               \n",
      "dtypes: bool(3), datetime64[ns, UTC](1), float64(6), int64(6), object(9)\n",
      "memory usage: 362.9+ KB\n"
     ]
    }
   ],
   "source": [
    "dogs_cleaned_tidied.info()"
   ]
  },
  {
   "cell_type": "markdown",
   "metadata": {},
   "source": [
    "Here we observe that the number of tweets has dropped by a lot (almost halved from what we started with!!!). However, this is very much needed since this is the only way we can evaluate metrics for our analysis. Ideally at this stage we would go back to gathering more data for our analysis but the limitation we have - dog breed predictions are available only for tweet id's present in the given dataset prevents me from doing so. "
   ]
  },
  {
   "cell_type": "markdown",
   "metadata": {},
   "source": [
    "Finally we store the cleaned and tidied dataframe into `twitter_archive_master.csv`"
   ]
  },
  {
   "cell_type": "code",
   "execution_count": 38,
   "metadata": {},
   "outputs": [],
   "source": [
    "dogs_cleaned_tidied.to_csv('twitter_archive_master.csv', index = False)"
   ]
  },
  {
   "cell_type": "markdown",
   "metadata": {},
   "source": [
    "### 4. Analysis:-\n",
    "<a id = 'analyse'></a>"
   ]
  },
  {
   "cell_type": "markdown",
   "metadata": {},
   "source": [
    "In this section, I will devise a method to predict how many `favorite_count`s a dog of a given breed is likely to get based on the breed, confidence level of predictions and rating. I'll also do a similar analysis for `retweet_count`. Before we get started with building a model, it should be instructive to see how many unique values exist for a particular prediction column. This will give us an insight into whether an effective model can even be constructed in the first place. This will be followed up by the model itself in case I find that building a model is viable. Note that in our analysis, although I plan to take a product of confidence of prediction and the dummy columns that I'll generate for every breed, a better metric than simple multiplication might be the need of the dataset (that I won't correct for but it could be taken up in the future maybe?). Another limitation results from the presence of predictions other than dog breed in the dataset. I certainly can't correct for this so we'll let these other predictions also be present in our model (Hopefully they won't affect the quality of our predictions about ratings!!)"
   ]
  },
  {
   "cell_type": "code",
   "execution_count": 59,
   "metadata": {},
   "outputs": [
    {
     "name": "stdout",
     "output_type": "stream",
     "text": [
      "<class 'pandas.core.frame.DataFrame'>\n",
      "Int64Index: 1987 entries, 0 to 1986\n",
      "Data columns (total 25 columns):\n",
      " #   Column                 Non-Null Count  Dtype              \n",
      "---  ------                 --------------  -----              \n",
      " 0   index                  1987 non-null   int64              \n",
      " 1   tweet_id               1987 non-null   int64              \n",
      " 2   in_reply_to_status_id  23 non-null     float64            \n",
      " 3   in_reply_to_user_id    23 non-null     float64            \n",
      " 4   timestamp              1987 non-null   datetime64[ns, UTC]\n",
      " 5   source                 1987 non-null   object             \n",
      " 6   text                   1987 non-null   object             \n",
      " 7   expanded_urls          1987 non-null   object             \n",
      " 8   rating_numerator       1987 non-null   float64            \n",
      " 9   rating_denominator     1987 non-null   int64              \n",
      " 10  name                   1343 non-null   object             \n",
      " 11  category               1987 non-null   object             \n",
      " 12  retweet_count          1987 non-null   int64              \n",
      " 13  favorite_count         1987 non-null   int64              \n",
      " 14  jpg_url                1987 non-null   object             \n",
      " 15  img_num                1987 non-null   int64              \n",
      " 16  p1                     1987 non-null   object             \n",
      " 17  p1_conf                1987 non-null   float64            \n",
      " 18  p1_dog                 1987 non-null   bool               \n",
      " 19  p2                     1987 non-null   object             \n",
      " 20  p2_conf                1987 non-null   float64            \n",
      " 21  p2_dog                 1987 non-null   bool               \n",
      " 22  p3                     1987 non-null   object             \n",
      " 23  p3_conf                1987 non-null   float64            \n",
      " 24  p3_dog                 1987 non-null   bool               \n",
      "dtypes: bool(3), datetime64[ns, UTC](1), float64(6), int64(6), object(9)\n",
      "memory usage: 362.9+ KB\n"
     ]
    }
   ],
   "source": [
    "pred_df = dogs_cleaned_tidied.copy()\n",
    "pred_df.info()"
   ]
  },
  {
   "cell_type": "code",
   "execution_count": 60,
   "metadata": {},
   "outputs": [
    {
     "name": "stdout",
     "output_type": "stream",
     "text": [
      "Number of unique predictions: 374 \n"
     ]
    }
   ],
   "source": [
    "print(\"Number of unique predictions: {} \".format(len(list(pd.get_dummies(pred_df.p1).columns))))"
   ]
  },
  {
   "cell_type": "markdown",
   "metadata": {},
   "source": [
    "Thus we can say that any kind of model we build on top of these predictions would not be a good one since we don't have significant number of observations for a particular breeds/predictions. We can however, try analysing the top predictions appearing in the dataframe. Through this we can get an estimate of what breeds tend to get submitted to WeRateDogs. We can use this to build a flawed yet functional estimator for the metric we desire to obtain. Note that we will no longer use `p2` and `p3` but presume `p1` to be true. This modification is necessitated by the observation that there are too many unique predictions in `p2` and `p3` for their results to be statiscally significant. This is the billionth time I wish we had more observations and less variability!!  "
   ]
  },
  {
   "cell_type": "code",
   "execution_count": 61,
   "metadata": {},
   "outputs": [
    {
     "name": "stdout",
     "output_type": "stream",
     "text": [
      "Number of unique predictions in p2:121\n",
      "Number of unique predictions in p3:137\n"
     ]
    }
   ],
   "source": [
    "mask = pred_df.p1.value_counts().sort_values(ascending=False).head(10).index\n",
    "top_10_breeds = pred_df.loc[pred_df.p1.isin(mask),:].reset_index()\n",
    "print(\"Number of unique predictions in p2:{}\\nNumber of unique predictions in p3:{}\".format(top_10_breeds.p2.nunique(),top_10_breeds.p3.nunique()))"
   ]
  },
  {
   "cell_type": "code",
   "execution_count": 62,
   "metadata": {},
   "outputs": [
    {
     "name": "stdout",
     "output_type": "stream",
     "text": [
      "<class 'pandas.core.frame.DataFrame'>\n",
      "RangeIndex: 637 entries, 0 to 636\n",
      "Data columns (total 35 columns):\n",
      " #   Column                 Non-Null Count  Dtype              \n",
      "---  ------                 --------------  -----              \n",
      " 0   level_0                637 non-null    int64              \n",
      " 1   tweet_id               637 non-null    int64              \n",
      " 2   in_reply_to_status_id  5 non-null      float64            \n",
      " 3   in_reply_to_user_id    5 non-null      float64            \n",
      " 4   timestamp              637 non-null    datetime64[ns, UTC]\n",
      " 5   source                 637 non-null    object             \n",
      " 6   text                   637 non-null    object             \n",
      " 7   expanded_urls          637 non-null    object             \n",
      " 8   rating_numerator       637 non-null    float64            \n",
      " 9   rating_denominator     637 non-null    int64              \n",
      " 10  name                   444 non-null    object             \n",
      " 11  category               637 non-null    object             \n",
      " 12  retweet_count          637 non-null    int64              \n",
      " 13  favorite_count         637 non-null    int64              \n",
      " 14  jpg_url                637 non-null    object             \n",
      " 15  img_num                637 non-null    int64              \n",
      " 16  p1                     637 non-null    object             \n",
      " 17  p1_conf                637 non-null    float64            \n",
      " 18  p1_dog                 637 non-null    bool               \n",
      " 19  p2                     637 non-null    object             \n",
      " 20  p2_conf                637 non-null    float64            \n",
      " 21  p2_dog                 637 non-null    bool               \n",
      " 22  p3                     637 non-null    object             \n",
      " 23  p3_conf                637 non-null    float64            \n",
      " 24  p3_dog                 637 non-null    bool               \n",
      " 25  Chihuahua              637 non-null    uint8              \n",
      " 26  Labrador_retriever     637 non-null    uint8              \n",
      " 27  Pembroke               637 non-null    uint8              \n",
      " 28  Pomeranian             637 non-null    uint8              \n",
      " 29  Samoyed                637 non-null    uint8              \n",
      " 30  chow                   637 non-null    uint8              \n",
      " 31  golden_retriever       637 non-null    uint8              \n",
      " 32  malamute               637 non-null    uint8              \n",
      " 33  pug                    637 non-null    uint8              \n",
      " 34  toy_poodle             637 non-null    uint8              \n",
      "dtypes: bool(3), datetime64[ns, UTC](1), float64(6), int64(6), object(9), uint8(10)\n",
      "memory usage: 117.7+ KB\n"
     ]
    }
   ],
   "source": [
    "top_10_breeds[list(pd.get_dummies(top_10_breeds.p1).columns)] = pd.get_dummies(top_10_breeds.p1)\n",
    "top_10_breeds.drop('index', axis = 1, inplace =True)\n",
    "top_10_breeds.info()"
   ]
  },
  {
   "cell_type": "markdown",
   "metadata": {},
   "source": [
    "Here I will take `toy_poodle` as the baseline variable. The features planned to be included in our analysis are:\n",
    "1. `absolute_ratings` which is `rating_numerator`/`rating_denominator`\n",
    "2. Dog breeds with toy poodle as the baseline variable\n",
    "3. Categories that the dog is presumed to belong to. This might be slightly tricky to get correctly. I will assume wherever missing, the category to be 'Unidentified'."
   ]
  },
  {
   "cell_type": "markdown",
   "metadata": {},
   "source": [
    "Here we'll transform `category` into a form that makes it better for us to manipulate for analysis. We will split rows with multiple categories into two distinct rows (with same name of dog!!)"
   ]
  },
  {
   "cell_type": "code",
   "execution_count": 63,
   "metadata": {},
   "outputs": [],
   "source": [
    "# top_10_breeds.category\n",
    "top_10_breeds_mod = top_10_breeds.explode('category')"
   ]
  },
  {
   "cell_type": "markdown",
   "metadata": {},
   "source": [
    "There might now be a whole debate about how the model account for ratings for dogs belonging to multiple categories multiple times but I'm not going to correct for this since this respresents a tiny fraction of our dataset"
   ]
  },
  {
   "cell_type": "markdown",
   "metadata": {},
   "source": [
    "I can now create the necessary dummy columns and then proceed to create the model"
   ]
  },
  {
   "cell_type": "code",
   "execution_count": 64,
   "metadata": {},
   "outputs": [
    {
     "data": {
      "text/html": [
       "<div>\n",
       "<style scoped>\n",
       "    .dataframe tbody tr th:only-of-type {\n",
       "        vertical-align: middle;\n",
       "    }\n",
       "\n",
       "    .dataframe tbody tr th {\n",
       "        vertical-align: top;\n",
       "    }\n",
       "\n",
       "    .dataframe thead th {\n",
       "        text-align: right;\n",
       "    }\n",
       "</style>\n",
       "<table border=\"1\" class=\"dataframe\">\n",
       "  <thead>\n",
       "    <tr style=\"text-align: right;\">\n",
       "      <th></th>\n",
       "      <th>level_0</th>\n",
       "      <th>tweet_id</th>\n",
       "      <th>in_reply_to_status_id</th>\n",
       "      <th>in_reply_to_user_id</th>\n",
       "      <th>timestamp</th>\n",
       "      <th>source</th>\n",
       "      <th>text</th>\n",
       "      <th>expanded_urls</th>\n",
       "      <th>rating_numerator</th>\n",
       "      <th>rating_denominator</th>\n",
       "      <th>...</th>\n",
       "      <th>golden_retriever</th>\n",
       "      <th>malamute</th>\n",
       "      <th>pug</th>\n",
       "      <th>toy_poodle</th>\n",
       "      <th>Unidentified</th>\n",
       "      <th>pupper</th>\n",
       "      <th>doggo</th>\n",
       "      <th>puppo</th>\n",
       "      <th>floofer</th>\n",
       "      <th>absolute_ratings</th>\n",
       "    </tr>\n",
       "  </thead>\n",
       "  <tbody>\n",
       "    <tr>\n",
       "      <th>0</th>\n",
       "      <td>1</td>\n",
       "      <td>892177421306343426</td>\n",
       "      <td>NaN</td>\n",
       "      <td>NaN</td>\n",
       "      <td>2017-08-01 00:17:27+00:00</td>\n",
       "      <td>&lt;a href=\"http://twitter.com/download/iphone\" rel=\"nofollow\"&gt;Twitter for iPhone&lt;/a&gt;</td>\n",
       "      <td>This is Tilly. She's just checking pup on you. Hopes you're doing ok. If not, she's available for pats, snugs, boops, the whole bit.</td>\n",
       "      <td>https://twitter.com/dog_rates/status/892177421306343426/photo/1</td>\n",
       "      <td>13.0</td>\n",
       "      <td>10</td>\n",
       "      <td>...</td>\n",
       "      <td>0</td>\n",
       "      <td>0</td>\n",
       "      <td>0</td>\n",
       "      <td>0</td>\n",
       "      <td>1</td>\n",
       "      <td>0</td>\n",
       "      <td>0</td>\n",
       "      <td>0</td>\n",
       "      <td>0</td>\n",
       "      <td>1.3</td>\n",
       "    </tr>\n",
       "    <tr>\n",
       "      <th>1</th>\n",
       "      <td>2</td>\n",
       "      <td>891815181378084864</td>\n",
       "      <td>NaN</td>\n",
       "      <td>NaN</td>\n",
       "      <td>2017-07-31 00:18:03+00:00</td>\n",
       "      <td>&lt;a href=\"http://twitter.com/download/iphone\" rel=\"nofollow\"&gt;Twitter for iPhone&lt;/a&gt;</td>\n",
       "      <td>This is Archie. He is a rare Norwegian Pouncing Corgo. Lives in the tall grass. You never know when one may strike.</td>\n",
       "      <td>https://twitter.com/dog_rates/status/891815181378084864/photo/1</td>\n",
       "      <td>12.0</td>\n",
       "      <td>10</td>\n",
       "      <td>...</td>\n",
       "      <td>0</td>\n",
       "      <td>0</td>\n",
       "      <td>0</td>\n",
       "      <td>0</td>\n",
       "      <td>1</td>\n",
       "      <td>0</td>\n",
       "      <td>0</td>\n",
       "      <td>0</td>\n",
       "      <td>0</td>\n",
       "      <td>1.2</td>\n",
       "    </tr>\n",
       "    <tr>\n",
       "      <th>2</th>\n",
       "      <td>7</td>\n",
       "      <td>890729181411237888</td>\n",
       "      <td>NaN</td>\n",
       "      <td>NaN</td>\n",
       "      <td>2017-07-28 00:22:40+00:00</td>\n",
       "      <td>&lt;a href=\"http://twitter.com/download/iphone\" rel=\"nofollow\"&gt;Twitter for iPhone&lt;/a&gt;</td>\n",
       "      <td>When you watch your owner call another dog a good boy but then they turn back to you and say you're a great boy.</td>\n",
       "      <td>https://twitter.com/dog_rates/status/890729181411237888/photo/1,https://twitter.com/dog_rates/status/890729181411237888/photo/1</td>\n",
       "      <td>13.0</td>\n",
       "      <td>10</td>\n",
       "      <td>...</td>\n",
       "      <td>0</td>\n",
       "      <td>0</td>\n",
       "      <td>0</td>\n",
       "      <td>0</td>\n",
       "      <td>1</td>\n",
       "      <td>0</td>\n",
       "      <td>0</td>\n",
       "      <td>0</td>\n",
       "      <td>0</td>\n",
       "      <td>1.3</td>\n",
       "    </tr>\n",
       "    <tr>\n",
       "      <th>3</th>\n",
       "      <td>9</td>\n",
       "      <td>890240255349198849</td>\n",
       "      <td>NaN</td>\n",
       "      <td>NaN</td>\n",
       "      <td>2017-07-26 15:59:51+00:00</td>\n",
       "      <td>&lt;a href=\"http://twitter.com/download/iphone\" rel=\"nofollow\"&gt;Twitter for iPhone&lt;/a&gt;</td>\n",
       "      <td>This is Cassie. She is a college pup. Studying international doggo communication and stick theory.</td>\n",
       "      <td>https://twitter.com/dog_rates/status/890240255349198849/photo/1</td>\n",
       "      <td>14.0</td>\n",
       "      <td>10</td>\n",
       "      <td>...</td>\n",
       "      <td>0</td>\n",
       "      <td>0</td>\n",
       "      <td>0</td>\n",
       "      <td>0</td>\n",
       "      <td>0</td>\n",
       "      <td>1</td>\n",
       "      <td>0</td>\n",
       "      <td>0</td>\n",
       "      <td>0</td>\n",
       "      <td>1.4</td>\n",
       "    </tr>\n",
       "    <tr>\n",
       "      <th>4</th>\n",
       "      <td>10</td>\n",
       "      <td>890006608113172480</td>\n",
       "      <td>NaN</td>\n",
       "      <td>NaN</td>\n",
       "      <td>2017-07-26 00:31:25+00:00</td>\n",
       "      <td>&lt;a href=\"http://twitter.com/download/iphone\" rel=\"nofollow\"&gt;Twitter for iPhone&lt;/a&gt;</td>\n",
       "      <td>This is Koda. He is a South Australian deckshark. Deceptively deadly. Frighteningly majestic.</td>\n",
       "      <td>https://twitter.com/dog_rates/status/890006608113172480/photo/1,https://twitter.com/dog_rates/status/890006608113172480/photo/1</td>\n",
       "      <td>13.0</td>\n",
       "      <td>10</td>\n",
       "      <td>...</td>\n",
       "      <td>0</td>\n",
       "      <td>0</td>\n",
       "      <td>0</td>\n",
       "      <td>0</td>\n",
       "      <td>1</td>\n",
       "      <td>0</td>\n",
       "      <td>0</td>\n",
       "      <td>0</td>\n",
       "      <td>0</td>\n",
       "      <td>1.3</td>\n",
       "    </tr>\n",
       "    <tr>\n",
       "      <th>...</th>\n",
       "      <td>...</td>\n",
       "      <td>...</td>\n",
       "      <td>...</td>\n",
       "      <td>...</td>\n",
       "      <td>...</td>\n",
       "      <td>...</td>\n",
       "      <td>...</td>\n",
       "      <td>...</td>\n",
       "      <td>...</td>\n",
       "      <td>...</td>\n",
       "      <td>...</td>\n",
       "      <td>...</td>\n",
       "      <td>...</td>\n",
       "      <td>...</td>\n",
       "      <td>...</td>\n",
       "      <td>...</td>\n",
       "      <td>...</td>\n",
       "      <td>...</td>\n",
       "      <td>...</td>\n",
       "      <td>...</td>\n",
       "      <td>...</td>\n",
       "    </tr>\n",
       "    <tr>\n",
       "      <th>632</th>\n",
       "      <td>1962</td>\n",
       "      <td>666353288456101888</td>\n",
       "      <td>NaN</td>\n",
       "      <td>NaN</td>\n",
       "      <td>2015-11-16 20:32:58+00:00</td>\n",
       "      <td>&lt;a href=\"http://twitter.com/download/iphone\" rel=\"nofollow\"&gt;Twitter for iPhone&lt;/a&gt;</td>\n",
       "      <td>Here we have a mixed Asiago from the Galápagos Islands. Only one ear working. Big fan of marijuana carpet.</td>\n",
       "      <td>https://twitter.com/dog_rates/status/666353288456101888/photo/1</td>\n",
       "      <td>8.0</td>\n",
       "      <td>10</td>\n",
       "      <td>...</td>\n",
       "      <td>0</td>\n",
       "      <td>1</td>\n",
       "      <td>0</td>\n",
       "      <td>0</td>\n",
       "      <td>1</td>\n",
       "      <td>0</td>\n",
       "      <td>0</td>\n",
       "      <td>0</td>\n",
       "      <td>0</td>\n",
       "      <td>0.8</td>\n",
       "    </tr>\n",
       "    <tr>\n",
       "      <th>633</th>\n",
       "      <td>1963</td>\n",
       "      <td>666345417576210432</td>\n",
       "      <td>NaN</td>\n",
       "      <td>NaN</td>\n",
       "      <td>2015-11-16 20:01:42+00:00</td>\n",
       "      <td>&lt;a href=\"http://twitter.com/download/iphone\" rel=\"nofollow\"&gt;Twitter for iPhone&lt;/a&gt;</td>\n",
       "      <td>Look at this jokester thinking seat belt laws don't apply to him. Great tongue tho</td>\n",
       "      <td>https://twitter.com/dog_rates/status/666345417576210432/photo/1</td>\n",
       "      <td>10.0</td>\n",
       "      <td>10</td>\n",
       "      <td>...</td>\n",
       "      <td>1</td>\n",
       "      <td>0</td>\n",
       "      <td>0</td>\n",
       "      <td>0</td>\n",
       "      <td>1</td>\n",
       "      <td>0</td>\n",
       "      <td>0</td>\n",
       "      <td>0</td>\n",
       "      <td>0</td>\n",
       "      <td>1.0</td>\n",
       "    </tr>\n",
       "    <tr>\n",
       "      <th>634</th>\n",
       "      <td>1973</td>\n",
       "      <td>666082916733198337</td>\n",
       "      <td>NaN</td>\n",
       "      <td>NaN</td>\n",
       "      <td>2015-11-16 02:38:37+00:00</td>\n",
       "      <td>&lt;a href=\"http://twitter.com/download/iphone\" rel=\"nofollow\"&gt;Twitter for iPhone&lt;/a&gt;</td>\n",
       "      <td>Here we have a well-established sunblockerspaniel. Lost his other flip-flop.</td>\n",
       "      <td>https://twitter.com/dog_rates/status/666082916733198337/photo/1</td>\n",
       "      <td>6.0</td>\n",
       "      <td>10</td>\n",
       "      <td>...</td>\n",
       "      <td>0</td>\n",
       "      <td>0</td>\n",
       "      <td>1</td>\n",
       "      <td>0</td>\n",
       "      <td>1</td>\n",
       "      <td>0</td>\n",
       "      <td>0</td>\n",
       "      <td>0</td>\n",
       "      <td>0</td>\n",
       "      <td>0.6</td>\n",
       "    </tr>\n",
       "    <tr>\n",
       "      <th>635</th>\n",
       "      <td>1976</td>\n",
       "      <td>666063827256086533</td>\n",
       "      <td>NaN</td>\n",
       "      <td>NaN</td>\n",
       "      <td>2015-11-16 01:22:45+00:00</td>\n",
       "      <td>&lt;a href=\"http://twitter.com/download/iphone\" rel=\"nofollow\"&gt;Twitter for iPhone&lt;/a&gt;</td>\n",
       "      <td>This is the happiest dog you will ever see. Very committed owner. Nice couch.</td>\n",
       "      <td>https://twitter.com/dog_rates/status/666063827256086533/photo/1</td>\n",
       "      <td>10.0</td>\n",
       "      <td>10</td>\n",
       "      <td>...</td>\n",
       "      <td>1</td>\n",
       "      <td>0</td>\n",
       "      <td>0</td>\n",
       "      <td>0</td>\n",
       "      <td>1</td>\n",
       "      <td>0</td>\n",
       "      <td>0</td>\n",
       "      <td>0</td>\n",
       "      <td>0</td>\n",
       "      <td>1.0</td>\n",
       "    </tr>\n",
       "    <tr>\n",
       "      <th>636</th>\n",
       "      <td>1979</td>\n",
       "      <td>666055525042405380</td>\n",
       "      <td>NaN</td>\n",
       "      <td>NaN</td>\n",
       "      <td>2015-11-16 00:49:46+00:00</td>\n",
       "      <td>&lt;a href=\"http://twitter.com/download/iphone\" rel=\"nofollow\"&gt;Twitter for iPhone&lt;/a&gt;</td>\n",
       "      <td>Here is a Siberian heavily armored polar bear mix. Strong owner.</td>\n",
       "      <td>https://twitter.com/dog_rates/status/666055525042405380/photo/1</td>\n",
       "      <td>10.0</td>\n",
       "      <td>10</td>\n",
       "      <td>...</td>\n",
       "      <td>0</td>\n",
       "      <td>0</td>\n",
       "      <td>0</td>\n",
       "      <td>0</td>\n",
       "      <td>1</td>\n",
       "      <td>0</td>\n",
       "      <td>0</td>\n",
       "      <td>0</td>\n",
       "      <td>0</td>\n",
       "      <td>1.0</td>\n",
       "    </tr>\n",
       "  </tbody>\n",
       "</table>\n",
       "<p>643 rows × 41 columns</p>\n",
       "</div>"
      ],
      "text/plain": [
       "     level_0            tweet_id  in_reply_to_status_id  in_reply_to_user_id  \\\n",
       "0          1  892177421306343426                    NaN                  NaN   \n",
       "1          2  891815181378084864                    NaN                  NaN   \n",
       "2          7  890729181411237888                    NaN                  NaN   \n",
       "3          9  890240255349198849                    NaN                  NaN   \n",
       "4         10  890006608113172480                    NaN                  NaN   \n",
       "..       ...                 ...                    ...                  ...   \n",
       "632     1962  666353288456101888                    NaN                  NaN   \n",
       "633     1963  666345417576210432                    NaN                  NaN   \n",
       "634     1973  666082916733198337                    NaN                  NaN   \n",
       "635     1976  666063827256086533                    NaN                  NaN   \n",
       "636     1979  666055525042405380                    NaN                  NaN   \n",
       "\n",
       "                    timestamp  \\\n",
       "0   2017-08-01 00:17:27+00:00   \n",
       "1   2017-07-31 00:18:03+00:00   \n",
       "2   2017-07-28 00:22:40+00:00   \n",
       "3   2017-07-26 15:59:51+00:00   \n",
       "4   2017-07-26 00:31:25+00:00   \n",
       "..                        ...   \n",
       "632 2015-11-16 20:32:58+00:00   \n",
       "633 2015-11-16 20:01:42+00:00   \n",
       "634 2015-11-16 02:38:37+00:00   \n",
       "635 2015-11-16 01:22:45+00:00   \n",
       "636 2015-11-16 00:49:46+00:00   \n",
       "\n",
       "                                                                                 source  \\\n",
       "0    <a href=\"http://twitter.com/download/iphone\" rel=\"nofollow\">Twitter for iPhone</a>   \n",
       "1    <a href=\"http://twitter.com/download/iphone\" rel=\"nofollow\">Twitter for iPhone</a>   \n",
       "2    <a href=\"http://twitter.com/download/iphone\" rel=\"nofollow\">Twitter for iPhone</a>   \n",
       "3    <a href=\"http://twitter.com/download/iphone\" rel=\"nofollow\">Twitter for iPhone</a>   \n",
       "4    <a href=\"http://twitter.com/download/iphone\" rel=\"nofollow\">Twitter for iPhone</a>   \n",
       "..                                                                                  ...   \n",
       "632  <a href=\"http://twitter.com/download/iphone\" rel=\"nofollow\">Twitter for iPhone</a>   \n",
       "633  <a href=\"http://twitter.com/download/iphone\" rel=\"nofollow\">Twitter for iPhone</a>   \n",
       "634  <a href=\"http://twitter.com/download/iphone\" rel=\"nofollow\">Twitter for iPhone</a>   \n",
       "635  <a href=\"http://twitter.com/download/iphone\" rel=\"nofollow\">Twitter for iPhone</a>   \n",
       "636  <a href=\"http://twitter.com/download/iphone\" rel=\"nofollow\">Twitter for iPhone</a>   \n",
       "\n",
       "                                                                                                                                      text  \\\n",
       "0    This is Tilly. She's just checking pup on you. Hopes you're doing ok. If not, she's available for pats, snugs, boops, the whole bit.    \n",
       "1                     This is Archie. He is a rare Norwegian Pouncing Corgo. Lives in the tall grass. You never know when one may strike.    \n",
       "2                        When you watch your owner call another dog a good boy but then they turn back to you and say you're a great boy.    \n",
       "3                                      This is Cassie. She is a college pup. Studying international doggo communication and stick theory.    \n",
       "4                                           This is Koda. He is a South Australian deckshark. Deceptively deadly. Frighteningly majestic.    \n",
       "..                                                                                                                                     ...   \n",
       "632                            Here we have a mixed Asiago from the Galápagos Islands. Only one ear working. Big fan of marijuana carpet.    \n",
       "633                                                    Look at this jokester thinking seat belt laws don't apply to him. Great tongue tho    \n",
       "634                                                          Here we have a well-established sunblockerspaniel. Lost his other flip-flop.    \n",
       "635                                                         This is the happiest dog you will ever see. Very committed owner. Nice couch.    \n",
       "636                                                                      Here is a Siberian heavily armored polar bear mix. Strong owner.    \n",
       "\n",
       "                                                                                                                       expanded_urls  \\\n",
       "0                                                                    https://twitter.com/dog_rates/status/892177421306343426/photo/1   \n",
       "1                                                                    https://twitter.com/dog_rates/status/891815181378084864/photo/1   \n",
       "2    https://twitter.com/dog_rates/status/890729181411237888/photo/1,https://twitter.com/dog_rates/status/890729181411237888/photo/1   \n",
       "3                                                                    https://twitter.com/dog_rates/status/890240255349198849/photo/1   \n",
       "4    https://twitter.com/dog_rates/status/890006608113172480/photo/1,https://twitter.com/dog_rates/status/890006608113172480/photo/1   \n",
       "..                                                                                                                               ...   \n",
       "632                                                                  https://twitter.com/dog_rates/status/666353288456101888/photo/1   \n",
       "633                                                                  https://twitter.com/dog_rates/status/666345417576210432/photo/1   \n",
       "634                                                                  https://twitter.com/dog_rates/status/666082916733198337/photo/1   \n",
       "635                                                                  https://twitter.com/dog_rates/status/666063827256086533/photo/1   \n",
       "636                                                                  https://twitter.com/dog_rates/status/666055525042405380/photo/1   \n",
       "\n",
       "     rating_numerator  rating_denominator  ... golden_retriever malamute  pug  \\\n",
       "0                13.0                  10  ...                0        0    0   \n",
       "1                12.0                  10  ...                0        0    0   \n",
       "2                13.0                  10  ...                0        0    0   \n",
       "3                14.0                  10  ...                0        0    0   \n",
       "4                13.0                  10  ...                0        0    0   \n",
       "..                ...                 ...  ...              ...      ...  ...   \n",
       "632               8.0                  10  ...                0        1    0   \n",
       "633              10.0                  10  ...                1        0    0   \n",
       "634               6.0                  10  ...                0        0    1   \n",
       "635              10.0                  10  ...                1        0    0   \n",
       "636              10.0                  10  ...                0        0    0   \n",
       "\n",
       "     toy_poodle Unidentified  pupper doggo  puppo  floofer absolute_ratings  \n",
       "0             0            1       0     0      0        0              1.3  \n",
       "1             0            1       0     0      0        0              1.2  \n",
       "2             0            1       0     0      0        0              1.3  \n",
       "3             0            0       1     0      0        0              1.4  \n",
       "4             0            1       0     0      0        0              1.3  \n",
       "..          ...          ...     ...   ...    ...      ...              ...  \n",
       "632           0            1       0     0      0        0              0.8  \n",
       "633           0            1       0     0      0        0              1.0  \n",
       "634           0            1       0     0      0        0              0.6  \n",
       "635           0            1       0     0      0        0              1.0  \n",
       "636           0            1       0     0      0        0              1.0  \n",
       "\n",
       "[643 rows x 41 columns]"
      ]
     },
     "execution_count": 64,
     "metadata": {},
     "output_type": "execute_result"
    }
   ],
   "source": [
    "top_10_breeds_mod[list(top_10_breeds_mod.category.value_counts().index)] = pd.get_dummies(top_10_breeds_mod.category)\n",
    "top_10_breeds_mod['absolute_ratings'] = top_10_breeds_mod.rating_numerator/top_10_breeds_mod.rating_denominator\n",
    "top_10_breeds_mod"
   ]
  },
  {
   "cell_type": "markdown",
   "metadata": {},
   "source": [
    "### 4.1) Fitting the Machine Learning Model\n",
    "<a id = 'ml'></a>\n",
    "\n",
    "I'll be fitting a simple linear regression. More complex models are obviously possible but I haven't a clue in implementing them in python. So we'll only draw very simple conclusions based on the results"
   ]
  },
  {
   "cell_type": "code",
   "execution_count": 70,
   "metadata": {},
   "outputs": [
    {
     "data": {
      "text/html": [
       "<table class=\"simpletable\">\n",
       "<caption>OLS Regression Results</caption>\n",
       "<tr>\n",
       "  <th>Dep. Variable:</th>     <td>favorite_count</td>  <th>  R-squared:         </th> <td>   0.154</td> \n",
       "</tr>\n",
       "<tr>\n",
       "  <th>Model:</th>                   <td>OLS</td>       <th>  Adj. R-squared:    </th> <td>   0.135</td> \n",
       "</tr>\n",
       "<tr>\n",
       "  <th>Method:</th>             <td>Least Squares</td>  <th>  F-statistic:       </th> <td>   8.187</td> \n",
       "</tr>\n",
       "<tr>\n",
       "  <th>Date:</th>             <td>Thu, 24 Jun 2021</td> <th>  Prob (F-statistic):</th> <td>2.95e-16</td> \n",
       "</tr>\n",
       "<tr>\n",
       "  <th>Time:</th>                 <td>17:21:58</td>     <th>  Log-Likelihood:    </th> <td> -6931.2</td> \n",
       "</tr>\n",
       "<tr>\n",
       "  <th>No. Observations:</th>      <td>   643</td>      <th>  AIC:               </th> <td>1.389e+04</td>\n",
       "</tr>\n",
       "<tr>\n",
       "  <th>Df Residuals:</th>          <td>   628</td>      <th>  BIC:               </th> <td>1.396e+04</td>\n",
       "</tr>\n",
       "<tr>\n",
       "  <th>Df Model:</th>              <td>    14</td>      <th>                     </th>     <td> </td>    \n",
       "</tr>\n",
       "<tr>\n",
       "  <th>Covariance Type:</th>      <td>nonrobust</td>    <th>                     </th>     <td> </td>    \n",
       "</tr>\n",
       "</table>\n",
       "<table class=\"simpletable\">\n",
       "<tr>\n",
       "           <td></td>             <th>coef</th>     <th>std err</th>      <th>t</th>      <th>P>|t|</th>  <th>[0.025</th>    <th>0.975]</th>  \n",
       "</tr>\n",
       "<tr>\n",
       "  <th>Chihuahua</th>          <td> 2636.6931</td> <td> 2346.873</td> <td>    1.123</td> <td> 0.262</td> <td>-1971.975</td> <td> 7245.361</td>\n",
       "</tr>\n",
       "<tr>\n",
       "  <th>Labrador_retriever</th> <td> 3782.4170</td> <td> 2289.328</td> <td>    1.652</td> <td> 0.099</td> <td> -713.248</td> <td> 8278.082</td>\n",
       "</tr>\n",
       "<tr>\n",
       "  <th>Pembroke</th>           <td> 3368.9192</td> <td> 2307.141</td> <td>    1.460</td> <td> 0.145</td> <td>-1161.725</td> <td> 7899.563</td>\n",
       "</tr>\n",
       "<tr>\n",
       "  <th>Pomeranian</th>         <td>  818.6092</td> <td> 2722.952</td> <td>    0.301</td> <td> 0.764</td> <td>-4528.584</td> <td> 6165.802</td>\n",
       "</tr>\n",
       "<tr>\n",
       "  <th>Samoyed</th>            <td> 4474.8569</td> <td> 2718.016</td> <td>    1.646</td> <td> 0.100</td> <td> -862.643</td> <td> 9812.357</td>\n",
       "</tr>\n",
       "<tr>\n",
       "  <th>chow</th>               <td> 1664.0471</td> <td> 2679.465</td> <td>    0.621</td> <td> 0.535</td> <td>-3597.749</td> <td> 6925.843</td>\n",
       "</tr>\n",
       "<tr>\n",
       "  <th>golden_retriever</th>   <td> 3016.7659</td> <td> 2188.238</td> <td>    1.379</td> <td> 0.169</td> <td>-1280.383</td> <td> 7313.915</td>\n",
       "</tr>\n",
       "<tr>\n",
       "  <th>malamute</th>           <td> 2213.1133</td> <td> 2921.663</td> <td>    0.757</td> <td> 0.449</td> <td>-3524.298</td> <td> 7950.524</td>\n",
       "</tr>\n",
       "<tr>\n",
       "  <th>pug</th>                <td> 1468.9684</td> <td> 2520.025</td> <td>    0.583</td> <td> 0.560</td> <td>-3479.728</td> <td> 6417.665</td>\n",
       "</tr>\n",
       "<tr>\n",
       "  <th>pupper</th>             <td>  1.01e+04</td> <td> 2458.004</td> <td>    4.109</td> <td> 0.000</td> <td> 5272.707</td> <td> 1.49e+04</td>\n",
       "</tr>\n",
       "<tr>\n",
       "  <th>doggo</th>              <td> 2637.5371</td> <td> 5353.620</td> <td>    0.493</td> <td> 0.622</td> <td>-7875.626</td> <td> 1.32e+04</td>\n",
       "</tr>\n",
       "<tr>\n",
       "  <th>puppo</th>              <td>-1994.7464</td> <td> 1448.359</td> <td>   -1.377</td> <td> 0.169</td> <td>-4838.960</td> <td>  849.468</td>\n",
       "</tr>\n",
       "<tr>\n",
       "  <th>floofer</th>            <td> 3983.1399</td> <td> 4212.295</td> <td>    0.946</td> <td> 0.345</td> <td>-4288.749</td> <td> 1.23e+04</td>\n",
       "</tr>\n",
       "<tr>\n",
       "  <th>absolute_ratings</th>   <td> 2.256e+04</td> <td> 2731.419</td> <td>    8.259</td> <td> 0.000</td> <td> 1.72e+04</td> <td> 2.79e+04</td>\n",
       "</tr>\n",
       "<tr>\n",
       "  <th>intercept</th>          <td>-1.911e+04</td> <td> 3590.768</td> <td>   -5.321</td> <td> 0.000</td> <td>-2.62e+04</td> <td>-1.21e+04</td>\n",
       "</tr>\n",
       "</table>\n",
       "<table class=\"simpletable\">\n",
       "<tr>\n",
       "  <th>Omnibus:</th>       <td>606.741</td> <th>  Durbin-Watson:     </th> <td>   1.564</td> \n",
       "</tr>\n",
       "<tr>\n",
       "  <th>Prob(Omnibus):</th> <td> 0.000</td>  <th>  Jarque-Bera (JB):  </th> <td>30819.354</td>\n",
       "</tr>\n",
       "<tr>\n",
       "  <th>Skew:</th>          <td> 4.065</td>  <th>  Prob(JB):          </th> <td>    0.00</td> \n",
       "</tr>\n",
       "<tr>\n",
       "  <th>Kurtosis:</th>      <td>35.928</td>  <th>  Cond. No.          </th> <td>    21.6</td> \n",
       "</tr>\n",
       "</table><br/><br/>Notes:<br/>[1] Standard Errors assume that the covariance matrix of the errors is correctly specified."
      ],
      "text/plain": [
       "<class 'statsmodels.iolib.summary.Summary'>\n",
       "\"\"\"\n",
       "                            OLS Regression Results                            \n",
       "==============================================================================\n",
       "Dep. Variable:         favorite_count   R-squared:                       0.154\n",
       "Model:                            OLS   Adj. R-squared:                  0.135\n",
       "Method:                 Least Squares   F-statistic:                     8.187\n",
       "Date:                Thu, 24 Jun 2021   Prob (F-statistic):           2.95e-16\n",
       "Time:                        17:21:58   Log-Likelihood:                -6931.2\n",
       "No. Observations:                 643   AIC:                         1.389e+04\n",
       "Df Residuals:                     628   BIC:                         1.396e+04\n",
       "Df Model:                          14                                         \n",
       "Covariance Type:            nonrobust                                         \n",
       "======================================================================================\n",
       "                         coef    std err          t      P>|t|      [0.025      0.975]\n",
       "--------------------------------------------------------------------------------------\n",
       "Chihuahua           2636.6931   2346.873      1.123      0.262   -1971.975    7245.361\n",
       "Labrador_retriever  3782.4170   2289.328      1.652      0.099    -713.248    8278.082\n",
       "Pembroke            3368.9192   2307.141      1.460      0.145   -1161.725    7899.563\n",
       "Pomeranian           818.6092   2722.952      0.301      0.764   -4528.584    6165.802\n",
       "Samoyed             4474.8569   2718.016      1.646      0.100    -862.643    9812.357\n",
       "chow                1664.0471   2679.465      0.621      0.535   -3597.749    6925.843\n",
       "golden_retriever    3016.7659   2188.238      1.379      0.169   -1280.383    7313.915\n",
       "malamute            2213.1133   2921.663      0.757      0.449   -3524.298    7950.524\n",
       "pug                 1468.9684   2520.025      0.583      0.560   -3479.728    6417.665\n",
       "pupper               1.01e+04   2458.004      4.109      0.000    5272.707    1.49e+04\n",
       "doggo               2637.5371   5353.620      0.493      0.622   -7875.626    1.32e+04\n",
       "puppo              -1994.7464   1448.359     -1.377      0.169   -4838.960     849.468\n",
       "floofer             3983.1399   4212.295      0.946      0.345   -4288.749    1.23e+04\n",
       "absolute_ratings    2.256e+04   2731.419      8.259      0.000    1.72e+04    2.79e+04\n",
       "intercept          -1.911e+04   3590.768     -5.321      0.000   -2.62e+04   -1.21e+04\n",
       "==============================================================================\n",
       "Omnibus:                      606.741   Durbin-Watson:                   1.564\n",
       "Prob(Omnibus):                  0.000   Jarque-Bera (JB):            30819.354\n",
       "Skew:                           4.065   Prob(JB):                         0.00\n",
       "Kurtosis:                      35.928   Cond. No.                         21.6\n",
       "==============================================================================\n",
       "\n",
       "Notes:\n",
       "[1] Standard Errors assume that the covariance matrix of the errors is correctly specified.\n",
       "\"\"\""
      ]
     },
     "execution_count": 70,
     "metadata": {},
     "output_type": "execute_result"
    }
   ],
   "source": [
    "top_10_breeds_mod['intercept'] = 1\n",
    "params = list(top_10_breeds_mod.iloc[:,-17:].columns)\n",
    "params = [i for i in params if i not in ['toy_poodle','Unidentified']]\n",
    "lm = sm.OLS(top_10_breeds_mod['favorite_count'], top_10_breeds_mod[params])\n",
    "results = lm.fit()\n",
    "results.summary()"
   ]
  },
  {
   "cell_type": "markdown",
   "metadata": {},
   "source": [
    "Most of the p values are above the alpha value (assumed 5% in this case). This means we cannot reject the null hypothesis that breeds other than `toy poodle`, categories other than `Unidentified` result in greater favorite counts. We can however roughly gauge which features are negatively and positively correlated with the dependent variable with respect to the baseline. This inabilility to draw conclusions stems from the fact that we don't have enough data "
   ]
  },
  {
   "cell_type": "markdown",
   "metadata": {},
   "source": [
    "Similarly, we can fit a regression line for `retweet_count`."
   ]
  },
  {
   "cell_type": "code",
   "execution_count": 71,
   "metadata": {},
   "outputs": [
    {
     "data": {
      "text/html": [
       "<table class=\"simpletable\">\n",
       "<caption>OLS Regression Results</caption>\n",
       "<tr>\n",
       "  <th>Dep. Variable:</th>      <td>retweet_count</td>  <th>  R-squared:         </th> <td>   0.095</td> \n",
       "</tr>\n",
       "<tr>\n",
       "  <th>Model:</th>                   <td>OLS</td>       <th>  Adj. R-squared:    </th> <td>   0.075</td> \n",
       "</tr>\n",
       "<tr>\n",
       "  <th>Method:</th>             <td>Least Squares</td>  <th>  F-statistic:       </th> <td>   4.711</td> \n",
       "</tr>\n",
       "<tr>\n",
       "  <th>Date:</th>             <td>Thu, 24 Jun 2021</td> <th>  Prob (F-statistic):</th> <td>3.06e-08</td> \n",
       "</tr>\n",
       "<tr>\n",
       "  <th>Time:</th>                 <td>17:22:30</td>     <th>  Log-Likelihood:    </th> <td> -6313.4</td> \n",
       "</tr>\n",
       "<tr>\n",
       "  <th>No. Observations:</th>      <td>   643</td>      <th>  AIC:               </th> <td>1.266e+04</td>\n",
       "</tr>\n",
       "<tr>\n",
       "  <th>Df Residuals:</th>          <td>   628</td>      <th>  BIC:               </th> <td>1.272e+04</td>\n",
       "</tr>\n",
       "<tr>\n",
       "  <th>Df Model:</th>              <td>    14</td>      <th>                     </th>     <td> </td>    \n",
       "</tr>\n",
       "<tr>\n",
       "  <th>Covariance Type:</th>      <td>nonrobust</td>    <th>                     </th>     <td> </td>    \n",
       "</tr>\n",
       "</table>\n",
       "<table class=\"simpletable\">\n",
       "<tr>\n",
       "           <td></td>             <th>coef</th>     <th>std err</th>      <th>t</th>      <th>P>|t|</th>  <th>[0.025</th>    <th>0.975]</th>  \n",
       "</tr>\n",
       "<tr>\n",
       "  <th>Chihuahua</th>          <td>  501.3145</td> <td>  897.816</td> <td>    0.558</td> <td> 0.577</td> <td>-1261.769</td> <td> 2264.399</td>\n",
       "</tr>\n",
       "<tr>\n",
       "  <th>Labrador_retriever</th> <td>  889.2903</td> <td>  875.801</td> <td>    1.015</td> <td> 0.310</td> <td> -830.563</td> <td> 2609.144</td>\n",
       "</tr>\n",
       "<tr>\n",
       "  <th>Pembroke</th>           <td>  360.0787</td> <td>  882.616</td> <td>    0.408</td> <td> 0.683</td> <td>-1373.157</td> <td> 2093.314</td>\n",
       "</tr>\n",
       "<tr>\n",
       "  <th>Pomeranian</th>         <td>   74.8115</td> <td> 1041.688</td> <td>    0.072</td> <td> 0.943</td> <td>-1970.802</td> <td> 2120.425</td>\n",
       "</tr>\n",
       "<tr>\n",
       "  <th>Samoyed</th>            <td> 1260.7074</td> <td> 1039.800</td> <td>    1.212</td> <td> 0.226</td> <td> -781.198</td> <td> 3302.612</td>\n",
       "</tr>\n",
       "<tr>\n",
       "  <th>chow</th>               <td>   26.3996</td> <td> 1025.052</td> <td>    0.026</td> <td> 0.979</td> <td>-1986.544</td> <td> 2039.343</td>\n",
       "</tr>\n",
       "<tr>\n",
       "  <th>golden_retriever</th>   <td>  336.4956</td> <td>  837.128</td> <td>    0.402</td> <td> 0.688</td> <td>-1307.414</td> <td> 1980.405</td>\n",
       "</tr>\n",
       "<tr>\n",
       "  <th>malamute</th>           <td>  217.1938</td> <td> 1117.706</td> <td>    0.194</td> <td> 0.846</td> <td>-1977.700</td> <td> 2412.088</td>\n",
       "</tr>\n",
       "<tr>\n",
       "  <th>pug</th>                <td>    7.7316</td> <td>  964.057</td> <td>    0.008</td> <td> 0.994</td> <td>-1885.433</td> <td> 1900.896</td>\n",
       "</tr>\n",
       "<tr>\n",
       "  <th>pupper</th>             <td> 4063.5135</td> <td>  940.330</td> <td>    4.321</td> <td> 0.000</td> <td> 2216.942</td> <td> 5910.085</td>\n",
       "</tr>\n",
       "<tr>\n",
       "  <th>doggo</th>              <td> 1744.2760</td> <td> 2048.071</td> <td>    0.852</td> <td> 0.395</td> <td>-2277.622</td> <td> 5766.174</td>\n",
       "</tr>\n",
       "<tr>\n",
       "  <th>puppo</th>              <td> -219.3288</td> <td>  554.082</td> <td>   -0.396</td> <td> 0.692</td> <td>-1307.406</td> <td>  868.749</td>\n",
       "</tr>\n",
       "<tr>\n",
       "  <th>floofer</th>            <td>  124.7034</td> <td> 1611.448</td> <td>    0.077</td> <td> 0.938</td> <td>-3039.776</td> <td> 3289.183</td>\n",
       "</tr>\n",
       "<tr>\n",
       "  <th>absolute_ratings</th>   <td> 5873.2468</td> <td> 1044.927</td> <td>    5.621</td> <td> 0.000</td> <td> 3821.273</td> <td> 7925.220</td>\n",
       "</tr>\n",
       "<tr>\n",
       "  <th>intercept</th>          <td>-4477.5263</td> <td> 1373.678</td> <td>   -3.260</td> <td> 0.001</td> <td>-7175.085</td> <td>-1779.968</td>\n",
       "</tr>\n",
       "</table>\n",
       "<table class=\"simpletable\">\n",
       "<tr>\n",
       "  <th>Omnibus:</th>       <td>931.572</td> <th>  Durbin-Watson:     </th>  <td>   1.875</td> \n",
       "</tr>\n",
       "<tr>\n",
       "  <th>Prob(Omnibus):</th> <td> 0.000</td>  <th>  Jarque-Bera (JB):  </th> <td>255202.997</td>\n",
       "</tr>\n",
       "<tr>\n",
       "  <th>Skew:</th>          <td> 7.826</td>  <th>  Prob(JB):          </th>  <td>    0.00</td> \n",
       "</tr>\n",
       "<tr>\n",
       "  <th>Kurtosis:</th>      <td>99.335</td>  <th>  Cond. No.          </th>  <td>    21.6</td> \n",
       "</tr>\n",
       "</table><br/><br/>Notes:<br/>[1] Standard Errors assume that the covariance matrix of the errors is correctly specified."
      ],
      "text/plain": [
       "<class 'statsmodels.iolib.summary.Summary'>\n",
       "\"\"\"\n",
       "                            OLS Regression Results                            \n",
       "==============================================================================\n",
       "Dep. Variable:          retweet_count   R-squared:                       0.095\n",
       "Model:                            OLS   Adj. R-squared:                  0.075\n",
       "Method:                 Least Squares   F-statistic:                     4.711\n",
       "Date:                Thu, 24 Jun 2021   Prob (F-statistic):           3.06e-08\n",
       "Time:                        17:22:30   Log-Likelihood:                -6313.4\n",
       "No. Observations:                 643   AIC:                         1.266e+04\n",
       "Df Residuals:                     628   BIC:                         1.272e+04\n",
       "Df Model:                          14                                         \n",
       "Covariance Type:            nonrobust                                         \n",
       "======================================================================================\n",
       "                         coef    std err          t      P>|t|      [0.025      0.975]\n",
       "--------------------------------------------------------------------------------------\n",
       "Chihuahua            501.3145    897.816      0.558      0.577   -1261.769    2264.399\n",
       "Labrador_retriever   889.2903    875.801      1.015      0.310    -830.563    2609.144\n",
       "Pembroke             360.0787    882.616      0.408      0.683   -1373.157    2093.314\n",
       "Pomeranian            74.8115   1041.688      0.072      0.943   -1970.802    2120.425\n",
       "Samoyed             1260.7074   1039.800      1.212      0.226    -781.198    3302.612\n",
       "chow                  26.3996   1025.052      0.026      0.979   -1986.544    2039.343\n",
       "golden_retriever     336.4956    837.128      0.402      0.688   -1307.414    1980.405\n",
       "malamute             217.1938   1117.706      0.194      0.846   -1977.700    2412.088\n",
       "pug                    7.7316    964.057      0.008      0.994   -1885.433    1900.896\n",
       "pupper              4063.5135    940.330      4.321      0.000    2216.942    5910.085\n",
       "doggo               1744.2760   2048.071      0.852      0.395   -2277.622    5766.174\n",
       "puppo               -219.3288    554.082     -0.396      0.692   -1307.406     868.749\n",
       "floofer              124.7034   1611.448      0.077      0.938   -3039.776    3289.183\n",
       "absolute_ratings    5873.2468   1044.927      5.621      0.000    3821.273    7925.220\n",
       "intercept          -4477.5263   1373.678     -3.260      0.001   -7175.085   -1779.968\n",
       "==============================================================================\n",
       "Omnibus:                      931.572   Durbin-Watson:                   1.875\n",
       "Prob(Omnibus):                  0.000   Jarque-Bera (JB):           255202.997\n",
       "Skew:                           7.826   Prob(JB):                         0.00\n",
       "Kurtosis:                      99.335   Cond. No.                         21.6\n",
       "==============================================================================\n",
       "\n",
       "Notes:\n",
       "[1] Standard Errors assume that the covariance matrix of the errors is correctly specified.\n",
       "\"\"\""
      ]
     },
     "execution_count": 71,
     "metadata": {},
     "output_type": "execute_result"
    }
   ],
   "source": [
    "lm = sm.OLS(top_10_breeds_mod['retweet_count'], top_10_breeds_mod[params])\n",
    "results = lm.fit()\n",
    "results.summary()"
   ]
  },
  {
   "cell_type": "markdown",
   "metadata": {},
   "source": [
    "Here again, results are not statistically significant due to the same reasons"
   ]
  },
  {
   "cell_type": "markdown",
   "metadata": {},
   "source": [
    "### Visualizing Heatmaps of Data Based on Dog Breed and Category\n",
    "<a id = 'heatmap'></a>"
   ]
  },
  {
   "cell_type": "code",
   "execution_count": 77,
   "metadata": {},
   "outputs": [
    {
     "data": {
      "image/png": "[encoded data removed]",
      "text/plain": [
       "<Figure size 720x720 with 2 Axes>"
      ]
     },
     "metadata": {
      "needs_background": "light"
     },
     "output_type": "display_data"
    }
   ],
   "source": [
    "# top_10_breeds_melt = pd.melt(top_10_breeds, id_vars=['favorite_count', 'retweet_count','p1'], value_vars=['category_1',''])\n",
    "pvt_db_cat = pd.pivot_table(top_10_breeds_mod, values = ['favorite_count'], index = ['p1'], columns = ['category'], aggfunc = np.mean)\n",
    "pvt_db_cat.fillna(0, inplace = True)\n",
    "\n",
    "sns.color_palette(\"magma\")\n",
    "fig, ax = plt.subplots(figsize=(10,10))\n",
    "sns.heatmap(pvt_db_cat);\n",
    "plt.xlabel(\"Category\");\n",
    "plt.ylabel(\"Dog Breed\");\n",
    "plt.xticks(ticks = np.arange(0.5, 5, 1), labels = ['Unidentified','Doggo','Floofer','Pupper','Puppo'])\n",
    "plt.title(\"Favorite Count by Dog Breed and Category\");"
   ]
  },
  {
   "cell_type": "markdown",
   "metadata": {},
   "source": [
    "Here we can observe that `Pembroke` in the `puppo` stage receives maximum number of likes. `Labrador Retriever` in `doggo` stage receives considerable likes. The safest option to go by is the `Golden Retriever` since it receives consistent favorites throughout its stages"
   ]
  },
  {
   "cell_type": "code",
   "execution_count": 78,
   "metadata": {},
   "outputs": [
    {
     "data": {
      "image/png": "[encoded data removed]",
      "text/plain": [
       "<Figure size 720x720 with 2 Axes>"
      ]
     },
     "metadata": {
      "needs_background": "light"
     },
     "output_type": "display_data"
    }
   ],
   "source": [
    "pvt_db_cat = pd.pivot_table(top_10_breeds_mod, values = ['retweet_count'], index = ['p1'], columns = ['category'], aggfunc = np.mean)\n",
    "pvt_db_cat.fillna(0, inplace = True)\n",
    "\n",
    "sns.color_palette(\"magma\")\n",
    "fig, ax = plt.subplots(figsize=(10,10))\n",
    "sns.heatmap(pvt_db_cat);\n",
    "plt.xlabel(\"Category\");\n",
    "plt.ylabel(\"Dog Breed\");\n",
    "plt.xticks(ticks = np.arange(0.5, 5, 1), labels = ['Unidentified','Doggo','Floofer','Pupper','Puppo'])\n",
    "plt.title(\"Favorite Count by Dog Breed and Category\");"
   ]
  },
  {
   "cell_type": "markdown",
   "metadata": {},
   "source": [
    "Similar stats are observed for `retweet_count` suggesting that `retweet_count` and `favorite_count` are positively correlated (pretty intuitive). Here as well `Golden Retriever` does consistently well across all its stages and `Labrador retriever` and `Pembroke` acheive high status in the `pupper` and `puppo` stages respectively. One may attribute the drop in performance of other dog breeds in specific stages to a lack of data for those breeds in those stages. This is a perfectly valid observation. "
   ]
  }
 ],
 "metadata": {
  "kernelspec": {
   "display_name": "Python 3",
   "language": "python",
   "name": "python3"
  },
  "language_info": {
   "codemirror_mode": {
    "name": "ipython",
    "version": 3
   },
   "file_extension": ".py",
   "mimetype": "text/x-python",
   "name": "python",
   "nbconvert_exporter": "python",
   "pygments_lexer": "ipython3",
   "version": "3.9.5"
  }
 },
 "nbformat": 4,
 "nbformat_minor": 2
}
